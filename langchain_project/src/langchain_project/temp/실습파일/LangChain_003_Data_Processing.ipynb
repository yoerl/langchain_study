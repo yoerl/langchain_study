{
 "cells": [
  {
   "cell_type": "markdown",
   "id": "9a898547",
   "metadata": {},
   "source": [
    "## 1. 환경 설정"
   ]
  },
  {
   "cell_type": "markdown",
   "id": "9e15f76c",
   "metadata": {},
   "source": [
    "`(1) Env 환경변수`"
   ]
  },
  {
   "cell_type": "code",
   "execution_count": 73,
   "id": "3f6d77f8",
   "metadata": {},
   "outputs": [
    {
     "data": {
      "text/plain": [
       "True"
      ]
     },
     "execution_count": 73,
     "metadata": {},
     "output_type": "execute_result"
    }
   ],
   "source": [
    "from dotenv import load_dotenv\n",
    "load_dotenv()"
   ]
  },
  {
   "cell_type": "markdown",
   "id": "0800c924",
   "metadata": {},
   "source": [
    "`(2) 기본 라이브러리`"
   ]
  },
  {
   "cell_type": "code",
   "execution_count": 2,
   "id": "bca641c2",
   "metadata": {},
   "outputs": [],
   "source": [
    "import os\n",
    "from glob import glob\n",
    "\n",
    "from pprint import pprint\n",
    "import json"
   ]
  },
  {
   "cell_type": "markdown",
   "id": "cee0237e",
   "metadata": {},
   "source": [
    "## 2. 다양한 문서 형식 처리하기"
   ]
  },
  {
   "cell_type": "markdown",
   "id": "26db4266",
   "metadata": {},
   "source": [
    "### 2.1 PDF 문서 "
   ]
  },
  {
   "cell_type": "code",
   "execution_count": 3,
   "id": "6650c629",
   "metadata": {},
   "outputs": [
    {
     "data": {
      "text/plain": [
       "15"
      ]
     },
     "execution_count": 3,
     "metadata": {},
     "output_type": "execute_result"
    }
   ],
   "source": [
    "from langchain_community.document_loaders import PyPDFLoader\n",
    "\n",
    "pdf_loader = PyPDFLoader('./data/transformer.pdf')\n",
    "pdf_docs = pdf_loader.load()\n",
    "\n",
    "len(pdf_docs)"
   ]
  },
  {
   "cell_type": "code",
   "execution_count": 4,
   "id": "12d92305",
   "metadata": {},
   "outputs": [
    {
     "data": {
      "text/plain": [
       "list"
      ]
     },
     "execution_count": 4,
     "metadata": {},
     "output_type": "execute_result"
    }
   ],
   "source": [
    "type(pdf_docs)"
   ]
  },
  {
   "cell_type": "code",
   "execution_count": 5,
   "id": "6d23dd27",
   "metadata": {},
   "outputs": [
    {
     "data": {
      "text/plain": [
       "Document(metadata={'source': './data/transformer.pdf', 'page': 0}, page_content='Provided proper attribution is provided, Google hereby grants permission to\\nreproduce the tables and figures in this paper solely for use in journalistic or\\nscholarly works.\\nAttention Is All You Need\\nAshish Vaswani∗\\nGoogle Brain\\navaswani@google.comNoam Shazeer∗\\nGoogle Brain\\nnoam@google.comNiki Parmar∗\\nGoogle Research\\nnikip@google.comJakob Uszkoreit∗\\nGoogle Research\\nusz@google.com\\nLlion Jones∗\\nGoogle Research\\nllion@google.comAidan N. Gomez∗ †\\nUniversity of Toronto\\naidan@cs.toronto.eduŁukasz Kaiser∗\\nGoogle Brain\\nlukaszkaiser@google.com\\nIllia Polosukhin∗ ‡\\nillia.polosukhin@gmail.com\\nAbstract\\nThe dominant sequence transduction models are based on complex recurrent or\\nconvolutional neural networks that include an encoder and a decoder. The best\\nperforming models also connect the encoder and decoder through an attention\\nmechanism. We propose a new simple network architecture, the Transformer,\\nbased solely on attention mechanisms, dispensing with recurrence and convolutions\\nentirely. Experiments on two machine translation tasks show these models to\\nbe superior in quality while being more parallelizable and requiring significantly\\nless time to train. Our model achieves 28.4 BLEU on the WMT 2014 English-\\nto-German translation task, improving over the existing best results, including\\nensembles, by over 2 BLEU. On the WMT 2014 English-to-French translation task,\\nour model establishes a new single-model state-of-the-art BLEU score of 41.8 after\\ntraining for 3.5 days on eight GPUs, a small fraction of the training costs of the\\nbest models from the literature. We show that the Transformer generalizes well to\\nother tasks by applying it successfully to English constituency parsing both with\\nlarge and limited training data.\\n∗Equal contribution. Listing order is random. Jakob proposed replacing RNNs with self-attention and started\\nthe effort to evaluate this idea. Ashish, with Illia, designed and implemented the first Transformer models and\\nhas been crucially involved in every aspect of this work. Noam proposed scaled dot-product attention, multi-head\\nattention and the parameter-free position representation and became the other person involved in nearly every\\ndetail. Niki designed, implemented, tuned and evaluated countless model variants in our original codebase and\\ntensor2tensor. Llion also experimented with novel model variants, was responsible for our initial codebase, and\\nefficient inference and visualizations. Lukasz and Aidan spent countless long days designing various parts of and\\nimplementing tensor2tensor, replacing our earlier codebase, greatly improving results and massively accelerating\\nour research.\\n†Work performed while at Google Brain.\\n‡Work performed while at Google Research.\\n31st Conference on Neural Information Processing Systems (NIPS 2017), Long Beach, CA, USA.arXiv:1706.03762v7  [cs.CL]  2 Aug 2023')"
      ]
     },
     "execution_count": 5,
     "metadata": {},
     "output_type": "execute_result"
    }
   ],
   "source": [
    "pdf_docs[0]"
   ]
  },
  {
   "cell_type": "code",
   "execution_count": 6,
   "id": "a414b9ba",
   "metadata": {},
   "outputs": [
    {
     "name": "stdout",
     "output_type": "stream",
     "text": [
      "{'source': './data/transformer.pdf', 'page': 0}\n"
     ]
    }
   ],
   "source": [
    "print(pdf_docs[0].metadata)"
   ]
  },
  {
   "cell_type": "code",
   "execution_count": 7,
   "id": "d6d394f1",
   "metadata": {},
   "outputs": [
    {
     "name": "stdout",
     "output_type": "stream",
     "text": [
      "Provided proper attribution is provided, Google hereby grants permission to\n",
      "reproduce the tables and figures in this paper solely for use in journalistic or\n",
      "scholarly works.\n",
      "Attention Is All You Need\n",
      "Ashish Vaswani∗\n",
      "Google Brain\n",
      "avaswani@google.comNoam Shazeer∗\n",
      "Google Brain\n",
      "noam@google.comNiki Parmar∗\n",
      "Google Research\n",
      "nikip@google.comJakob Uszkoreit∗\n",
      "Google Research\n",
      "usz@google.com\n",
      "Llion Jones∗\n",
      "Google Research\n",
      "llion@google.comAidan N. Gomez∗ †\n",
      "University of Toronto\n",
      "aidan@cs.toronto.eduŁukasz Kaiser∗\n",
      "Google Brain\n",
      "lukaszkaiser@google.com\n",
      "Illia Polosukhin∗ ‡\n",
      "illia.polosukhin@gmail.com\n",
      "Abstract\n",
      "The dominant sequence transduction models are based on complex recurrent or\n",
      "convolutional neural networks that include an encoder and a decoder. The best\n",
      "performing models also connect the encoder and decoder through an attention\n",
      "mechanism. We propose a new simple network architecture, the Transformer,\n",
      "based solely on attention mechanisms, dispensing with recurrence and convolutions\n",
      "entirely. Experiments on two machine translation tasks show these models to\n",
      "be superior in quality while being more parallelizable and requiring significantly\n",
      "less time to train. Our model achieves 28.4 BLEU on the WMT 2014 English-\n",
      "to-German translation task, improving over the existing best results, including\n",
      "ensembles, by over 2 BLEU. On the WMT 2014 English-to-French translation task,\n",
      "our model establishes a new single-model state-of-the-art BLEU score of 41.8 after\n",
      "training for 3.5 days on eight GPUs, a small fraction of the training costs of the\n",
      "best models from the literature. We show that the Transformer generalizes well to\n",
      "other tasks by applying it successfully to English constituency parsing both with\n",
      "large and limited training data.\n",
      "∗Equal contribution. Listing order is random. Jakob proposed replacing RNNs with self-attention and started\n",
      "the effort to evaluate this idea. Ashish, with Illia, designed and implemented the first Transformer models and\n",
      "has been crucially involved in every aspect of this work. Noam proposed scaled dot-product attention, multi-head\n",
      "attention and the parameter-free position representation and became the other person involved in nearly every\n",
      "detail. Niki designed, implemented, tuned and evaluated countless model variants in our original codebase and\n",
      "tensor2tensor. Llion also experimented with novel model variants, was responsible for our initial codebase, and\n",
      "efficient inference and visualizations. Lukasz and Aidan spent countless long days designing various parts of and\n",
      "implementing tensor2tensor, replacing our earlier codebase, greatly improving results and massively accelerating\n",
      "our research.\n",
      "†Work performed while at Google Brain.\n",
      "‡Work performed while at Google Research.\n",
      "31st Conference on Neural Information Processing Systems (NIPS 2017), Long Beach, CA, USA.arXiv:1706.03762v7  [cs.CL]  2 Aug 2023\n"
     ]
    }
   ],
   "source": [
    "print(pdf_docs[0].page_content)"
   ]
  },
  {
   "cell_type": "markdown",
   "id": "6178f9a0",
   "metadata": {},
   "source": [
    "### 2.2 웹 문서 "
   ]
  },
  {
   "cell_type": "code",
   "execution_count": 8,
   "id": "7e8732bb",
   "metadata": {},
   "outputs": [
    {
     "name": "stderr",
     "output_type": "stream",
     "text": [
      "USER_AGENT environment variable not set, consider setting it to identify your requests.\n"
     ]
    },
    {
     "data": {
      "text/plain": [
       "2"
      ]
     },
     "execution_count": 8,
     "metadata": {},
     "output_type": "execute_result"
    }
   ],
   "source": [
    "from langchain_community.document_loaders import WebBaseLoader\n",
    "\n",
    "web_loader = WebBaseLoader([\"https://python.langchain.com/\", \"https://js.langchain.com/\"])\n",
    "\n",
    "web_docs = web_loader.load()\n",
    "\n",
    "len(web_docs)\n"
   ]
  },
  {
   "cell_type": "code",
   "execution_count": 9,
   "id": "64688c45",
   "metadata": {},
   "outputs": [
    {
     "data": {
      "text/plain": [
       "{'source': 'https://python.langchain.com/',\n",
       " 'title': 'Introduction | 🦜️🔗 LangChain',\n",
       " 'description': 'LangChain is a framework for developing applications powered by large language models (LLMs).',\n",
       " 'language': 'en'}"
      ]
     },
     "execution_count": 9,
     "metadata": {},
     "output_type": "execute_result"
    }
   ],
   "source": [
    "web_docs[0].metadata"
   ]
  },
  {
   "cell_type": "code",
   "execution_count": 10,
   "id": "451fda18",
   "metadata": {},
   "outputs": [
    {
     "name": "stdout",
     "output_type": "stream",
     "text": [
      "\n",
      "\n",
      "\n",
      "\n",
      "\n",
      "Introduction | 🦜️🔗 LangChain\n",
      "\n",
      "\n",
      "\n",
      "\n",
      "\n",
      "\n",
      "\n",
      "Skip to main contentShare your thoughts on AI agents. Take the 3-min survey.IntegrationsAPI referenceLatestLegacyMorePeopleContributingCookbooks3rd party tutorialsYouTubearXivv0.3v0.3v0.2v0.1🦜️🔗LangSmithLangSmith DocsLangChain HubJS/TS Docs💬SearchIntroductionTutorialsBuild a Question Answering application over a Graph DatabaseTutorialsBuild a Simple LLM Application with LCELBuild a Query Analysis SystemBuild a ChatbotConversational RAGBuild an Extraction ChainBuild an AgentTaggingdata_generationBuild a Local RAG ApplicationBuild a PDF ingestion and Question/Answering systemBuild a Retrieval Augmented Generation (RAG) AppVector stores and retrieversBuild a Question/Answering system over SQL dataSummarize TextHow-to guidesHow-to guidesHow to use tools in a chainHow to use a vectorstore as a retrieverHow to add memory to chatbotsHow to use example selectorsHow to map values to a graph databaseHow to add a semantic layer over graph databaseHow to invoke runnables in parallelHow to stream chat model responsesHow to add default invocation args to a RunnableHow to add retrieval to chatbotsHow to use few shot examples in chat modelsHow to do tool/function callingHow to best prompt for Graph-RAGHow to install LangChain packagesHow to add examples to the prompt for query analysisHow to use few shot examplesHow to run custom functionsHow to use output parsers to parse an LLM response into structured formatHow to handle cases where no queries are generatedHow to route between sub-chainsHow to return structured data from a modelHow to summarize text through parallelizationHow to summarize text through iterative refinementHow to summarize text in a single LLM callHow to use toolkitsHow to add ad-hoc tool calling capability to LLMs and Chat ModelsBuild an Agent with AgentExecutor (Legacy)How to construct knowledge graphsHow to partially format prompt templatesHow to handle multiple queries when doing query analysisHow to use built-in tools and toolkitsHow to pass through arguments from one step to the nextHow to compose prompts togetherHow to handle multiple retrievers when doing query analysisHow to add values to a chain's stateHow to construct filters for query analysisHow to configure runtime chain internalsHow deal with high cardinality categoricals when doing query analysisCustom Document LoaderHow to split by HTML headerHow to split by HTML sectionsHow to use the MultiQueryRetrieverHow to add scores to retriever resultsCachingHow to use callbacks in async environmentsHow to attach callbacks to a runnableHow to propagate callbacks  constructorHow to dispatch custom callback eventsHow to pass callbacks in at runtimeHow to split by characterHow to cache chat model responsesHow to handle rate limitsHow to init any model in one lineHow to track token usage in ChatModelsHow to add tools to chatbotsHow to split codeHow to do retrieval with contextual compressionHow to convert Runnables as ToolsHow to create custom callback handlersHow to create a custom chat model classHow to create a custom LLM classCustom RetrieverHow to create toolsHow to debug your LLM appsHow to load CSVsHow to load documents from a directoryHow to load HTMLHow to load JSONHow to load MarkdownHow to load Microsoft Office filesHow to load PDFsHow to create a dynamic (self-constructing) chainText embedding modelsHow to combine results from multiple retrieversHow to select examples from a LangSmith datasetHow to select examples by lengthHow to select examples by maximal marginal relevance (MMR)How to select examples by n-gram overlapHow to select examples by similarityHow to use reference examples when doing extractionHow to handle long text when doing extractionHow to use prompting alone (no tool calling) to do extractionHow to add fallbacks to a runnableHow to filter messagesHybrid SearchHow to use the LangChain indexing APIHow to inspect runnablesLangChain Expression Language CheatsheetHow to cache LLM responsesHow to track token usage for LLMsRun models locallyHow to get log probabilitiesHow to reorder retrieved results to mitigate the \"lost in the middle\" effectHow to split Markdown by HeadersHow to merge consecutive messages of the same typeHow to add message historyHow to migrate from legacy LangChain agents to LangGraphHow to retrieve using multiple vectors per documentHow to pass multimodal data directly to modelsHow to use multimodal promptsHow to create a custom Output ParserHow to use the output-fixing parserHow to parse JSON outputHow to retry when a parsing error occursHow to parse XML outputHow to parse YAML outputHow to use the Parent Document RetrieverHow to use LangChain with different Pydantic versionsHow to add chat historyHow to get a RAG application to add citationsHow to do per-user retrievalHow to get your RAG application to return sourcesHow to stream results from your RAG applicationHow to split JSON dataHow to recursively split text by charactersResponse metadataHow to pass runtime secrets to runnablesHow to do \"self-querying\" retrievalHow to split text based on semantic similarityHow to chain runnablesHow to save and load LangChain objectsHow to split text by tokensHow to do question answering over CSVsHow to deal with large databases when doing SQL question-answeringHow to better prompt when doing SQL question-answeringHow to do query validation as part of SQL question-answeringHow to stream runnablesHow to stream responses from an LLMHow to use a time-weighted vector store retrieverHow to return artifacts from a toolHow to use chat models to call toolsHow to disable parallel tool callingHow to force models to call a toolHow to access the RunnableConfig from a toolHow to pass tool outputs to chat modelsHow to pass run time values to toolsHow to stream events from a toolHow to stream tool callsHow to convert tools to OpenAI FunctionsHow to handle tool errorsHow to use few-shot prompting with tool callingHow to add a human-in-the-loop for toolsHow to bind model-specific toolsHow to trim messagesHow to create and query vector storesConceptual guideEcosystem🦜🛠️ LangSmith🦜🕸️ LangGraphVersionsv0.3v0.2Pydantic compatibilityMigrating from v0.0 chainsHow to migrate from v0.0 chainsMigrating from ConstitutionalChainMigrating from ConversationalChainMigrating from ConversationalRetrievalChainMigrating from LLMChainMigrating from LLMMathChainMigrating from LLMRouterChainMigrating from MapReduceDocumentsChainMigrating from MapRerankDocumentsChainMigrating from MultiPromptChainMigrating from RefineDocumentsChainMigrating from RetrievalQAMigrating from StuffDocumentsChainRelease policySecurityIntroductionOn this pageIntroductionLangChain is a framework for developing applications powered by large language models (LLMs).LangChain simplifies every stage of the LLM application lifecycle:Development: Build your applications using LangChain's open-source building blocks, components, and third-party integrations.\n",
      "Use LangGraph to build stateful agents with first-class streaming and human-in-the-loop support.Productionization: Use LangSmith to inspect, monitor and evaluate your chains, so that you can continuously optimize and deploy with confidence.Deployment: Turn your LangGraph applications into production-ready APIs and Assistants with LangGraph Cloud.Concretely, the framework consists of the following open-source libraries:langchain-core: Base abstractions and LangChain Expression Language.langchain-community: Third party integrations.Partner packages (e.g. langchain-openai, langchain-anthropic, etc.): Some integrations have been further split into their own lightweight packages that only depend on langchain-core.langchain: Chains, agents, and retrieval strategies that make up an application's cognitive architecture.LangGraph: Build robust and stateful multi-actor applications with LLMs by modeling steps as edges and nodes in a graph. Integrates smoothly with LangChain, but can be used without it.LangServe: Deploy LangChain chains as REST APIs.LangSmith: A developer platform that lets you debug, test, evaluate, and monitor LLM applications.noteThese docs focus on the Python LangChain library. Head here for docs on the JavaScript LangChain library.Tutorials​If you're looking to build something specific or are more of a hands-on learner, check out our tutorials section.\n",
      "This is the best place to get started.These are the best ones to get started with:Build a Simple LLM ApplicationBuild a ChatbotBuild an AgentIntroduction to LangGraphExplore the full list of LangChain tutorials here, and check out other LangGraph tutorials here. To learn more about LangGraph, check out our first LangChain Academy course, Introduction to LangGraph, available here.How-to guides​Here you’ll find short answers to “How do I….?” types of questions.\n",
      "These how-to guides don’t cover topics in depth – you’ll find that material in the Tutorials and the API Reference.\n",
      "However, these guides will help you quickly accomplish common tasks.Check out LangGraph-specific how-tos here.Conceptual guide​Introductions to all the key parts of LangChain you’ll need to know! Here you'll find high level explanations of all LangChain concepts.For a deeper dive into LangGraph concepts, check out this page.API reference​Head to the reference section for full documentation of all classes and methods in the LangChain Python packages.Ecosystem​🦜🛠️ LangSmith​Trace and evaluate your language model applications and intelligent agents to help you move from prototype to production.🦜🕸️ LangGraph​Build stateful, multi-actor applications with LLMs. Integrates smoothly with LangChain, but can be used without it.Additional resources​Versions​See what changed in v0.3, learn how to migrate legacy code, read up on our versioning policies, and more.Security​Read up on security best practices to make sure you're developing safely with LangChain.Integrations​LangChain is part of a rich ecosystem of tools that integrate with our framework and build on top of it. Check out our growing list of integrations.Contributing​Check out the developer's guide for guidelines on contributing and help getting your dev environment set up.Edit this pageWas this page helpful?You can also leave detailed feedback on GitHub.NextTutorialsTutorialsHow-to guidesConceptual guideAPI referenceEcosystem🦜🛠️ LangSmith🦜🕸️ LangGraphAdditional resourcesVersionsSecurityIntegrationsContributingCommunityTwitterGitHubOrganizationPythonJS/TSMoreHomepageBlogYouTubeCopyright © 2024 LangChain, Inc.\n",
      "\n",
      "\n",
      "\n",
      "\n"
     ]
    }
   ],
   "source": [
    "print(web_docs[0].page_content)"
   ]
  },
  {
   "cell_type": "markdown",
   "id": "8b473046",
   "metadata": {},
   "source": [
    "### 2.3 JSON 파일 "
   ]
  },
  {
   "cell_type": "code",
   "execution_count": 11,
   "id": "125d323f",
   "metadata": {},
   "outputs": [
    {
     "name": "stdout",
     "output_type": "stream",
     "text": [
      "문서의 수: 5\n",
      "--------------------------------------------------\n",
      "처음 문서의 메타데이터: \n",
      " {'source': '/Users/steve2/Edu/online_lecture/langchain_env/data/kakao_chat.json', 'seq_num': 1}\n",
      "--------------------------------------------------\n",
      "처음 문서의 내용: \n",
      " 안녕하세요 여러분, 오늘 회의 시간 확인차 연락드립니다.\n"
     ]
    }
   ],
   "source": [
    "from langchain_community.document_loaders import JSONLoader\n",
    "\n",
    "json_loader = JSONLoader(\n",
    "    file_path=\"./data/kakao_chat.json\",\n",
    "    jq_schema=\".messages[].content\",    # messages 배열의 content 필드만 추출\n",
    "    text_content=True,                  # 추출하려는 필드가 텍스트인지 여부\n",
    ")\n",
    "\n",
    "json_docs = json_loader.load()\n",
    "\n",
    "print(\"문서의 수:\", len(json_docs))\n",
    "print(\"-\" * 50)\n",
    "print(\"처음 문서의 메타데이터: \\n\", json_docs[0].metadata)\n",
    "print(\"-\" * 50)\n",
    "print(\"처음 문서의 내용: \\n\", json_docs[0].page_content)"
   ]
  },
  {
   "cell_type": "code",
   "execution_count": 12,
   "id": "3b6004a6",
   "metadata": {},
   "outputs": [
    {
     "name": "stdout",
     "output_type": "stream",
     "text": [
      "문서의 수: 5\n",
      "--------------------------------------------------\n",
      "처음 문서의 메타데이터: \n",
      " {'source': '/Users/steve2/Edu/online_lecture/langchain_env/data/kakao_chat.json', 'seq_num': 1}\n",
      "--------------------------------------------------\n",
      "처음 문서의 내용: \n",
      " {\"sender\": \"\\uae40\\ucca0\\uc218\", \"timestamp\": \"2023-09-15 09:30:22\", \"content\": \"\\uc548\\ub155\\ud558\\uc138\\uc694 \\uc5ec\\ub7ec\\ubd84, \\uc624\\ub298 \\ud68c\\uc758 \\uc2dc\\uac04 \\ud655\\uc778\\ucc28 \\uc5f0\\ub77d\\ub4dc\\ub9bd\\ub2c8\\ub2e4.\"}\n"
     ]
    }
   ],
   "source": [
    "from langchain_community.document_loaders import JSONLoader\n",
    "\n",
    "json_loader = JSONLoader(\n",
    "    file_path=\"./data/kakao_chat.json\",\n",
    "    jq_schema=\".messages[]\",    # messages 배열의 모든 아이템을 추출\n",
    "    text_content=False,          # 추출하려는 필드가 텍스트인지 여부\n",
    ")\n",
    "\n",
    "json_docs = json_loader.load()\n",
    "\n",
    "print(\"문서의 수:\", len(json_docs))\n",
    "print(\"-\" * 50)\n",
    "print(\"처음 문서의 메타데이터: \\n\", json_docs[0].metadata)\n",
    "print(\"-\" * 50)\n",
    "print(\"처음 문서의 내용: \\n\", json_docs[0].page_content)"
   ]
  },
  {
   "cell_type": "code",
   "execution_count": 15,
   "id": "6eafd1fb",
   "metadata": {},
   "outputs": [
    {
     "name": "stdout",
     "output_type": "stream",
     "text": [
      "문서의 수: 5\n",
      "--------------------------------------------------\n",
      "처음 문서의 메타데이터: \n",
      " {'source': '/Users/steve2/Edu/online_lecture/langchain_env/data/kakao_chat.json', 'seq_num': 1}\n",
      "--------------------------------------------------\n",
      "처음 문서의 내용: \n",
      " {\"sender\": \"김철수\", \"timestamp\": \"2023-09-15 09:30:22\", \"content\": \"안녕하세요 여러분, 오늘 회의 시간 확인차 연락드립니다.\"}\n"
     ]
    }
   ],
   "source": [
    "# 유니코드 디코딩 (한글 문자들이 유니코드 이스케이프 시퀀스로 인코딩되어 있음)\n",
    "from langchain_core.documents import Document\n",
    "\n",
    "decoded_json_docs = []\n",
    "for doc in json_docs:\n",
    "\n",
    "    decoded_data = json.loads(doc.page_content)\n",
    "\n",
    "    # decoded_json_docs.append({\n",
    "    #     \"metadata\": doc.metadata,\n",
    "    #     \"page_content\": json.dumps(decoded_data, ensure_ascii=False)\n",
    "    # })\n",
    "\n",
    "    document_obj = Document(page_content=json.dumps(decoded_data, ensure_ascii=False), metadata=doc.metadata)\n",
    "    decoded_json_docs.append(document_obj)\n",
    "\n",
    "print(\"문서의 수:\", len(decoded_json_docs))\n",
    "print(\"-\" * 50)\n",
    "# print(\"처음 문서의 메타데이터: \\n\", decoded_json_docs[0][\"metadata\"])\n",
    "print(\"처음 문서의 메타데이터: \\n\", decoded_json_docs[0].metadata)\n",
    "print(\"-\" * 50)\n",
    "# print(\"처음 문서의 내용: \\n\", decoded_json_docs[0][\"page_content\"])\n",
    "print(\"처음 문서의 내용: \\n\", decoded_json_docs[0].page_content)\n"
   ]
  },
  {
   "cell_type": "code",
   "execution_count": 16,
   "id": "c112cbea",
   "metadata": {},
   "outputs": [
    {
     "name": "stdout",
     "output_type": "stream",
     "text": [
      "문서의 수: 5\n",
      "--------------------------------------------------\n",
      "처음 문서의 메타데이터: \n",
      " {'source': '/Users/steve2/Edu/online_lecture/langchain_env/data/kakao_chat.json', 'seq_num': 1, 'sender': '김철수', 'timestamp': '2023-09-15 09:30:22'}\n",
      "--------------------------------------------------\n",
      "처음 문서의 내용: \n",
      " 안녕하세요 여러분, 오늘 회의 시간 확인차 연락드립니다.\n"
     ]
    }
   ],
   "source": [
    "# 메타데이터 추가하기\n",
    "def metadata_func(record: dict, metadata: dict) -> dict:\n",
    "    metadata[\"sender\"] = record.get(\"sender\")\n",
    "    metadata[\"timestamp\"] = record.get(\"timestamp\")\n",
    "    return metadata\n",
    "\n",
    "\n",
    "json_loader = JSONLoader(\n",
    "    file_path=\"./data/kakao_chat.json\",\n",
    "    jq_schema=\".messages[]\",\n",
    "    content_key=\"content\",\n",
    "    metadata_func=metadata_func,\n",
    ")\n",
    "\n",
    "json_docs = json_loader.load()\n",
    "\n",
    "print(\"문서의 수:\", len(json_docs))\n",
    "print(\"-\" * 50)\n",
    "print(\"처음 문서의 메타데이터: \\n\", json_docs[0].metadata)\n",
    "print(\"-\" * 50)\n",
    "print(\"처음 문서의 내용: \\n\", json_docs[0].page_content)"
   ]
  },
  {
   "cell_type": "markdown",
   "id": "ee0d5ede",
   "metadata": {},
   "source": [
    "```json\n",
    "{\"sender\": \"김철수\", \"timestamp\": \"2023-09-15 09:30:22\", \"content\": \"안녕하세요 여러분, 오늘 회의 시간 확인차 연락드립니다.\"}\n",
    "{\"sender\": \"이영희\", \"timestamp\": \"2023-09-15 09:31:05\", \"content\": \"네, 안녕하세요. 오후 2시에 하기로 했어요.\"}\n",
    "```"
   ]
  },
  {
   "cell_type": "code",
   "execution_count": 17,
   "id": "32253193",
   "metadata": {},
   "outputs": [
    {
     "name": "stdout",
     "output_type": "stream",
     "text": [
      "문서의 수: 5\n",
      "--------------------------------------------------\n",
      "처음 문서의 메타데이터: \n",
      " {'source': '/Users/steve2/Edu/online_lecture/langchain_env/data/kakao_chat.jsonl', 'seq_num': 1}\n",
      "--------------------------------------------------\n",
      "처음 문서의 내용: \n",
      " 안녕하세요 여러분, 오늘 회의 시간 확인차 연락드립니다.\n"
     ]
    }
   ],
   "source": [
    "# JSONL 파일 로드하기\n",
    "json_loader = JSONLoader(\n",
    "    file_path=\"./data/kakao_chat.jsonl\",\n",
    "    jq_schema=\".content\",\n",
    "    json_lines=True,\n",
    ")\n",
    "\n",
    "json_docs = json_loader.load()\n",
    "\n",
    "print(\"문서의 수:\", len(json_docs))\n",
    "print(\"-\" * 50)\n",
    "print(\"처음 문서의 메타데이터: \\n\", json_docs[0].metadata)\n",
    "print(\"-\" * 50)\n",
    "print(\"처음 문서의 내용: \\n\", json_docs[0].page_content)\n"
   ]
  },
  {
   "cell_type": "code",
   "execution_count": 18,
   "id": "9335e1f3",
   "metadata": {},
   "outputs": [
    {
     "name": "stdout",
     "output_type": "stream",
     "text": [
      "문서의 수: 5\n",
      "--------------------------------------------------\n",
      "처음 문서의 메타데이터: \n",
      " {'source': '/Users/steve2/Edu/online_lecture/langchain_env/data/kakao_chat.jsonl', 'seq_num': 1}\n",
      "--------------------------------------------------\n",
      "처음 문서의 내용: \n",
      " 안녕하세요 여러분, 오늘 회의 시간 확인차 연락드립니다.\n"
     ]
    }
   ],
   "source": [
    "# JSONL 파일 로드하기\n",
    "json_loader = JSONLoader(\n",
    "    file_path=\"./data/kakao_chat.jsonl\",\n",
    "    jq_schema=\".\",\n",
    "    content_key=\"content\",\n",
    "    json_lines=True,\n",
    ")\n",
    "\n",
    "json_docs = json_loader.load()\n",
    "\n",
    "print(\"문서의 수:\", len(json_docs))\n",
    "print(\"-\" * 50)\n",
    "print(\"처음 문서의 메타데이터: \\n\", json_docs[0].metadata)\n",
    "print(\"-\" * 50)\n",
    "print(\"처음 문서의 내용: \\n\", json_docs[0].page_content)\n"
   ]
  },
  {
   "cell_type": "code",
   "execution_count": 19,
   "id": "255e4ff1",
   "metadata": {},
   "outputs": [
    {
     "name": "stdout",
     "output_type": "stream",
     "text": [
      "문서의 수: 5\n",
      "--------------------------------------------------\n",
      "처음 문서의 메타데이터: \n",
      " {'source': '/Users/steve2/Edu/online_lecture/langchain_env/data/kakao_chat.jsonl', 'seq_num': 1, 'sender': '김철수', 'timestamp': '2023-09-15 09:30:22'}\n",
      "--------------------------------------------------\n",
      "처음 문서의 내용: \n",
      " 안녕하세요 여러분, 오늘 회의 시간 확인차 연락드립니다.\n"
     ]
    }
   ],
   "source": [
    "# 메타데이터 추가하기\n",
    "def metadata_func(record: dict, metadata: dict) -> dict:\n",
    "    metadata[\"sender\"] = record.get(\"sender\")\n",
    "    metadata[\"timestamp\"] = record.get(\"timestamp\")\n",
    "    return metadata\n",
    "\n",
    "json_loader = JSONLoader(\n",
    "    file_path=\"./data/kakao_chat.jsonl\",\n",
    "    jq_schema=\".\",\n",
    "    content_key=\"content\",\n",
    "    metadata_func=metadata_func,\n",
    "    json_lines=True,\n",
    ")\n",
    "\n",
    "json_docs = json_loader.load()\n",
    "\n",
    "print(\"문서의 수:\", len(json_docs))\n",
    "print(\"-\" * 50)\n",
    "print(\"처음 문서의 메타데이터: \\n\", json_docs[0].metadata)\n",
    "print(\"-\" * 50)\n",
    "print(\"처음 문서의 내용: \\n\", json_docs[0].page_content)"
   ]
  },
  {
   "cell_type": "markdown",
   "id": "c1ae07e1",
   "metadata": {},
   "source": [
    "### 2.4  CSV 문서 "
   ]
  },
  {
   "cell_type": "code",
   "execution_count": 20,
   "id": "ba7a8b7e",
   "metadata": {},
   "outputs": [
    {
     "name": "stdout",
     "output_type": "stream",
     "text": [
      "문서의 수: 10\n",
      "--------------------------------------------------\n",
      "처음 문서의 메타데이터: \n",
      " {'source': './data/kbo_teams_2023.csv', 'row': 0}\n",
      "--------------------------------------------------\n",
      "처음 문서의 내용: \n",
      " Team: KIA 타이거즈\n",
      "City: 광주\n",
      "Founded: 1982\n",
      "Home Stadium: 광주-기아 챔피언스 필드\n",
      "Championships: 11\n",
      "Introduction: KBO 리그의 전통 강호로, 역대 최다 우승 기록을 보유하고 있다. '타이거즈 스피릿'으로 유명하며, 양현종, 안치홍 등 스타 선수들을 배출했다. 광주를 연고로 하는 유일한 프로야구팀으로 지역 사랑이 강하다.\n"
     ]
    }
   ],
   "source": [
    "from langchain_community.document_loaders.csv_loader import CSVLoader\n",
    "\n",
    "csv_loader = CSVLoader(\"./data/kbo_teams_2023.csv\")\n",
    "csv_docs = csv_loader.load()\n",
    "\n",
    "print(\"문서의 수:\", len(csv_docs))\n",
    "print(\"-\" * 50)\n",
    "print(\"처음 문서의 메타데이터: \\n\", csv_docs[0].metadata)\n",
    "print(\"-\" * 50)\n",
    "print(\"처음 문서의 내용: \\n\", csv_docs[0].page_content)"
   ]
  },
  {
   "cell_type": "markdown",
   "id": "8aae49f4",
   "metadata": {},
   "source": [
    "## 3. 효과적인 텍스트 분할 전략"
   ]
  },
  {
   "cell_type": "markdown",
   "id": "7e7e0cf4",
   "metadata": {},
   "source": [
    "### 3-1 RecursiveCharacterTextSplitter"
   ]
  },
  {
   "cell_type": "code",
   "execution_count": 26,
   "id": "7dc4bc25",
   "metadata": {},
   "outputs": [
    {
     "name": "stdout",
     "output_type": "stream",
     "text": [
      "생성된 텍스트 청크 수: 52\n",
      "각 청크의 길이: [981, 910, 975, 451, 932, 998, 904, 907, 995, 385, 926, 953, 216, 920, 996, 829, 975, 910, 906, 870, 929, 961, 945, 997, 195, 977, 968, 947, 933, 965, 938, 915, 733, 952, 945, 948, 618, 980, 989, 994, 624, 945, 914, 946, 918, 988, 929, 929, 849, 812, 814, 817]\n"
     ]
    }
   ],
   "source": [
    "from langchain_text_splitters import RecursiveCharacterTextSplitter\n",
    "\n",
    "text_splitter = RecursiveCharacterTextSplitter(\n",
    "    chunk_size=1000,        # 청크 크기  \n",
    "    chunk_overlap=200,      # 청크 중 중복되는 부분 크기\n",
    "    length_function=len,    # 글자 수를 기준으로 분할\n",
    "    separators=[\"\\n\\n\", \"\\n\",],  # 구분자\n",
    ")\n",
    "\n",
    "texts = text_splitter.split_documents(pdf_docs)\n",
    "print(f\"생성된 텍스트 청크 수: {len(texts)}\")\n",
    "print(f\"각 청크의 길이: {list(len(text.page_content) for text in texts)}\")"
   ]
  },
  {
   "cell_type": "markdown",
   "id": "4ee0ca46",
   "metadata": {},
   "source": [
    "- RecursiveCharacterTextSplitter는 이름에서 알 수 있듯이 재귀적으로 텍스트를 분할합니다. \n",
    "- 구분자를 순차적으로 적용하여 큰 청크에서 시작하여 점진적으로 더 작은 단위로 나눕니다. \n",
    "- 일반적으로 CharacterTextSplitter보다 더 엄격하게 크기를 준수하려고 합니다.\n"
   ]
  },
  {
   "cell_type": "code",
   "execution_count": 23,
   "id": "714ba916",
   "metadata": {},
   "outputs": [
    {
     "name": "stdout",
     "output_type": "stream",
     "text": [
      "Provided proper attribution is provided, Google hereby grants permission to\n",
      "reproduce the tables and figures in this paper solely for use in journalistic or\n",
      "scholarly works.\n",
      "Attention Is All You Need\n",
      "\n",
      "--------------------------------------------------------------------------------------------------------------------------------------------------------------------------------------------------------\n",
      "the encoder and decoder through an attention\n",
      "mechanism. We propose a new simple network architecture, the Transformer,\n",
      "based solely on attention mechanisms, dispensing with recurrence and convolutions\n",
      "========================================================================================================================================================================================================\n",
      "\n",
      "mechanism. We propose a new simple network architecture, the Transformer,\n",
      "based solely on attention mechanisms, dispensing with recurrence and convolutions\n",
      "entirely. Experiments on two machine transla\n",
      "--------------------------------------------------------------------------------------------------------------------------------------------------------------------------------------------------------\n",
      "the\n",
      "best models from the literature. We show that the Transformer generalizes well to\n",
      "other tasks by applying it successfully to English constituency parsing both with\n",
      "large and limited training data.\n",
      "========================================================================================================================================================================================================\n",
      "\n",
      "best models from the literature. We show that the Transformer generalizes well to\n",
      "other tasks by applying it successfully to English constituency parsing both with\n",
      "large and limited training data.\n",
      "∗Eq\n",
      "--------------------------------------------------------------------------------------------------------------------------------------------------------------------------------------------------------\n",
      " experimented with novel model variants, was responsible for our initial codebase, and\n",
      "efficient inference and visualizations. Lukasz and Aidan spent countless long days designing various parts of and\n",
      "========================================================================================================================================================================================================\n",
      "\n",
      "efficient inference and visualizations. Lukasz and Aidan spent countless long days designing various parts of and\n",
      "implementing tensor2tensor, replacing our earlier codebase, greatly improving results \n",
      "--------------------------------------------------------------------------------------------------------------------------------------------------------------------------------------------------------\n",
      "ormed while at Google Brain.\n",
      "‡Work performed while at Google Research.\n",
      "31st Conference on Neural Information Processing Systems (NIPS 2017), Long Beach, CA, USA.arXiv:1706.03762v7  [cs.CL]  2 Aug 2023\n",
      "========================================================================================================================================================================================================\n",
      "\n",
      "1 Introduction\n",
      "Recurrent neural networks, long short-term memory [ 13] and gated recurrent [ 7] neural networks\n",
      "in particular, have been firmly established as state of the art approaches in sequence m\n",
      "--------------------------------------------------------------------------------------------------------------------------------------------------------------------------------------------------------\n",
      "\n",
      "sequential nature precludes parallelization within training examples, which becomes critical at longer\n",
      "sequence lengths, as memory constraints limit batching across examples. Recent work has achieved\n",
      "========================================================================================================================================================================================================\n",
      "\n"
     ]
    }
   ],
   "source": [
    "# 각 청크의 시작 부분과 끝 부분 확인\n",
    "for text in texts[:5]:\n",
    "    print(text.page_content[:200])\n",
    "    print(\"-\" * 200)\n",
    "    print(text.page_content[-200:])\n",
    "    print(\"=\" * 200)\n",
    "    print()"
   ]
  },
  {
   "cell_type": "markdown",
   "id": "fae8677d",
   "metadata": {},
   "source": [
    "### 3-2 정규표현식 사용"
   ]
  },
  {
   "cell_type": "code",
   "execution_count": 27,
   "id": "98e6e771",
   "metadata": {},
   "outputs": [
    {
     "name": "stderr",
     "output_type": "stream",
     "text": [
      "Created a chunk of size 11, which is longer than the specified 10\n",
      "Created a chunk of size 13, which is longer than the specified 10\n"
     ]
    },
    {
     "name": "stdout",
     "output_type": "stream",
     "text": [
      "생성된 텍스트 청크 수: 9\n",
      "각 청크의 길이: [31, 9, 15, 7, 11, 11, 27, 13, 13]\n",
      "\n",
      "안녕하세요 여러분, 오늘 회의 시간 확인차 연락드립니다.\n",
      "--------------------------------------------------\n",
      "안녕하세요 여러분, 오늘 회의 시간 확인차 연락드립니다.\n",
      "==================================================\n",
      "\n",
      "네, 안녕하세요.\n",
      "--------------------------------------------------\n",
      "네, 안녕하세요.\n",
      "==================================================\n",
      "\n",
      "오후 2시에 하기로 했어요.\n",
      "--------------------------------------------------\n",
      "오후 2시에 하기로 했어요.\n",
      "==================================================\n",
      "\n",
      "확인했습니다.\n",
      "--------------------------------------------------\n",
      "확인했습니다.\n",
      "==================================================\n",
      "\n",
      "회의실은 어디인가요?\n",
      "--------------------------------------------------\n",
      "회의실은 어디인가요?\n",
      "==================================================\n",
      "\n"
     ]
    }
   ],
   "source": [
    "# 문장을 구분하여 분할 (마침표, 느낌표, 물음표 다음에 공백이 오는 경우 문장의 끝으로 판단)\n",
    "from langchain_text_splitters import CharacterTextSplitter\n",
    "\n",
    "text_splitter = CharacterTextSplitter(\n",
    "    chunk_size=10,\n",
    "    chunk_overlap=0,\n",
    "    separator=r'(?<=[.!?])\\s+',\n",
    "    is_separator_regex=True,\n",
    "    keep_separator=True,\n",
    ")\n",
    "\n",
    "texts = text_splitter.split_documents(json_docs)\n",
    "print(f\"생성된 텍스트 청크 수: {len(texts)}\")\n",
    "print(f\"각 청크의 길이: {list(len(text.page_content) for text in texts)}\")\n",
    "print()\n",
    "\n",
    "# 각 청크의 시작 부분과 끝 부분 확인\n",
    "for text in texts[:5]:\n",
    "    print(text.page_content[:50])\n",
    "    print(\"-\" * 50)\n",
    "    print(text.page_content[-50:])\n",
    "    print(\"=\" * 50)\n",
    "    print()"
   ]
  },
  {
   "cell_type": "markdown",
   "id": "8bbe562f",
   "metadata": {},
   "source": [
    "### 3-3 토큰 수를 기반으로 분할"
   ]
  },
  {
   "cell_type": "markdown",
   "id": "d9198b73",
   "metadata": {},
   "source": [
    "`(1) tiktoken`  \n",
    "- OpenAI에서 만든 BPE Tokenizer"
   ]
  },
  {
   "cell_type": "code",
   "execution_count": 30,
   "id": "bdea518c",
   "metadata": {},
   "outputs": [
    {
     "data": {
      "text/plain": [
       "2853"
      ]
     },
     "execution_count": 30,
     "metadata": {},
     "output_type": "execute_result"
    }
   ],
   "source": [
    "len(pdf_docs[0].page_content)"
   ]
  },
  {
   "cell_type": "code",
   "execution_count": 31,
   "id": "49b5fda6",
   "metadata": {},
   "outputs": [
    {
     "name": "stdout",
     "output_type": "stream",
     "text": [
      "생성된 청크 수: 3\n",
      "각 청크의 길이: [1140, 1374, 337]\n",
      "Provided proper attribution is provided, Google he\n",
      "--------------------------------------------------\n",
      "ng more parallelizable and requiring significantly\n",
      "==================================================\n",
      "\n",
      "less time to train. Our model achieves 28.4 BLEU o\n",
      "--------------------------------------------------\n",
      "countless long days designing various parts of and\n",
      "==================================================\n",
      "\n",
      "implementing tensor2tensor, replacing our earlier \n",
      "--------------------------------------------------\n",
      "h, CA, USA.arXiv:1706.03762v7  [cs.CL]  2 Aug 2023\n",
      "==================================================\n",
      "\n"
     ]
    }
   ],
   "source": [
    "from langchain_text_splitters import RecursiveCharacterTextSplitter\n",
    "\n",
    "text_splitter = RecursiveCharacterTextSplitter.from_tiktoken_encoder(\n",
    "    encoding_name=\"cl100k_base\", \n",
    "    # model_name=\"gpt-4o-mini\",\n",
    "    chunk_size=300, \n",
    "    chunk_overlap=0,\n",
    ")\n",
    "\n",
    "chunks = text_splitter.split_documents(pdf_docs[:1])\n",
    "\n",
    "print(f\"생성된 청크 수: {len(chunks)}\")\n",
    "print(f\"각 청크의 길이: {list(len(chunk.page_content) for chunk in chunks)}\")\n",
    "\n",
    "# 각 청크의 시작 부분과 끝 부분 확인\n",
    "for chunk in chunks[:5]:\n",
    "    print(chunk.page_content[:50])\n",
    "    print(\"-\" * 50)\n",
    "    print(chunk.page_content[-50:])\n",
    "    print(\"=\" * 50)\n",
    "    print()"
   ]
  },
  {
   "cell_type": "code",
   "execution_count": 32,
   "id": "f10e8b4b",
   "metadata": {},
   "outputs": [
    {
     "name": "stdout",
     "output_type": "stream",
     "text": [
      "283\n",
      "[36919, 291, 6300, 63124, 374, 3984, 11, 5195, 22552, 25076]\n",
      "['Provid', 'ed', ' proper', ' attribution', ' is', ' provided', ',', ' Google', ' hereby', ' grants']\n",
      "==================================================\n",
      "\n",
      "291\n",
      "[1752, 892, 311, 5542, 13, 5751, 1646, 83691, 220, 1591]\n",
      "['less', ' time', ' to', ' train', '.', ' Our', ' model', ' achieves', ' ', '28']\n",
      "==================================================\n",
      "\n",
      "83\n",
      "[95574, 287, 16000, 17, 47211, 11, 25935, 1057, 6931, 2082]\n",
      "['implement', 'ing', ' tensor', '2', 'tensor', ',', ' replacing', ' our', ' earlier', ' code']\n",
      "==================================================\n",
      "\n"
     ]
    }
   ],
   "source": [
    "import tiktoken\n",
    "\n",
    "tokenizer = tiktoken.get_encoding(\"cl100k_base\")\n",
    "# tokenizer = tiktoken.encoding_for_model(\"gpt-4o-mini\")\n",
    "\n",
    "for chunk in chunks[:5]:\n",
    "\n",
    "    # 각 청크를 토큰화\n",
    "    tokens = tokenizer.encode(chunk.page_content)\n",
    "    # 각 청크의 단어 수 확인\n",
    "    print(len(tokens))\n",
    "    # 각 청크의 토큰화 결과 확인 (첫 10개 토큰만 출력)\n",
    "    print(tokens[:10])\n",
    "    # 토큰 ID를 실제 토큰(문자열)로 변환해서 출력\n",
    "    token_strings = [tokenizer.decode([token]) for token in tokens[:10]]\n",
    "    print(token_strings)\n",
    "\n",
    "    print(\"=\" * 50)\n",
    "    print()"
   ]
  },
  {
   "cell_type": "markdown",
   "id": "a4b01677",
   "metadata": {},
   "source": [
    "`(2) Hugging Face 토크나이저`  \n",
    "- Hugging Face tokenizer 모델이 토큰 수를 기준으로 분할"
   ]
  },
  {
   "cell_type": "code",
   "execution_count": 33,
   "id": "c6872bee",
   "metadata": {},
   "outputs": [
    {
     "name": "stderr",
     "output_type": "stream",
     "text": [
      "/Users/steve2/Library/Caches/pypoetry/virtualenvs/langchain-env-9sqiXrer-py3.11/lib/python3.11/site-packages/tqdm/auto.py:21: TqdmWarning: IProgress not found. Please update jupyter and ipywidgets. See https://ipywidgets.readthedocs.io/en/stable/user_install.html\n",
      "  from .autonotebook import tqdm as notebook_tqdm\n"
     ]
    },
    {
     "data": {
      "text/plain": [
       "XLMRobertaTokenizerFast(name_or_path='BAAI/bge-m3', vocab_size=250002, model_max_length=8192, is_fast=True, padding_side='right', truncation_side='right', special_tokens={'bos_token': '<s>', 'eos_token': '</s>', 'unk_token': '<unk>', 'sep_token': '</s>', 'pad_token': '<pad>', 'cls_token': '<s>', 'mask_token': '<mask>'}, clean_up_tokenization_spaces=True),  added_tokens_decoder={\n",
       "\t0: AddedToken(\"<s>\", rstrip=False, lstrip=False, single_word=False, normalized=False, special=True),\n",
       "\t1: AddedToken(\"<pad>\", rstrip=False, lstrip=False, single_word=False, normalized=False, special=True),\n",
       "\t2: AddedToken(\"</s>\", rstrip=False, lstrip=False, single_word=False, normalized=False, special=True),\n",
       "\t3: AddedToken(\"<unk>\", rstrip=False, lstrip=False, single_word=False, normalized=False, special=True),\n",
       "\t250001: AddedToken(\"<mask>\", rstrip=False, lstrip=True, single_word=False, normalized=False, special=True),\n",
       "}"
      ]
     },
     "execution_count": 33,
     "metadata": {},
     "output_type": "execute_result"
    }
   ],
   "source": [
    "from transformers import AutoTokenizer\n",
    "tokenizer = AutoTokenizer.from_pretrained(\"BAAI/bge-m3\")\n",
    "\n",
    "tokenizer"
   ]
  },
  {
   "cell_type": "code",
   "execution_count": 34,
   "id": "1477bfbc",
   "metadata": {},
   "outputs": [
    {
     "name": "stdout",
     "output_type": "stream",
     "text": [
      "[0, 107687, 5, 20451, 54272, 16367, 5, 2]\n"
     ]
    }
   ],
   "source": [
    "# 토크나이저 인코딩\n",
    "tokens = tokenizer.encode(\"안녕하세요. 반갑습니다.\")\n",
    "print(tokens)"
   ]
  },
  {
   "cell_type": "code",
   "execution_count": 35,
   "id": "c07cafbc",
   "metadata": {},
   "outputs": [
    {
     "name": "stdout",
     "output_type": "stream",
     "text": [
      "['<s>', '▁안녕하세요', '.', '▁반', '갑', '습니다', '.', '</s>']\n"
     ]
    }
   ],
   "source": [
    "# 토큰을 출력\n",
    "print(tokenizer.convert_ids_to_tokens(tokens)) "
   ]
  },
  {
   "cell_type": "code",
   "execution_count": 36,
   "id": "fdcf6a3a",
   "metadata": {},
   "outputs": [
    {
     "name": "stdout",
     "output_type": "stream",
     "text": [
      "<s> 안녕하세요. 반갑습니다.</s>\n"
     ]
    }
   ],
   "source": [
    "# 디코딩\n",
    "print(tokenizer.decode(tokens))"
   ]
  },
  {
   "cell_type": "code",
   "execution_count": 37,
   "id": "311dec97",
   "metadata": {},
   "outputs": [
    {
     "name": "stdout",
     "output_type": "stream",
     "text": [
      "생성된 청크 수: 3\n",
      "각 청크의 길이: [749, 1094, 1008]\n",
      "\n",
      "204\n",
      "[0, 123089, 71, 27798, 99, 179236, 83, 62952, 4, 1815]\n",
      "['<s>', '▁Provide', 'd', '▁proper', '▁at', 'tribution', '▁is', '▁provided', ',', '▁Google']\n",
      "==================================================\n",
      "\n",
      "248\n",
      "[0, 51339, 214, 115774, 2843, 37067, 70, 22, 587, 820]\n",
      "['<s>', '▁perform', 'ing', '▁models', '▁also', '▁connect', '▁the', '▁en', 'co', 'der']\n",
      "==================================================\n",
      "\n",
      "232\n",
      "[0, 70, 71834, 47, 151575, 13, 903, 6528, 5, 62]\n",
      "['<s>', '▁the', '▁effort', '▁to', '▁evaluat', 'e', '▁this', '▁idea', '.', '▁A']\n",
      "==================================================\n",
      "\n"
     ]
    }
   ],
   "source": [
    "from langchain_text_splitters import RecursiveCharacterTextSplitter\n",
    "\n",
    "text_splitter = RecursiveCharacterTextSplitter.from_huggingface_tokenizer(\n",
    "    tokenizer=tokenizer,\n",
    "    chunk_size=300, \n",
    "    chunk_overlap=0,\n",
    ")\n",
    "\n",
    "chunks = text_splitter.split_documents(pdf_docs[:1])\n",
    "\n",
    "print(f\"생성된 청크 수: {len(chunks)}\")\n",
    "print(f\"각 청크의 길이: {list(len(chunk.page_content) for chunk in chunks)}\")\n",
    "print()\n",
    "\n",
    "for chunk in chunks[:5]:\n",
    "\n",
    "    # 각 청크를 토큰화\n",
    "    tokens = tokenizer.encode(chunk.page_content)\n",
    "    # 각 청크의 단어 수 확인\n",
    "    print(len(tokens))\n",
    "    # 각 청크의 토큰화 결과 확인 (첫 10개 토큰만 출력)\n",
    "    print(tokens[:10])\n",
    "    # 토큰 ID를 실제 토큰(문자열)로 변환해서 출력\n",
    "    token_strings = tokenizer.convert_ids_to_tokens(tokens[:10]) \n",
    "    print(token_strings)\n",
    "\n",
    "    print(\"=\" * 50)\n",
    "    print()"
   ]
  },
  {
   "cell_type": "markdown",
   "id": "2bc751ee",
   "metadata": {},
   "source": [
    "### 3-4 Semantic Chunking"
   ]
  },
  {
   "cell_type": "code",
   "execution_count": 38,
   "id": "043984b2",
   "metadata": {},
   "outputs": [],
   "source": [
    "from langchain_experimental.text_splitter import SemanticChunker\n",
    "from langchain_openai.embeddings import OpenAIEmbeddings\n",
    "\n",
    "# 임베딩 모델을 사용하여 SemanticChunker를 초기화 \n",
    "text_splitter = SemanticChunker(\n",
    "    embeddings=OpenAIEmbeddings(),         # OpenAI 임베딩 사용\n",
    "    breakpoint_threshold_type=\"gradient\",  # 기준점 타입 설정 (gradient, percentile, standard_deviation, interquartile)\n",
    "    )"
   ]
  },
  {
   "cell_type": "code",
   "execution_count": 40,
   "id": "e067dc67",
   "metadata": {},
   "outputs": [
    {
     "name": "stdout",
     "output_type": "stream",
     "text": [
      "생성된 청크 수: 2\n",
      "각 청크의 길이: [1736, 1116]\n",
      "\n",
      "424\n",
      "Provided proper attribution is provided, Google hereby grants permission to\n",
      "reproduce the tables and\n",
      "==================================================\n",
      "\n",
      "237\n",
      "∗Equal contribution. Listing order is random. Jakob proposed replacing RNNs with self-attention and \n",
      "==================================================\n",
      "\n"
     ]
    }
   ],
   "source": [
    "chunks = text_splitter.split_documents(pdf_docs[:1])\n",
    "\n",
    "print(f\"생성된 청크 수: {len(chunks)}\")\n",
    "print(f\"각 청크의 길이: {list(len(chunk.page_content) for chunk in chunks)}\")\n",
    "print()\n",
    "\n",
    "\n",
    "tokenizer = tiktoken.get_encoding(\"cl100k_base\")\n",
    "\n",
    "\n",
    "for chunk in chunks[:5]:\n",
    "\n",
    "    # 각 청크를 토큰화\n",
    "\n",
    "    tokens = tokenizer.encode(chunk.page_content)\n",
    "    # 각 청크의 단어 수 확인\n",
    "    print(len(tokens))\n",
    "    # 각 청크의 내용을 확인\n",
    "    print(chunk.page_content[:100])\n",
    "\n",
    "    print(\"=\" * 50)\n",
    "    print()"
   ]
  },
  {
   "cell_type": "markdown",
   "id": "6dc16413",
   "metadata": {},
   "source": [
    "## 4. 문서 임베딩(Embedding) 모델"
   ]
  },
  {
   "cell_type": "markdown",
   "id": "315e28ef",
   "metadata": {},
   "source": [
    "### 4-1 OpenAI "
   ]
  },
  {
   "cell_type": "markdown",
   "id": "d905110a",
   "metadata": {},
   "source": [
    "`(1) embedding 모델`"
   ]
  },
  {
   "cell_type": "code",
   "execution_count": 41,
   "id": "617a2cfb",
   "metadata": {},
   "outputs": [
    {
     "data": {
      "text/plain": [
       "OpenAIEmbeddings(client=<openai.resources.embeddings.Embeddings object at 0x14b1a6c90>, async_client=<openai.resources.embeddings.AsyncEmbeddings object at 0x14b2e8b10>, model='text-embedding-3-small', dimensions=None, deployment='text-embedding-ada-002', openai_api_version='', openai_api_base=None, openai_api_type='', openai_proxy='', embedding_ctx_length=8191, openai_api_key=SecretStr('**********'), openai_organization=None, allowed_special=None, disallowed_special=None, chunk_size=1000, max_retries=2, request_timeout=None, headers=None, tiktoken_enabled=True, tiktoken_model_name=None, show_progress_bar=False, model_kwargs={}, skip_empty=False, default_headers=None, default_query=None, retry_min_seconds=4, retry_max_seconds=20, http_client=None, http_async_client=None, check_embedding_ctx_length=True)"
      ]
     },
     "execution_count": 41,
     "metadata": {},
     "output_type": "execute_result"
    }
   ],
   "source": [
    "from langchain_openai import OpenAIEmbeddings\n",
    "\n",
    "# OpenAIEmbeddings 모델 생성\n",
    "embeddings_model = OpenAIEmbeddings(model=\"text-embedding-3-small\")\n",
    "\n",
    "# 임베딩 객체 출력\n",
    "embeddings_model"
   ]
  },
  {
   "cell_type": "code",
   "execution_count": 42,
   "id": "9f3123b5",
   "metadata": {},
   "outputs": [
    {
     "data": {
      "text/plain": [
       "8191"
      ]
     },
     "execution_count": 42,
     "metadata": {},
     "output_type": "execute_result"
    }
   ],
   "source": [
    "# 임베딩 모델의 컨텍스트 길이 확인\n",
    "embeddings_model.embedding_ctx_length"
   ]
  },
  {
   "cell_type": "markdown",
   "id": "8ac45eaf",
   "metadata": {},
   "source": [
    "`(2) embed_documents 사용`"
   ]
  },
  {
   "cell_type": "code",
   "execution_count": 43,
   "id": "adb43129",
   "metadata": {},
   "outputs": [
    {
     "name": "stdout",
     "output_type": "stream",
     "text": [
      "임베딩 벡터의 개수: 5\n",
      "임베딩 벡터의 차원: 1536\n",
      "[-0.0022418606095016003, 0.012121819891035557, -0.0024694264866411686, 0.015041871927678585, 0.018439585343003273, -0.04571142792701721, -0.0031250861939042807, 0.046973180025815964, -0.018250323832035065, -0.03190426900982857, 0.006872035562992096, 0.007029754109680653, -0.018601810559630394, -0.02710961550474167, 0.005028977990150452, -0.01560064684599638, -0.04160172492265701, 0.010021906346082687, 0.05155153200030327, -0.045855626463890076, -0.014636308886110783, -0.02779456600546837, -0.018746010959148407, -0.022693488746881485, 0.004364305641502142, -0.03972712531685829, 0.05028977990150452, 0.01770056039094925, 0.0003055802662856877, -0.02332436479628086, 0.04891987890005112, -0.015249159187078476, -0.02992151863873005, -0.06164553761482239, 0.02042233757674694, 0.03545519709587097, 0.0025415264535695314, -0.006863022688776255, -0.005159659311175346, 0.024748340249061584, 0.007593035697937012, 0.0275241918861866, -0.002579829655587673, 0.02606416493654251, -0.017979947850108147, 0.0055336784571409225, -0.025829840451478958, 0.0036185209173709154, 0.0075254421681165695, 0.056706685572862625, -0.024910565465688705, 0.030137818306684494, 0.008021130226552486, -0.03487839549779892, -0.002026687143370509, 0.09538836032152176, 0.01372604537755251, 0.029272617772221565, 0.0037356833927333355, 0.03024596907198429, 0.01525817159563303, 0.015104958787560463, 0.00365231791511178, 0.020963087677955627, -0.05180387943983078, -0.02436981536448002, 0.03641052171587944, 0.026172315701842308, -0.019881587475538254, -0.02914644218981266, 0.008994480594992638, -0.019683312624692917, -0.04513462632894516, 0.02137766219675541, -0.0005875026690773666, -0.012338119558990002, -0.06496214121580124, 0.025433290749788284, 0.01281578280031681, 0.02435179054737091, -0.0041682836599648, 0.0005289214313961565, 0.04798257723450661, -0.05991513654589653, -0.009282880462706089, -0.022837689146399498, -0.0010826272191479802, -0.05760793387889862, -0.05317378044128418, -0.004704528022557497, -0.030462268739938736, 0.04899197816848755, 0.004404861945658922, 0.004105196334421635, -0.053029581904411316, 0.03230081871151924, 0.060996636748313904, -0.05216437950730324, 0.0036816084757447243, 0.02786666713654995, -0.051659680902957916, -0.0057229408994317055, 0.03186821937561035, 0.05479603260755539, 0.0018926261691376567, -0.021575937047600746, -0.007178460713475943, 0.01982751116156578, -0.02170211263000965, 0.008165329694747925, -0.010238206014037132, -0.004889284260571003, -0.07563294470310211, 0.04062837362289429, -0.05789633467793465, -0.019448986276984215, 0.028605692088603973, -0.023306338116526604, -0.0234144888818264, -0.007300129160284996, -0.023540664464235306, 0.029633117839694023, 0.034481845796108246, -0.004488227888941765, -0.017970936372876167, -0.024856489151716232, 0.014897671528160572, -0.03275144472718239, -0.025162914767861366, -0.004413874354213476, -0.004844221752136946, -0.02665899135172367, -0.012094782665371895, 0.02802889235317707, 0.04174592345952988, -0.0165018979460001, 0.005321884527802467, 0.025235015898942947, -0.0014498868258669972, -0.05324588343501091, 0.019214661791920662, -0.019557137042284012, 0.01778167299926281, 0.012707632966339588, -0.029002241790294647, -0.052452780306339264, -0.012941957451403141, 0.018015997484326363, 0.039871323853731155, 0.04152962565422058, -0.04690107703208923, -0.018782060593366623, -0.07062198966741562, -0.03925847262144089, -0.05054213106632233, 0.024135489016771317, 0.000520190573297441, 0.03282354399561882, -0.011806381866335869, -0.028587667271494865, 0.008246442303061485, -0.008196873590350151, -0.03327417001128197, 0.009976843371987343, -0.026136266067624092, 0.040556274354457855, -0.022351013496518135, 0.04690107703208923, -0.01870996132493019, 0.0023905669804662466, -0.02786666713654995, -0.0103373434394598, -0.024477964267134666, -0.021305562928318977, 0.005867140833288431, 0.014663346111774445, 0.02137766219675541, 0.01572682149708271, -0.04899197816848755, -0.026226390153169632, -0.03102104365825653, -0.018691936507821083, -0.0002102448488585651, 0.02700146660208702, -0.00829150527715683, -0.024820439517498016, 0.016682147979736328, -0.04769418016076088, -0.029110392555594444, 0.019430961459875107, 0.03646459802985191, 0.0261542908847332, 0.019124535843729973, 0.043548427522182465, 0.008318542502820492, -0.026568865403532982, -0.0012054225662723184, -0.0536784827709198, -0.010805994272232056, -0.0033233612775802612, 0.02896619215607643, -0.04041207581758499, -0.025415265932679176, -0.013960370793938637, 0.012247994542121887, 0.0065385727211833, 0.04189012572169304, 0.006750366650521755, -0.03168796747922897, -0.026857266202569008, -0.018746010959148407, -0.025523414835333824, 0.07325364649295807, 0.0005655346903949976, -0.03412134572863579, -0.06034773588180542, 0.020278137177228928, 0.007575010880827904, -0.01414963323622942, 0.030119793489575386, -0.006516041234135628, -0.00811576098203659, 0.013068133033812046, -0.005258796736598015, 0.005141634494066238, -0.0025956016033887863, 0.021648038178682327, -0.0362122468650341, 0.025919966399669647, -0.03424752131104469, -0.023648813366889954, 0.029795343056321144, 0.0028637235518544912, -0.008350086398422718, 0.002379301469773054, -0.013185295276343822, -0.011806381866335869, -0.02263941429555416, 0.011517981998622417, 0.005777015816420317, 0.008359098806977272, -0.0003126212686765939, -0.005177684128284454, -0.02000776119530201, -0.008697067387402058, -0.0058716475032269955, -0.0004359799495432526, 0.027325917035341263, -0.0040556276217103004, -0.011815394274890423, 0.01796192303299904, -0.02873186767101288, 0.02350461483001709, -0.021161362528800964, 0.011337731964886189, 0.0046324278227984905, 0.03008374385535717, -0.02674911543726921, 0.005407503340393305, -0.0019850044045597315, -0.01449210848659277, 0.013572833500802517, -0.0261542908847332, -0.03233686834573746, 0.013194307684898376, 0.007241548039019108, -0.0029358237516134977, 0.027055541053414345, -0.03897007182240486, -0.026172315701842308, -0.013293445110321045, 0.04048417508602142, 0.014636308886110783, -0.02537921443581581, -0.04077257588505745, 0.012419232167303562, -0.03684312105178833, 0.021684087812900543, -0.022531263530254364, 0.05050608143210411, -0.05241673067212105, 0.02992151863873005, 0.04581957682967186, -0.003582470817491412, -0.001678579137660563, 2.555890205258038e-05, -0.03668089583516121, -0.02092703804373741, -0.01218490768224001, -0.06279914081096649, 0.06247468665242195, 0.0021438496187329292, -0.015916084870696068, 0.04326002672314644, 0.02974126860499382, -0.017817722633481026, -0.011472919024527073, 0.04686502739787102, -0.005267809610813856, 0.006507028825581074, 0.023738939315080643, -0.05836498364806175, -0.017718585208058357, -0.020494436845183372, 0.004844221752136946, 0.02391918934881687, -0.04942458122968674, 0.01606028527021408, -0.0022013045381754637, -0.03702337294816971, -0.015546571463346481, 0.007214510813355446, 0.07447934150695801, 0.009120655246078968, -0.027488142251968384, -0.016276584938168526, -0.017403148114681244, -0.05706718564033508, 0.002956101670861244, -0.01724993623793125, -0.014780509285628796, 0.03810487315058708, 0.012284045107662678, -0.02793876640498638, -0.03051634319126606, 0.012761707417666912, -0.0009451865334995091, 0.019304785877466202, -0.01465433370321989, -0.04733368009328842, 0.07166744023561478, 0.06153738871216774, -0.030552392825484276, 0.004938852973282337, -0.008142798207700253, -0.034409746527671814, -0.02676714025437832, 0.014158645644783974, -0.05086658149957657, -0.035851746797561646, -0.05634618550539017, 0.021503837779164314, -0.04801863059401512, 0.05014558136463165, 0.010364381596446037, 0.00014370722055900842, -0.0020447121933102608, 0.007768779527395964, 0.01966528594493866, -0.0006179198971949518, 0.018818112090229988, -0.011346744373440742, -0.01752932369709015, -0.020386287942528725, -0.036879170686006546, -0.006556597538292408, -0.04711737856268883, -0.008764661848545074, -0.024243639782071114, -0.04023182392120361, -0.048343077301979065, -0.0013000539038330317, 0.03785252198576927, 0.042611125856637955, 0.03976317495107651, 0.010021906346082687, 0.002442389028146863, -0.02676714025437832, -0.007043273188173771, 0.0016256306553259492, -0.0323188453912735, -0.0004976592608727515, 0.011986631900072098, -0.07152324169874191, -0.00936399307101965, -0.02983139269053936, -0.018475636839866638, 0.027127642184495926, -0.045783527195453644, 0.01615040935575962, 0.026352565735578537, 0.05497628450393677, 0.007394760847091675, -0.022621389478445053, -0.03230081871151924, 0.005335403140634298, -0.011085381731390953, -0.012581457383930683, -0.06863924115896225, 0.032192669808864594, 0.029164467006921768, -0.03199439495801926, -0.029290642589330673, 0.0038235553074628115, -0.012293057516217232, -0.02734394185245037, -0.018782060593366623, -0.05540888383984566, -0.03958292305469513, 0.024495989084243774, -0.03152574226260185, -0.031003018841147423, -0.024405864998698235, 0.021990513429045677, 0.014501120895147324, -0.04023182392120361, 0.056201983243227005, 0.05973488464951515, 0.009742517955601215, 0.034589994698762894, 0.0042696744203567505, -0.0625828355550766, 0.03846537321805954, -0.0004489354323595762, -0.03514876961708069, -0.04913618043065071, -0.019863562658429146, 0.03325614333152771, 0.02076481282711029, 0.0007328293286263943, 0.019521087408065796, 0.027307892218232155, 0.03994342312216759, -0.03455394506454468, 0.007088335696607828, 0.02042233757674694, 0.03734782338142395, 0.005321884527802467, 0.05288538336753845, -0.012247994542121887, -0.004772121552377939, 0.006754872854799032, -0.023234238848090172, -0.003327867714688182, -0.05173178017139435, -0.0007722590817138553, 0.023234238848090172, 0.015573609620332718, -0.009715480729937553, 0.02453204058110714, 0.003215211210772395, -0.021161362528800964, 0.006160047370940447, -0.02153988741338253, -0.014014446176588535, 0.03846537321805954, -0.029290642589330673, -0.02496463991701603, -0.01089611928910017, -0.05360638350248337, 0.02905631810426712, -0.06525053828954697, 0.031129194423556328, 0.038861922919750214, -0.015528546646237373, -0.04935247823596001, 0.02128753811120987, -0.03451789543032646, 0.011418844573199749, 0.02480241470038891, -0.0007300129509530962, 0.016619060188531876, -0.02606416493654251, -0.008264467120170593, -0.005668865982443094, 0.03835722431540489, 0.04632427915930748, 0.00688104797154665, -0.05147943273186684, 0.038501422852277756, -0.011247606948018074, -0.03581569716334343, 0.017934884876012802, -0.023035963997244835, 0.015014833770692348, -0.00013335690891835839, -0.004533290397375822, -0.013050108216702938, -0.044918328523635864, -0.007169447839260101, 0.008588917553424835, -0.0024851984344422817, 0.010661793872714043, 0.011274644173681736, 0.035941872745752335, 0.04221457615494728, -0.06726934015750885, 0.00596177252009511, 0.05991513654589653, -0.004700021352618933, 0.012446270324289799, -0.032697368413209915, 0.07945425063371658, 0.002570817247033119, 0.02965114265680313, 0.04906408116221428, -0.01222996972501278, 0.006412397604435682, 0.010706856846809387, 0.013194307684898376, 0.02350461483001709, -0.029723243787884712, -0.010229193605482578, 0.02777654118835926, 0.005434540566056967, -0.000436824862845242, -0.052272532135248184, 0.02206261269748211, -0.004346280824393034, -0.019701337441802025, 0.03215662017464638, 0.043043725192546844, -0.003713152138516307, 0.00978758092969656, -0.009814618155360222, 0.0066196853294968605, -0.009336955845355988, 0.007921991869807243, 0.027145667001605034, -0.027199741452932358, -0.009336955845355988, -0.022206813097000122, -0.029038293287158012, 0.0022722778376191854, -0.00011244508641539142, -0.05418318137526512, -0.009616343304514885, -0.01665510982275009, 0.009499181061983109, -0.01719585992395878, 0.01616843417286873, -0.01719585992395878, 0.015483484603464603, -0.039114274084568024, -0.01802501082420349, 0.013014057651162148, 0.010121043771505356, 0.015150021761655807, -0.041926175355911255, -0.01059870608150959, 0.016447821632027626, -0.014807546511292458, 0.009336955845355988, 0.02503673918545246, -0.007259573321789503, 0.04708132892847061, -0.010995256714522839, -0.037131521850824356, 0.003832567948848009, 0.029002241790294647, 0.020404312759637833, 0.0003216337936464697, 0.03691522032022476, -0.02298188954591751, 0.011193531565368176, -0.004605390131473541, 0.0065385727211833, -0.025883914902806282, -0.0026091202162206173, -0.026965416967868805, 0.008615954779088497, -0.020836912095546722, -0.04214247688651085, -0.004179549403488636, 0.008408667519688606, 0.010454506613314152, 0.028497541323304176, -0.01642078533768654, 0.02188236266374588, 0.029506942257285118, -0.045531176030635834, 0.029795343056321144, -0.01641177199780941, 0.062438637018203735, -0.009805605746805668, -0.0420343242585659, 0.009940793737769127, -0.02734394185245037, -0.012175895273685455, 0.024514013901352882, 0.020494436845183372, 0.015483484603464603, 0.032012417912483215, 0.013131220825016499, 0.04077257588505745, 1.0473517249920405e-05, 0.0028119017370045185, 0.020566537976264954, 0.03262526914477348, -0.02932669222354889, 0.034157395362854004, 0.01854773610830307, -0.01388827059417963, -0.027325917035341263, -0.025757741183042526, -0.01573583483695984, 0.007656123489141464, 0.016294609755277634, 0.013798145577311516, 0.024423889815807343, -0.004911815281957388, 0.012923932634294033, 0.020494436845183372, 0.005294846836477518, -0.024856489151716232, -0.031669944524765015, -0.01579892262816429, 0.03624829649925232, 0.00749840447679162, -0.01043648086488247, -0.013410608284175396, 0.00833206158131361, 0.008084217086434364, -0.023198189213871956, -0.005844609811902046, -0.011094394139945507, 0.0005579304415732622, 0.00011554313823580742, 0.02608218975365162, -0.014969771727919579, 0.00875564943999052, -0.0064664725214242935, 0.033634670078754425, -0.01614139787852764, 0.004380077589303255, -0.030984994024038315, 0.0013124460820108652, -0.009427080862224102, -0.02094506286084652, 0.0017416666960343719, 0.0077192108146846294, 0.07318154722452164, -0.013590858317911625, 0.0360860712826252, -0.009427080862224102, -0.06597153842449188, -0.01131970714777708, -0.006340297404676676, 0.012536395341157913, -0.009327943436801434, -0.022585337981581688, 0.004578352905809879, 0.009490168653428555, -0.03103906847536564, 0.029344717040657997, -0.008886330761015415, 0.0011395186884328723, -0.028767917305231094, 0.009026024490594864, 0.0067909229546785355, 0.0034270051401108503, -0.02537921443581581, -0.0333462692797184, 0.012635532766580582, -0.004609896335750818, -0.016799310222268105, -0.0036635834258049726, -0.030534368008375168, 0.02391918934881687, 0.0015997197479009628, 0.009859681129455566, -0.01388827059417963, 0.020458387210965157, -0.015375333838164806, -0.006682772655040026, 0.046540576964616776, 0.019467011094093323, 0.036446571350097656, -0.006993704009801149, -0.0117072444409132, -0.02853359282016754, 0.019430961459875107, 0.011067356914281845, 0.009589306078851223, -0.04033997282385826, 0.03376084566116333, 0.0021123059559613466, 0.017385123297572136, 0.042791374027729034, 0.0381409227848053, -0.01499680895358324, -0.018331436440348625, -0.018088098615407944, -0.04376472532749176, 0.01716882362961769, 0.004312484059482813, 0.014438034035265446, 0.018854161724448204, 0.019503062590956688, -0.06301543861627579, 0.01590707153081894, 0.029128417372703552, -0.025090815499424934, -0.004603137262165546, -0.06525053828954697, -0.01304109487682581, 0.018655886873602867, -0.039618972688913345, -0.03275144472718239, 0.02537921443581581, -0.02480241470038891, 0.008805218152701855, 0.012139844708144665, -0.023522639647126198, -0.02572168968617916, -0.015708796679973602, 0.04527882859110832, -0.007791311014443636, -0.010887106880545616, -0.0035937365610152483, -0.019845537841320038, 0.0006370714982040226, -0.018187236040830612, -0.01047253143042326, 0.03606804832816124, -0.00837261788547039, 0.044485725462436676, -0.02256731316447258, 0.009553255513310432, -0.04289952665567398, -0.02665899135172367, -0.02590193971991539, -0.012419232167303562, -0.012581457383930683, -0.005200215615332127, -0.027055541053414345, -0.03915032371878624, -0.007971560582518578, -0.03386899456381798, -0.00029656777041964233, 0.02528909035027027, -0.010670806281268597, -0.02161198854446411, -0.008611449040472507, 0.05998723581433296, -0.008039155043661594, -0.03871772438287735, -0.004348533693701029, -0.023720914497971535, -0.01761043630540371, 0.00017025186389219016, -0.01880008541047573, 0.027199741452932358, 0.03489642217755318, -0.017574384808540344, 0.026262441650032997, 0.0001406091614626348, 0.0019061448983848095, 0.01380715798586607, -0.044413626194000244, 0.009877705946564674, -0.0028794954996556044, 0.031976368278265, -0.025523414835333824, 0.0004137303330935538, -0.010003880597651005, 0.013059120625257492, 0.005096571985632181, 0.013653946109116077, -0.023144114762544632, 0.02444191463291645, 0.0207828376442194, 0.001678579137660563, 0.009273868054151535, 0.0016966041876003146, 0.0021123059559613466, 0.004271927755326033, -0.023702889680862427, -0.002877242397516966, 0.012554420158267021, 0.02898421697318554, -0.012914920225739479, -0.005646334495395422, 0.0014420008519664407, 0.040123675018548965, -0.0015591634437441826, 0.006218628957867622, -0.04794652760028839, -0.005862634629011154, 0.03145364299416542, 0.011635144241154194, -0.02016998641192913, -0.019448986276984215, -0.0015062149614095688, -0.008066192269325256, -0.02126951329410076, 0.026298491284251213, 0.03332824632525444, -0.009553255513310432, -0.02436981536448002, -0.005024471785873175, 0.021341612562537193, -0.04044812545180321, -0.005033484194427729, -0.01341962069272995, 0.0117072444409132, 0.0029290642123669386, 0.012031694874167442, 0.0028254203498363495, -0.002818661043420434, 0.03821302205324173, 0.007674148306250572, 0.043728675693273544, 0.034571971744298935, 0.053966883569955826, 0.009107137098908424, -0.015321259386837482, 0.045783527195453644, -0.046973180025815964, -0.029254592955112457, 0.03255316987633705, -0.010544631630182266, -0.015240146778523922, 0.04574747756123543, -0.019611211493611336, -0.03257119283080101, -0.008877317421138287, -0.002622639061883092, -0.005844609811902046, -0.014356921426951885, 0.03154376894235611, 0.0004002115747425705, -0.005664359778165817, -0.010499568656086922, 0.038609571754932404, -0.014933721162378788, -0.01813316158950329, 0.023702889680862427, -0.03134549409151077, 0.004740577656775713, 0.07671444863080978, 0.018944285809993744, 0.03395912051200867, 0.0005497628590092063, 0.035004571080207825, 0.0009457498090341687, -0.01778167299926281, -0.01021116878837347, -0.02813704125583172, 0.0323188453912735, -0.013798145577311516, 0.0064664725214242935, 0.002271151402965188, 0.01820526085793972, -0.03496852144598961, -0.0025077296886593103, -0.017745623365044594, 0.016961535438895226, -0.021575937047600746, -0.006250172387808561, -0.0316338948905468, 0.007250560447573662, 0.02494661509990692, -0.009751531295478344, 0.06640414148569107, 0.013311470858752728, 0.018439585343003273, -0.015384347178041935, 0.020909013226628304, -0.007768779527395964, 0.011878482066094875, 0.03412134572863579, 0.03579767048358917, -0.017385123297572136, 0.032192669808864594, -0.017304010689258575, 0.0011350123677402735, 0.022242862731218338, 0.0009756037034094334, 0.015852997079491615, 0.029128417372703552, 0.05169573053717613, -0.014753471128642559, -0.017367098480463028, -0.01632164791226387, -0.02487451583147049, -0.00504700280725956, 0.022008538246154785, -0.010796981863677502, -0.014392971061170101, 0.012644545175135136, -0.08212194591760635, 0.024640189483761787, -0.03486037254333496, 0.018340447917580605, -0.008832255378365517, -0.011959594674408436, 0.025667615234851837, -0.04744182899594307, 0.04214247688651085, -0.0030169361270964146, -0.03275144472718239, 0.011409832164645195, -0.012716645374894142, 0.028425442054867744, 0.03976317495107651, -0.0184485986828804, 0.009958818554878235, -0.0033594113774597645, 0.010724881663918495, -0.020025787875056267, -0.027199741452932358, -0.01436593383550644, -0.03702337294816971, -0.01812414824962616, 0.02053048647940159, 0.016276584938168526, 0.013671970926225185, 0.015618671663105488, -0.036554720252752304, 0.013960370793938637, 0.023955238983035088, -0.0004962511011399329, -0.02172013744711876, 0.01158106978982687, -0.05411108210682869, 0.01346468273550272, 0.02377498894929886, -0.0746956467628479, -0.004736071452498436, -0.008940405212342739, -0.009562267921864986, -0.0013496227329596877, 0.004513012245297432, 0.026731090620160103, 0.027992842718958855, -0.04026787355542183, -0.051587581634521484, -0.03174204379320145, 0.021918412297964096, 0.0026609422639012337, -0.010229193605482578, 0.010490556247532368, -0.012365157715976238, -0.005330896936357021, 0.001355255488306284, -0.011572057381272316, 0.00799409206956625, 0.008570892736315727, -0.06982889026403427, 0.000373174058040604, -0.030714618042111397, -0.013068133033812046, -0.006763885263353586, -0.032102543860673904, 0.006529560312628746, 0.02555946446955204, 0.006872035562992096, 0.010454506613314152, 0.04801863059401512, 0.00775976711884141, -0.06388063728809357, 0.023216214030981064, -0.002050345065072179, 0.027470115572214127, 0.018259335309267044, 0.05811263620853424, 0.006241159979254007, -0.011229582130908966, 0.01081500668078661, 0.0008618208230473101, -0.05317378044128418, 0.005290340632200241, -0.012959983199834824, -0.013491720892488956, -0.011031306348741055, 0.0031791613437235355, -0.009481155313551426, 0.006696291733533144, 0.019088486209511757, 0.015321259386837482, -0.019124535843729973, 0.02718171663582325, 0.0137620959430933, 0.009382017888128757, -0.021756188943982124, 0.024730315431952477, -0.03239094465970993, -0.020404312759637833, -0.03657274693250656, 0.05490418151021004, 0.006547585129737854, 0.005493122152984142, -0.01597917266190052, 0.03976317495107651, -0.007110866717994213, 0.02537921443581581, 0.017763648182153702, -0.001027425634674728, -0.014744458720088005, -0.0010854436550289392, -0.03796067461371422, 0.0028051421977579594, -0.05248882994055748, 0.04315187409520149, -0.00829150527715683, -0.0008066192385740578, -0.047658126801252365, -0.016970546916127205, 0.0022339748684316874, -0.025577491149306297, 0.01658301055431366, -0.02179223857820034, -0.022585337981581688, 0.008850280195474625, -0.02880396693944931, -0.04556722566485405, -0.0002163001336157322, 0.016537947580218315, 0.02907434292137623, 0.030318068340420723, -0.01286084484308958, 0.021575937047600746, -0.0001758846774464473, 0.03356257081031799, 0.022873738780617714, -0.030786719173192978, 0.014032470993697643, 0.017069684341549873, -0.002784864278510213, 0.009931781329214573, -0.037564121186733246, 0.02793876640498638, -0.04549512639641762, -0.01597015932202339, 0.0034968520049005747, 0.02445993945002556, -0.016898447647690773, 0.003870871150866151, 0.018475636839866638, -0.02309003844857216, 0.004997434094548225, -0.004576099570840597, 0.02274756319820881, -0.015564597211778164, 0.04985718056559563, -0.02265743911266327, -0.02375696413218975, 0.05468788370490074, 0.005475096870213747, -9.280064114136621e-05, 0.02126951329410076, -0.007475873455405235, 0.009697455912828445, -0.008025635965168476, 0.01043648086488247, -0.03318404406309128, -0.014483096078038216, -0.006209616083651781, 0.05652643367648125, 0.02539724111557007, 0.006944135297089815, -0.02665899135172367, 0.03085881844162941, -0.023486590012907982, 0.027830617502331734, -0.04358447715640068, 0.006930616684257984, -0.0007649363833479583, -6.477738497778773e-05, -0.03624829649925232, -0.0020345731172710657, -0.009048555046319962, 0.020656662061810493, -0.01021116878837347, 0.012716645374894142, -0.013987408019602299, 0.024838464334607124, -0.00019517706823535264, -0.007173954509198666, 5.844046609126963e-05, -0.009264855645596981, 0.01013005618005991, -0.03246304392814636, 0.013455670326948166, 0.0075299483723938465, -0.05479603260755539, -0.033364295959472656, 0.012374170124530792, 0.009030530229210854, 0.024171538650989532, 0.0206746868789196, 0.021161362528800964, 0.022459164261817932, 0.005668865982443094, 0.029759293422102928, 0.017313022166490555, 0.006705304142087698, 0.00543003436177969, -0.020206037908792496, -0.03565347194671631, -0.008805218152701855, -0.016961535438895226, -0.004120968282222748, -0.004292205907404423, 0.019106511026620865, -0.017403148114681244, 0.026280466467142105, 0.01939491182565689, -0.019016386941075325, 0.00726407952606678, 0.01957516185939312, -0.026785166934132576, 0.009715480729937553, -0.011049332097172737, -0.017313022166490555, -0.018511686474084854, -0.041421473026275635, 0.009697455912828445, 0.03940267488360405, 0.02873186767101288, 0.02658689022064209, 0.01410457119345665, -0.00512811541557312, -0.03657274693250656, 0.019412936642766, -0.018394524231553078, 0.009309917688369751, -0.005502134561538696, 0.022873738780617714, -0.009544243104755878, -0.0029876455664634705, -0.04538697749376297, 0.029362741857767105, 0.01683535985648632, -0.002422110876068473, -0.010914144106209278, 0.00999486818909645, 0.003456295933574438, 0.010661793872714043, -0.03287762030959129, 0.014005433768033981, 0.009291892871260643, -0.010265243239700794, 0.024982664734125137, -0.03305786848068237, -0.011076369322836399, 0.0009136427543126047, -0.012968995608389378, 0.021575937047600746, -0.005641828291118145, 0.017060672864317894, -0.014555196277797222, 0.001022919313982129, -0.018583785742521286, 0.0006393246003426611, -0.03532902151346207, -0.008890836499631405, 0.026695040985941887, -0.0023364920634776354, 0.008084217086434364, -0.00592121621593833, -0.016610046848654747, -0.012617507949471474, 0.010084993205964565, -0.030480293557047844, -0.004438658710569143, 0.02325226366519928, -0.0038550992030650377, 0.051082879304885864, 0.016276584938168526, -0.034157395362854004, -0.027127642184495926, 0.02956101857125759, -0.043620526790618896, 0.005614791065454483, 0.01131970714777708, -0.024910565465688705, 0.026442691683769226, -0.019124535843729973, -0.015934109687805176, -0.006151034962385893, 0.00557874096557498, 0.006741354241967201, 0.015159034170210361, -0.0046459464356303215, 0.0028366860933601856, -0.0013879258185625076, -0.005141634494066238, -0.006074428558349609, 0.011517981998622417, 0.061068736016750336, 0.007899461314082146, -0.05335403233766556, -0.028785942122340202, -0.01158106978982687, 0.03111116960644722, 0.017826735973358154, 0.01708771102130413, -0.02444191463291645, -0.044846225529909134, -0.009345968253910542, -0.03493247181177139, -0.0064529539085924625, -0.05014558136463165, 0.010643769055604935, -0.036807071417570114, -0.020746788010001183, -0.01973738707602024, -0.013068133033812046, -0.015321259386837482, -0.0033143488690257072, 0.011274644173681736, -0.03871772438287735, 0.044918328523635864, 0.004467949736863375, -0.013897283002734184, 0.005515653174370527, 0.003945224452763796, -0.020043812692165375, 0.02112531289458275, -0.047225527465343475, -0.03650064766407013, -0.06849504262208939, -0.023702889680862427, -0.011409832164645195, -0.019304785877466202, -0.010166105814278126, -0.003985780291259289, 0.019719362258911133, -0.012428244575858116, 0.02727184072136879, 0.02460413984954357, -0.0012448523193597794, 0.010148080997169018, 0.0033166019711643457, -0.030966969206929207, -0.034752219915390015, 0.05447158217430115, 0.05786028504371643, -0.017547348514199257, -0.006214122287929058, 0.029849417507648468, -0.0001311741943936795, -0.013852220959961414, 0.006042884662747383, 0.00025826459750533104, -0.003372930223122239, -0.03280552104115486, -0.019593186676502228, -0.016339672729372978, 0.026208365336060524, -0.0028704828582704067, -0.019467011094093323, -0.024297714233398438, -0.00696216057986021, 0.006529560312628746, -0.023540664464235306, 0.0020863949321210384, -0.004416127689182758, -0.03556334599852562, 0.02939879335463047, -0.014320870861411095, 0.009327943436801434, 0.0016571744345128536, 0.008286998607218266, -0.012761707417666912, -0.018493661656975746, 0.044990427792072296, 0.004105196334421635, -0.010499568656086922, -0.02563156560063362, 0.018430573865771294, 0.021557912230491638, 0.02505476586520672, -0.01666412316262722, -0.008710586465895176, 0.018322423100471497, -0.03633842244744301, 0.027217766270041466, -0.001997396582737565, 0.0005903191049583256, -0.0350586473941803, -0.0015985931968316436, -0.020548513159155846, 0.022116689011454582, -0.01333850808441639, -0.00027403648709878325, -0.0302639938890934, 0.0015839478000998497, -0.00833206158131361, 0.017934884876012802, 0.00794903002679348, 0.02701949141919613, -0.004600883927196264, -0.0012561179464682937, -0.04001552239060402, 0.023396464064717293, -0.009152199141681194, 0.03262526914477348, -0.04077257588505745, 0.01657399721443653, -0.018746010959148407, 0.007489392068237066, 0.0016121119260787964, -0.022242862731218338, 0.0012493585236370564, -0.017754634842276573, 0.007737236097455025, 0.006777403876185417, 0.036626823246479034, 0.007687666919082403, -0.00280964863486588, -0.005907697137445211, 0.008079711347818375, -0.02896619215607643, 0.0037604679819196463, 0.01666412316262722, 0.020548513159155846, -0.030876843258738518, -0.002575323451310396, 0.02163001336157322, 0.00025474411086179316, -0.0173580851405859, 0.025775766000151634, -0.010914144106209278, -0.03024596907198429, 0.0066241915337741375, 0.001128253061324358, 0.012590469792485237, 0.02665899135172367, 0.00931893102824688, -0.06982889026403427, -0.017114747315645218, 0.017204873263835907, 0.001380039844661951, 0.020728763192892075, 0.004781133960932493, 0.00022460853506345302, 0.013572833500802517, 0.009733505547046661, -0.007665135897696018, -0.02710961550474167, -0.026622941717505455, -0.006745860446244478, -0.0007367723155766726, -0.0007947903359308839, -0.00893589947372675, 0.018583785742521286, -0.00508755911141634, -0.006101466249674559, -0.000332899420754984, 0.03878982365131378, -0.0026113735511898994, -0.026478741317987442, 0.042863477021455765, 0.002847951604053378, -0.012058732099831104, 0.011806381866335869, -0.01753833517432213, -0.033111944794654846, 0.005448059644550085, 0.014203708618879318, 0.04700922966003418, 0.00022798821737524122, -0.023378439247608185, 0.04127727448940277, -0.025325139984488487, 0.003983527421951294, 0.0013935586903244257, -0.02044036239385605, -0.028443466871976852, -0.04077257588505745, -0.013960370793938637, 0.0017844761023297906, -0.02343251369893551, -0.005421021953225136, 0.0020334464497864246, 0.02581181563436985, 0.00100376782938838, -0.0028547111432999372, 0.01964726112782955, -0.002347757574170828, -0.025937991216778755, 0.03103906847536564, 0.013356532901525497, -0.014483096078038216, 0.0033436394296586514, 0.04207037389278412, -0.0004064076638314873, -0.01658301055431366, -0.0200978871434927, 0.017880810424685478, -0.011103406548500061, 0.032517120242118835, 0.029542991891503334, 0.04041207581758499, -0.03650064766407013, 0.043476324528455734, -0.0006984691717661917, -0.021846313029527664, 0.05360638350248337, 0.003636545967310667, -0.019683312624692917, -0.038861922919750214, 0.031093142926692963, 0.0035103708505630493, 0.0055607156828045845, 0.0475139282643795, -0.017583398148417473, 0.019358862191438675, 0.02042233757674694, -0.04444967582821846, -0.01247330754995346, 0.03439171984791756, -0.0019196636276319623, 0.022783612832427025, -0.008899848908185959, 0.02307201363146305, 0.024243639782071114, 0.004134486895054579, 0.004472455941140652, 0.016024233773350716, -0.029344717040657997, 0.03684312105178833, -0.012545407749712467, -0.03194031864404678, 0.012617507949471474, 0.00043541667400859296, -0.02179223857820034, -0.014888659119606018, 0.013915308751165867, 0.039114274084568024, -0.005448059644550085, 0.03060646913945675, -0.009751531295478344, -0.01743919774889946, 0.004145752638578415, 0.010959206148982048, -0.018511686474084854, 0.005515653174370527, 0.035094697028398514, -0.013131220825016499, -0.0031205799896270037, 0.02444191463291645, -0.006507028825581074, 0.024153513833880424, -0.0039362115785479546, 0.002286923350766301, 0.03204846754670143, 0.006214122287929058, -0.006696291733533144, -0.02521698921918869, -0.02460413984954357, 0.02033221162855625, 0.04344027489423752, -0.014987796545028687, 0.010670806281268597, 0.007462354376912117, -0.0018926261691376567, -0.016033247113227844, 0.030588442459702492, 0.009706468321383, 0.010400431230664253, 0.000282485707430169, 0.004569340031594038, 0.024838464334607124, 0.002998911077156663, 0.004044361878186464, 0.0005500444676727057, 0.022260887548327446, -0.026695040985941887, 0.024405864998698235, 0.028695818036794662, -0.016357697546482086, 0.009769556112587452, -0.007430810946971178, 0.0017551854252815247, 0.02590193971991539, 0.009544243104755878, -0.00780032342299819, 0.02085493691265583, -0.005281328223645687, 0.03017386794090271, 0.027920741587877274, -0.02727184072136879, 0.03134549409151077, 0.015492497012019157, -0.01341962069272995, -0.02932669222354889, -0.014897671528160572, 0.019376887008547783, 0.005330896936357021, -0.030444243922829628, -0.022801639512181282, 0.008183354511857033, 0.004044361878186464, -0.023017939180135727, -0.01615942269563675, -0.011130443774163723, -0.03161586821079254, 0.0057094222865998745, 0.030732642859220505, -0.00020362628856673837, 0.012419232167303562, -0.01649288460612297, 0.03383294492959976, -0.0049658906646072865, -0.014843596145510674, 0.015393359586596489, 0.031057093292474747, 0.006074428558349609, -0.00978758092969656, -0.026388615369796753, 0.021738162264227867, 0.00983264297246933, 0.013708020560443401, -0.0005114596569910645, -0.00038838264299556613, 0.004992927890270948, 0.01898033730685711, 0.00038528459845110774, -0.00841317418962717, -0.03958292305469513, -0.005375959444791079, -0.017457222566008568, -0.01623152196407318, 0.007795817218720913, -0.025162914767861366, 0.021503837779164314, -0.012284045107662678, 0.027542216703295708, -0.022188788279891014, -0.006926110479980707, 0.008183354511857033, -0.024477964267134666, -0.0374559722840786, 0.008606942370533943, -0.047045279294252396, 0.007678654510527849, 0.015528546646237373, 0.031237343326210976, -0.002658689161762595, -0.003879883559420705, 0.012428244575858116, 0.00025474411086179316]\n"
     ]
    }
   ],
   "source": [
    "# 문서 컬렉션\n",
    "documents = [\n",
    "    \"인공지능은 컴퓨터 과학의 한 분야입니다.\",\n",
    "    \"머신러닝은 인공지능의 하위 분야입니다.\",\n",
    "    \"딥러닝은 머신러닝의 한 종류입니다.\",\n",
    "    \"자연어 처리는 컴퓨터가 인간의 언어를 이해하고 생성하는 기술입니다.\",\n",
    "    \"컴퓨터 비전은 컴퓨터가 디지털 이미지나 비디오를 이해하는 방법을 연구합니다.\"\n",
    "]\n",
    "\n",
    "# 문서 임베딩\n",
    "document_embeddings = embeddings_model.embed_documents(documents)\n",
    "\n",
    "# 임베딩 결과 출력\n",
    "print(f\"임베딩 벡터의 개수: {len(document_embeddings)}\")\n",
    "print(f\"임베딩 벡터의 차원: {len(document_embeddings[0])}\")\n",
    "print(document_embeddings[0])"
   ]
  },
  {
   "cell_type": "markdown",
   "id": "7ef1d8f7",
   "metadata": {},
   "source": [
    "`(3) embed_query 사용`"
   ]
  },
  {
   "cell_type": "code",
   "execution_count": 44,
   "id": "f2da83df",
   "metadata": {},
   "outputs": [
    {
     "name": "stdout",
     "output_type": "stream",
     "text": [
      "쿼리 임베딩 벡터의 차원: 1536\n",
      "[-0.022442810237407684, 0.022195978090167046, 0.0003776662633754313, 0.005681904498487711, 0.01217076275497675, -0.04473372548818588, -0.026259228587150574, 0.03582875058054924, -0.002586999209597707, 0.014762508682906628, -0.0020446786656975746, 0.0008562018047086895, -0.0048796976916491985, -0.07355621457099915, 0.008971428498625755, -0.01542705949395895, -0.05988547205924988, -0.022404836490750313, 0.022480785846710205, -0.06911322474479675, -0.029278185218572617, 0.02320229634642601, -0.036873046308755875, 0.0041249580681324005, 0.011097989045083523, -0.052746303379535675, 0.010756220668554306, 8.507133316015825e-05, -0.010746726766228676, -0.034271806478500366, 0.02527189627289772, -0.01883525215089321, -0.0015961072640493512, -0.05882218852639198, 0.04970835894346237, -0.0034485410433262587, -0.002881299937143922, -0.00852522999048233, -0.004564036149531603, 0.022860528901219368, -0.011971398256719112, 0.038031261414289474, 0.0033488585613667965, 0.03527812287211418, -0.05137922614812851, 0.03438572958111763, -0.02848072536289692, 0.00469931960105896, -0.013604292646050453, 0.03858188912272453, -0.04526536539196968, 0.034499652683734894, -0.007613847032189369, -0.009593257680535316, -0.0030616777949035168, 0.06486010551452637, 0.011468238197267056, 0.03138575702905655, -0.005914497189223766, 0.04727800190448761, -0.0003524489584378898, -0.003676386782899499, 0.016585275530815125, 0.03907555341720581, -0.06235380098223686, -0.02056308276951313, -0.0027317760977894068, 0.035430021584033966, -0.0376325324177742, -0.021208645775914192, 0.041543882340192795, 0.002169281942769885, -0.07218914479017258, -0.005278427619487047, -0.019765622913837433, 0.013993529602885246, -0.02082890272140503, 0.04348057135939598, -0.0008229742525145411, 0.012446076609194279, 0.019594738259911537, 0.009332183748483658, 0.0011730497935786843, -0.044202085584402084, -0.00968819297850132, -0.016870083287358284, -0.020639032125473022, -0.054189324378967285, -0.05236655846238136, -7.987952994881198e-05, -0.018730822950601578, 0.0617082379758358, -0.025328857824206352, 0.03149968013167381, -0.019841572269797325, 0.03934137523174286, 0.07860679924488068, -0.008729342371225357, 0.010946092195808887, 0.023714950308203697, -0.03197436034679413, 0.0038140437100082636, 0.016841601580381393, 0.034214843064546585, 0.024189628660678864, -0.057682961225509644, -0.01708843559026718, 0.028594648465514183, 0.02851869910955429, 0.01059482991695404, 0.021322568878531456, 0.009778382256627083, -0.08437889069318771, 0.0369110181927681, -0.020733967423439026, -0.0020873998291790485, 0.007423975504934788, -0.020069416612386703, -0.012892275117337704, -0.03784139081835747, -0.029202235862612724, -0.011335328221321106, 0.02758832834661007, -0.0022594707552343607, -0.030721208080649376, -0.02933514676988125, -0.002641587285324931, -0.030930066481232643, -0.023999758064746857, -0.010091669857501984, -0.013613786548376083, 0.025461768731474876, -0.030455388128757477, 0.00748093705624342, 0.02261369489133358, -0.07173345237970352, 0.022442810237407684, 0.038373030722141266, -0.012009372003376484, -0.04758179560303688, 0.012721390463411808, -0.0017349508125334978, -0.02377191185951233, -0.002191829029470682, -0.026961753144860268, -0.04192362725734711, -0.0019900905899703503, -0.01542705949395895, -0.0008182274759747088, -0.005496779922395945, -0.057455115020275116, -0.007822705432772636, -0.043062854558229446, -0.029771851375699043, -0.04256919026374817, 0.03580976277589798, -0.01190494280308485, 0.03615153208374977, -0.0007191383047029376, -0.0040703704580664635, -0.034803446382284164, 0.0017586847534403205, -0.007571125868707895, -0.0029691155068576336, -0.05783485993742943, 0.06015129014849663, -0.023695962503552437, 0.003232562215998769, 0.016803627833724022, -0.006028419826179743, -0.05415135249495506, -0.0026890551671385765, -0.018417535349726677, 0.007984096184372902, -0.0007719463319517672, -0.021379530429840088, 0.01847449690103531, 0.0009724980918690562, -0.0068591078743338585, -0.05054379254579544, -0.05077163875102997, -0.03704392910003662, -0.03639836609363556, 0.01847449690103531, -0.03472749516367912, 0.014715041033923626, -0.02639213763177395, -0.012797338888049126, 0.0017005365807563066, 0.01880677230656147, 0.016803627833724022, 0.04340462386608124, 0.034271806478500366, 0.027721239253878593, 0.006075887940824032, -0.020980801433324814, -0.0021609750110656023, -0.010737232863903046, 0.02935413271188736, 0.015721360221505165, 0.04313880577683449, -0.049214690923690796, 0.02320229634642601, -0.004466726910322905, 0.005933484528213739, 0.020961813628673553, 0.05323996767401695, -0.009730914607644081, -0.04169578105211258, -0.005919244140386581, 0.02322128415107727, -0.019594738259911537, 0.07108788937330246, -0.04735395312309265, -0.016908057034015656, -0.01736374758183956, 0.021645350381731987, 0.027512380853295326, -0.03852492570877075, 0.028575660660862923, -0.03349333256483078, 0.0038781254552304745, -0.023278245702385902, 0.003780816216021776, -0.022746605798602104, 0.00882427766919136, 0.011980891227722168, -0.03533508628606796, 0.023107361048460007, -0.03736671060323715, -0.030360452830791473, -0.02322128415107727, 0.005942977964878082, -0.009493574500083923, -0.024854179471731186, -0.0188162662088871, -0.010347996838390827, -0.0011427890276536345, 0.015493514016270638, 0.011221405118703842, 0.013139107264578342, 0.03286675736308098, -0.012218231335282326, 0.0027626303490251303, 0.004647105000913143, 0.011107482947409153, 0.023866847157478333, 0.026752894744277, -0.006365442182868719, -0.01675616018474102, 0.007310052867978811, -0.03742367401719093, 0.03533508628606796, -0.006289493292570114, 0.0032468026038259268, -0.003180347615852952, 0.02502506412565708, 0.029885774478316307, 0.0018108993535861373, 0.02174028567969799, -0.012597973458468914, 0.02382887341082096, -0.024037731811404228, -0.025404807180166245, 0.005036341492086649, 0.002398314420133829, 0.02500607632100582, 0.03117690049111843, -0.007234103977680206, -0.039797067642211914, -0.041543882340192795, 0.010917611420154572, 0.01703147403895855, -0.02109472267329693, -0.021645350381731987, 0.01231316663324833, 0.00471118651330471, 0.0032752833794802427, -0.029202235862612724, 0.03751860931515694, -0.04340462386608124, -0.010822675190865993, 0.04059452563524246, -0.019879546016454697, 0.012559999711811543, 0.00588601641356945, -0.010689765214920044, -0.06299936026334763, -0.056847527623176575, -0.030056657269597054, 0.07465746998786926, -0.002127747517079115, 0.008909719996154308, 0.028708569705486298, 0.027987059205770493, -0.007623340468853712, 0.028119968250393867, 0.04902482032775879, -0.009137566201388836, 0.014012516476213932, 0.08711304515600204, -0.036322418600320816, -0.06725248694419861, -0.04678433761000633, -0.028594648465514183, 0.05969559773802757, -0.045948904007673264, 0.011278366670012474, 0.002909780712798238, -0.02874654531478882, 0.026885803788900375, 0.03442370146512985, 0.037442658096551895, -0.024816203862428665, -0.008473015390336514, -0.02969590201973915, 0.0061803171411156654, -0.01936689205467701, 0.043594494462013245, 0.003403446637094021, -0.0018844746518880129, -0.007414482068270445, -0.004447740036994219, -0.018284624442458153, -0.03755658119916916, -0.00909959152340889, 0.010215086862444878, -0.002356779994443059, -0.02580353617668152, -0.0164523646235466, 0.039493270218372345, 0.043898291885852814, -0.02876553125679493, -0.011942917481064796, -0.013215056620538235, -0.00910908542573452, -0.03140474483370781, 0.014183401130139828, -0.04606282711029053, -0.041581857949495316, -0.04883494973182678, 0.02671491913497448, -0.05840447172522545, 0.0281769298017025, 0.039569221436977386, -0.0075378986075520515, -0.03140474483370781, -0.0006562433554790914, 0.0002463879354763776, 0.031309809535741806, 0.03858188912272453, -0.02698073908686638, -0.007485684007406235, -0.053581736981868744, -0.03379712626338005, 0.0009582577040418983, -0.006569553632289171, 0.0002959325211122632, -0.02113269828259945, -0.031025003641843796, -0.08483458310365677, -0.028025032952427864, 0.030151594430208206, 0.04294893145561218, -0.00010391014075139537, 0.004355177283287048, 0.015768827870488167, -0.0205061212182045, -0.006854360923171043, -0.025670627132058144, -0.006322721019387245, -0.015702372416853905, 0.026202267035841942, -0.04621472209692001, -0.0071818893775343895, -0.002973862225189805, -0.010205592960119247, 0.02641112543642521, -0.01965169981122017, 0.028423763811588287, 0.01734476163983345, 0.0369110181927681, -0.019803596660494804, -0.06394872069358826, -0.021854208782315254, 0.01906309835612774, 0.009208767674863338, -0.03706291690468788, -0.04424005746841431, 0.04879697412252426, 0.03934137523174286, -0.03580976277589798, -0.024759244173765182, -0.010177112184464931, -0.06334113329648972, 0.0023247392382472754, -0.028879454359412193, -0.03286675736308098, -0.01581629551947117, 0.0033702191431075335, -0.014705547131597996, -0.00183463329449296, -0.009237248450517654, -0.03582875058054924, -0.0019022750202566385, -0.04674636200070381, 0.031879425048828125, 0.042455267161130905, -0.0014631971716880798, 0.05878421664237976, 0.04989822953939438, -0.027550354599952698, 0.04469574987888336, -0.0029975962825119495, -0.01291126199066639, -0.035449009388685226, 0.00770878279581666, 0.0012638322077691555, 0.01159165520220995, 0.006446137558668852, 0.0276452898979187, -0.00912332534790039, -0.014344791881740093, -0.05407540127635002, -0.004965139552950859, 0.009204020723700523, 0.030759181827306747, 0.017145397141575813, 0.07272078096866608, -0.04078439623117447, 0.025708600878715515, 0.038297079503536224, -0.023354195058345795, -0.02198711968958378, -0.05115137994289398, 0.011050521396100521, 0.02673390693962574, -0.01349036954343319, 0.018009312450885773, 0.036816082894802094, -0.015113770961761475, -0.025765562430024147, 0.005871776025742292, -0.03089209273457527, -0.05434122309088707, 0.026050370186567307, -0.04401221498847008, 0.004578276537358761, -0.020411185920238495, -0.08088526129722595, -0.009147059172391891, -0.0272845346480608, 0.03463255986571312, 0.05756903812289238, -4.619310402631527e-06, -0.05229061096906662, 0.013851125724613667, -0.01275936421006918, 0.0155599694699049, 0.016613755375146866, -0.03527812287211418, -0.016661223024129868, -0.007400241680443287, 0.04431600868701935, -0.005354376044124365, -0.005036341492086649, 0.007599606644362211, 0.011667603626847267, -0.03436674177646637, -0.0030426906887441874, -0.08004982024431229, -0.048075463622808456, 0.049176719039678574, -0.02525290846824646, 0.012218231335282326, 0.040670473128557205, 0.02117067202925682, -0.029885774478316307, -0.03432876616716385, 0.013727709650993347, 0.013281511142849922, -0.018085259944200516, 0.018379561603069305, 0.0004067403497174382, 0.04526536539196968, 0.036284442991018295, -0.06691071391105652, -0.011933423578739166, 0.04602485150098801, -0.014809977263212204, -0.023126348853111267, -0.029752863571047783, 0.06820183992385864, -0.001331473933532834, 0.05399945378303528, 0.02206306718289852, 0.008605925366282463, -0.042455267161130905, -0.0023128720931708813, 0.0023199922870844603, 0.0027317760977894068, -0.025328857824206352, -0.02618327923119068, 0.04788559302687645, -0.010803688317537308, -0.016271987929940224, 0.003239682409912348, 0.020639032125473022, -0.02029726281762123, -0.025082025676965714, -0.004720679949969053, 0.016499832272529602, 0.007599606644362211, 0.0059050037525594234, 0.004115464631468058, 0.01967068761587143, 0.0007185449358075857, 0.03698696941137314, 0.031879425048828125, -0.014667573384940624, 0.002845698967576027, 0.013737202621996403, -0.012664428912103176, -0.0020838396158069372, -0.0032515493221580982, -0.04139198735356331, -0.037138864398002625, -0.006840120535343885, -0.007542645093053579, -0.02616429328918457, 0.005753106437623501, -0.005254693794995546, 0.00955528300255537, -0.007352773565798998, -0.026582010090351105, 0.008169220760464668, 0.027702251449227333, 0.01847449690103531, -0.01967068761587143, 0.027740225195884705, 0.017183370888233185, 0.012066333554685116, 0.0065220859833061695, -0.005012607667595148, 0.0010508201085031033, 0.008648646995425224, -0.008088525384664536, -0.045075494796037674, -0.01643337868154049, 0.05544247850775719, 0.03972111642360687, 0.008952440693974495, 0.026031382381916046, -0.03755658119916916, 0.035145215690135956, 0.013851125724613667, -0.0033132575917989016, -0.006792652886360884, -0.0013706348836421967, -0.007760997395962477, -0.0030094631947577, -0.014192894101142883, -0.02935413271188736, -0.01968967355787754, -0.007158155553042889, -0.015436552464962006, 0.022974452003836632, -0.02789212390780449, 0.02090485207736492, 0.020126378163695335, -0.05122733116149902, 0.012730884365737438, -0.0005989852361381054, 0.04515144228935242, -0.020942825824022293, -0.0238098856061697, 0.02139851823449135, -0.040062885731458664, 0.0029833558946847916, 0.04670839011669159, 0.004300589207559824, 0.0023472863249480724, -0.004841723013669252, 0.008135993964970112, 0.03662621229887009, 0.004075116943567991, -0.01455365028232336, 0.033056627959012985, 0.020373212173581123, -0.001339780748821795, 0.029278185218572617, -0.0004889190895482898, 0.007053726352751255, -0.04644256830215454, -0.004984126891940832, -0.0007784731569699943, 0.013082146644592285, -0.0008473015623167157, -0.01844601519405842, 0.04017680883407593, 0.007485684007406235, 0.010965079069137573, 0.00984483677893877, 0.006479364819824696, -0.02090485207736492, -0.02109472267329693, -0.003346485085785389, 0.02493012696504593, 0.022480785846710205, -0.037727467715740204, -0.011192924343049526, -0.0024754495825618505, 0.0002729402913246304, -0.02141750417649746, -0.043670445680618286, -0.008904973044991493, -0.0077989716082811356, 0.017790960147976875, 0.046290669590234756, -0.02200610749423504, -0.020714979618787766, -0.013604292646050453, 0.04697420820593834, -0.01070875208824873, -0.012161269783973694, -0.020430173724889755, -0.006792652886360884, -0.0020233180839568377, -0.03385408967733383, -0.00396831426769495, 0.002449342282488942, 0.0686575323343277, -0.0243415255099535, 0.00909009762108326, 0.006939803250133991, -0.049442537128925323, -0.011876462027430534, -0.014734027907252312, 0.028366802260279655, -0.01541756559163332, -0.030683234333992004, 0.015616931021213531, 0.018436523154377937, -0.030018683522939682, 0.01527516171336174, -0.015692878514528275, -0.02906932681798935, -0.012113801203668118, 0.01363277342170477, -0.01481947023421526, -0.012531518936157227, -0.03968314453959465, -0.033037640154361725, -0.007428722456097603, 0.021265607327222824, -0.002800604561343789, -0.004148692358285189, -0.016234012320637703, 0.02821490541100502, -0.018161209300160408, 0.008121753111481667, -0.014933393336832523, 0.017392229288816452, 0.0071106874383986, -0.008506243117153645, 0.033322446048259735, 0.047771669924259186, 0.021664338186383247, 0.031860437244176865, -0.011857475154101849, -0.04837925732135773, -0.014287830330431461, -0.008919213898479939, 0.011715071275830269, -0.016670716926455498, 0.017221344634890556, -0.030930066481232643, 0.005292668007314205, 0.015104277990758419, 0.009968253783881664, -0.0038638850674033165, 0.005895509850233793, -0.02259470894932747, -0.0158732570707798, 0.025423793122172356, 0.036588236689567566, 0.04074642434716225, 0.018949175253510475, -0.0029833558946847916, -0.05908801034092903, 0.001855993876233697, 0.025195946916937828, 0.00242204824462533, 0.003695374121889472, -0.038316067308187485, 0.028385788202285767, 0.0005856349016539752, 0.00542083103209734, -0.03241106495261192, 0.03379712626338005, -0.012607467360794544, 0.03856290131807327, 0.015664398670196533, -0.032714858651161194, -0.008254663087427616, -0.010632803663611412, 0.0240757055580616, -0.011639122851192951, 0.01764855533838272, 0.010063189081847668, -0.025746574625372887, 0.00319458800368011, 0.01070875208824873, -0.014838457107543945, 0.02287951484322548, 0.022499771788716316, 0.03820214420557022, 0.0010976946214213967, -0.006113862153142691, -0.025689613074064255, -0.01350935734808445, -0.006398669444024563, 0.001812086091376841, -0.012265698984265327, 0.0021728419233113527, -0.01967068761587143, -0.05206276476383209, -0.008197701536118984, -0.02293647639453411, -0.023449130356311798, -0.003996795043349266, -0.029544005170464516, -0.022556733340024948, 0.004656598437577486, 0.05578424781560898, -0.018132727593183517, -0.04032870754599571, 0.0016732425428926945, -0.050657715648412704, 0.0038994858041405678, 0.031537655740976334, -0.006716704461723566, 0.03113892488181591, -0.026790868490934372, -0.022993437945842743, 0.017809946089982986, -0.011629628948867321, 0.03282878175377846, 0.02851869910955429, -0.018626393750309944, -0.002127747517079115, 0.00011006613203790039, 0.017971336841583252, 0.0016269613988697529, 0.01117393746972084, 0.021550415083765984, 0.01497136801481247, -0.03134778514504433, 0.025404807180166245, 0.008776810020208359, 0.01497136801481247, -0.0068448674865067005, 0.010376477614045143, 0.02523392252624035, -0.001432343153283, 0.0008289077668450773, 0.015085290186107159, 0.009474587626755238, 0.014496688731014729, 0.02821490541100502, -0.00176224485039711, -0.016347935423254967, 0.022480785846710205, 0.017135903239250183, 0.04002491012215614, 0.0068258801475167274, -0.0055822222493588924, -0.03535407409071922, -0.01349986344575882, 0.02963894046843052, -0.0071818893775343895, -0.0029548751190304756, -0.0038781254552304745, 0.0018999016610905528, -0.0035505970008671284, 0.0027199091855436563, 0.019262462854385376, 0.007865427061915398, -0.005762599874287844, -0.01670869253575802, -0.01044293213635683, 0.02646808698773384, -0.0029453816823661327, -0.026752894744277, -0.005971458740532398, 0.015332123264670372, 0.007651821244508028, 0.020430173724889755, 0.010927104391157627, -0.02141750417649746, 0.02086687833070755, 0.022082054987549782, 0.01648084633052349, 0.048645079135894775, 0.02441747486591339, 0.006778412498533726, -0.017563113942742348, 0.03355029225349426, -0.01972764916718006, -0.03467053547501564, 0.021873196586966515, 0.008283143863081932, -0.024265578016638756, 0.020809916779398918, -0.023980770260095596, -0.023354195058345795, -0.008107513189315796, -0.004227014258503914, -0.008639153093099594, -0.012968223541975021, 0.03987301513552666, -0.0025893724523484707, 0.027816174551844597, -0.006569553632289171, 0.0404806025326252, 0.017828933894634247, -0.029221223667263985, -0.01263594813644886, -0.02671491913497448, 0.003916099667549133, 0.062429748475551605, 0.02230990119278431, 0.028328826650977135, 0.00020796862372662872, 0.026525048539042473, 0.011420770548284054, -0.018854239955544472, -0.02521493472158909, -0.031537655740976334, 0.012863794341683388, -0.02793009765446186, 0.01045242603868246, -0.01381315104663372, 0.05559437349438667, -0.02170231193304062, 0.019243476912379265, -0.009417626075446606, 0.0021882690489292145, 0.024018744006752968, -0.013148601166903973, -0.022499771788716316, -0.004464353434741497, 0.05464501678943634, 0.005966711789369583, 0.03580976277589798, 0.0048749507404863834, 0.012227724306285381, -0.014753015711903572, -0.003037943970412016, -0.026582010090351105, -0.005971458740532398, 0.03653127700090408, 0.03911352902650833, 0.010177112184464931, 0.02147446572780609, -0.007817958481609821, -0.013528344221413136, -0.004908178001642227, -0.010623310692608356, -0.006004686001688242, 0.03205030784010887, 0.03296169266104698, -0.0231833104044199, -0.025917459279298782, 0.024322539567947388, -0.006683476734906435, 0.0006331027834676206, 0.06755627691745758, -0.008881239220499992, -0.020468147471547127, 0.012930248863995075, -0.04663243889808655, 0.0037760694976896048, -0.03318953886628151, -0.036854058504104614, -0.0185504462569952, 0.0051692514680325985, 0.02912628836929798, -0.02029726281762123, 0.025082025676965714, 0.0034295539371669292, -0.015759333968162537, 0.018151715397834778, -0.028063006699085236, 0.020487135276198387, 0.035392045974731445, 0.016585275530815125, 0.026638971641659737, -0.00456640962511301, -0.00690657552331686, -2.801717164402362e-05, -0.03873378410935402, -0.009569523856043816, -0.01759159378707409, -0.011553680524230003, 0.03358826786279678, 0.026202267035841942, 0.043670445680618286, 0.019015630707144737, -0.02316432259976864, -0.011154950596392155, 0.018151715397834778, 0.023012425750494003, -0.026259228587150574, -0.005340135656297207, -0.02610733173787594, -0.010965079069137573, 0.010613816790282726, -0.042151473462581635, -0.058632317930459976, 0.0199744813144207, 0.023430142551660538, 0.009678700007498264, 0.012294179759919643, 0.005691397935152054, 0.015037822537124157, -0.02939210832118988, -0.02876553125679493, -0.011952410452067852, 0.011164444498717785, -0.016908057034015656, -0.023657988756895065, -0.015654904767870903, 0.0120378527790308, 0.019196009263396263, 0.003958820831030607, -0.028689583763480186, 0.00253478460945189, -0.0005245200009085238, -0.07006258517503738, 0.0025751322973519564, -0.025936447083950043, -0.01275936421006918, -0.009692939929664135, -0.03520217537879944, -0.002134867710992694, 0.01884474605321884, 0.02673390693962574, 0.0012626454699784517, 0.03662621229887009, 0.03643634170293808, -0.06512592732906342, 0.027094662189483643, 0.006849614437669516, 0.015047316439449787, -0.00922300759702921, 0.060682930052280426, 0.010756220668554306, -0.010177112184464931, -0.0010442932834848762, 0.011012546718120575, -0.02236686274409294, 0.004656598437577486, -0.02523392252624035, 0.008563204668462276, -0.00579108064994216, 0.006783159449696541, 0.021626364439725876, 0.0011807633563876152, 0.0226516705006361, -0.025651639327406883, 0.00594772445037961, 0.03180347755551338, 0.01026255451142788, 0.01045242603868246, 0.007685048971325159, 0.027550354599952698, -0.01368024107068777, -0.0061850640922784805, -0.003322751261293888, 0.033930037170648575, -0.0033702191431075335, -0.0002331859286641702, -0.018721329048275948, 0.028651608154177666, 0.02999969758093357, 0.01884474605321884, 0.023620015010237694, -0.007988843135535717, 0.011544186621904373, 0.001955676358193159, -0.06273354589939117, 0.025328857824206352, -0.021341556683182716, 0.052708327770233154, -0.020050430670380592, -0.0030972787644714117, -0.029809825122356415, 0.012882781215012074, -0.023297233507037163, 0.011135963723063469, 0.04883494973182678, -0.0032301887404173613, -0.014639092609286308, -0.019917519763112068, -0.036588236689567566, -0.023601027205586433, -0.019575752317905426, -0.013101133517920971, 0.019537776708602905, 0.0328097939491272, 0.024170640856027603, 0.024550383910536766, 0.0005052362103015184, 0.026506060734391212, 0.02758832834661007, -0.04401221498847008, -0.010537868365645409, 0.03199334815144539, 0.0003497788857202977, 0.01649034023284912, 0.003204081440344453, 0.03930339962244034, -0.03472749516367912, 0.0281769298017025, -0.02052510902285576, 0.010537868365645409, -0.006517339032143354, 0.03586672618985176, -0.005966711789369583, -0.007310052867978811, 0.011430264450609684, 0.00792713463306427, 0.021531427279114723, -0.018322600051760674, 0.0429869070649147, -0.02639213763177395, -0.014078971929848194, 0.04925266653299332, 0.01614857092499733, -0.01309163961559534, 0.014430234208703041, -0.041278064250946045, 0.029619954526424408, 0.016376417130231857, 0.006147089879959822, -0.03193638473749161, 0.01734476163983345, 0.020714979618787766, 0.036854058504104614, 0.023297233507037163, -0.007718276232481003, -0.012275191955268383, 0.022176990285515785, -0.01057584211230278, 0.004082237370312214, -0.047429900616407394, 0.0065505667589604855, -0.013423915021121502, -0.002025691559538245, -0.0065220859833061695, -0.020487135276198387, -0.03056931123137474, 0.01515174563974142, -0.002249977318570018, -0.017382735386490822, -0.007590113207697868, -0.004469100385904312, -0.004203280434012413, 0.008349599316716194, 0.00363841257058084, 0.0030711714643985033, 0.02555670402944088, -0.04724003002047539, 0.016803627833724022, 0.037708479911088943, -0.03899960592389107, -0.03345535695552826, 0.012360634282231331, 0.005055328831076622, 0.035695843398571014, 0.011468238197267056, 0.015170732513070107, 0.0281769298017025, 0.019575752317905426, 0.0284427497535944, 0.015218200162053108, 0.021930158138275146, 0.024474436417222023, 0.012161269783973694, -0.018607405945658684, -0.008273650892078876, -0.017107421532273293, -0.020752955228090286, -0.0038211639039218426, 0.027436431497335434, -0.0005458805826492608, 0.02561366558074951, 0.031006015837192535, -0.031537655740976334, -0.00013187168224249035, 0.04180970415472984, -0.008463522419333458, 0.02232888899743557, -0.012939742766320705, -0.0205061212182045, -0.005700891837477684, -0.03372117877006531, 0.026600996032357216, 0.029866786673665047, 0.006189811043441296, 0.01846500299870968, 0.004969886504113674, -0.018066272139549255, -0.010480906814336777, 0.01497136801481247, -0.006636008620262146, 0.003996795043349266, 0.023923808708786964, 0.017468178644776344, -0.013433408923447132, 0.00040703703416511416, -0.04112616553902626, 0.014050491154193878, 0.013708721846342087, 0.01588275097310543, -0.022518759593367577, 0.038392018526792526, 0.021075736731290817, -0.004742040764540434, 0.006113862153142691, 0.011012546718120575, 0.0058290548622608185, -0.02992374822497368, 0.013158095069229603, -0.04674636200070381, 0.015218200162053108, -0.008268903940916061, 0.0028623128309845924, 0.005605956073850393, -0.012161269783973694, -0.012939742766320705, -0.012607467360794544, 0.003102025482803583, -0.01968967355787754, 0.02377191185951233, -0.023050399497151375, 0.00986382458359003, 0.003780816216021776, 0.001605600817129016, -0.009303702972829342, -0.0034841420128941536, -0.009346424601972103, 0.016357429325580597, -0.01232266053557396, -0.04203755035996437, -0.021303582936525345, 0.0006900642183609307, -0.047733694314956665, 0.03199334815144539, 0.008582191541790962, -0.029240211471915245, -0.022518759593367577, 0.03533508628606796, -0.020430173724889755, 0.024037731811404228, -0.01103153359144926, -0.009460347704589367, 0.045379288494586945, 0.008753076195716858, 0.0013801284367218614, 0.008553710766136646, -0.014572637155652046, 0.0026154799852520227, 0.021322568878531456, 0.02058207057416439, 0.01880677230656147, -0.014610611833631992, 0.019224489107728004, -0.027569342404603958, 0.03429079428315163, 0.03915150463581085, 0.02758832834661007, -0.018721329048275948, -0.010908117517828941, 0.013841631822288036, 0.004478593822568655, 0.017411217093467712, 0.01542705949395895, -0.03233511745929718, -0.020126378163695335, 0.013272017240524292, -0.0353160984814167, -0.0012709522852674127, -0.021512441337108612, -0.014069478027522564, -0.06049305945634842, -0.026866817846894264, 0.006128102540969849, -0.0133764473721385, -0.004217520821839571, -0.0012116174912080169, -0.019898533821105957, -0.031309809535741806, 0.04287298396229744, -0.011696084402501583, -0.03520217537879944, -0.006721450947225094, 0.01648084633052349, 0.009294210001826286, 0.011468238197267056, -0.04750584810972214, -0.030018683522939682, -0.04910076782107353, -0.03706291690468788, -0.0007048979168757796, -0.013025185093283653, -0.0017930989852175117, 0.01481947023421526, 0.03148069605231285, -0.016803627833724022, 0.004269735421985388, 0.02202509343624115, -0.017496658489108086, 0.00017755951557774097, 0.01993650756776333, -0.02147446572780609, -0.030930066481232643, 0.003367845667526126, 0.04336664825677872, -0.0014691307442262769, 0.008321118541061878, 0.015607437118887901, -0.00853472389280796, -0.015351110137999058, -0.01250303816050291, 0.010480906814336777, -0.016357429325580597, -0.021930158138275146, -0.0005328268744051456, -0.004314829595386982, 0.012018865905702114, -0.012892275117337704, -0.019006136804819107, -0.006446137558668852, -0.028404776006937027, -0.0052309599705040455, -0.014629598706960678, 0.008866999298334122, 0.0052167195826768875, 0.006298986729234457, 0.014335297979414463, -0.0036479062400758266, -0.013917581178247929, 0.016347935423254967, 0.0025181707460433245, 0.0014169160276651382, -0.01583528332412243, 0.03487939387559891, -0.005316401831805706, -0.020411185920238495, -0.0453033410012722, 0.022765591740608215, 0.021246621385216713, 0.020695993676781654, -0.021835222840309143, -0.025347845628857613, 0.023695962503552437, -0.023582039400935173, -0.006085381377488375, 0.016034647822380066, 0.011544186621904373, -0.028708569705486298, -0.01846500299870968, -0.04442993178963661, 0.04492359608411789, -0.007984096184372902, 0.00879104994237423, -0.012711896561086178, 0.006265759468078613, 0.008335358463227749, 0.007794225122779608, 0.0027839909307658672, 0.016870083287358284, -0.01562642492353916, -0.020487135276198387, 0.010006227530539036, -0.002572758821770549, -0.023885834962129593, 0.018597913905978203, -0.025765562430024147, 0.00031773807131685317, -0.02027827687561512, -0.008387573063373566, 0.03795531392097473, -0.025442780926823616, -0.012028359808027744, -0.0033868327736854553, 0.01045242603868246, -0.01423086877912283, 0.03603760898113251, 0.0045379288494586945, 0.014658079482614994, -0.014601117931306362, 0.025423793122172356, -0.01586376316845417, -0.004606757313013077, -0.010167618282139301, 0.02880350686609745, -0.006279999855905771, -0.019224489107728004, 0.0231833104044199, -0.007499924395233393, -0.0033868327736854553, 0.023582039400935173, -0.0014418367063626647, -0.04553118348121643, 0.008444534614682198, 0.0017788585973903537, 0.016034647822380066, 0.03463255986571312, -0.002672441303730011, -0.06721451133489609, -0.018123233690857887, 0.0003560090553946793, 0.015037822537124157, 0.007414482068270445, 0.009227754548192024, -0.0035268631763756275, -0.00691606942564249, -0.014401753433048725, -0.0018619273323565722, 0.003977807704359293, -0.01191443670541048, -0.0062135448679327965, -0.010974572971463203, -0.04218944534659386, 0.005605956073850393, -0.014876431785523891, 0.0010484466329216957, 0.010072682984173298, 0.0029382614884525537, 0.029809825122356415, 0.0005461772088892758, -0.028955403715372086, 0.018578926101326942, 0.014050491154193878, -0.005928737577050924, 0.022518759593367577, 0.014325804077088833, -0.033664215356111526, -0.04150591045618057, 0.020354224368929863, 0.03203132003545761, 0.004931912291795015, -0.029866786673665047, 0.041543882340192795, -0.057720936834812164, 0.002283204812556505, -0.02582252398133278, -0.028974389657378197, -0.0002800604561343789, -0.03693000599741936, 0.01584477722644806, 0.011999879032373428, -0.0068448674865067005, -0.005995192565023899, 0.02965792827308178, 0.035999637097120285, -0.009816356003284454, -0.01085115596652031, 0.0010793007677420974, -0.0032349356915801764, -0.0033203777857124805, 0.038923658430576324, 0.030911080539226532, -0.019556764513254166, 0.028081994503736496, 0.014515675604343414, -0.02147446572780609, -0.027949083596467972, -0.035069264471530914, 0.01514225173741579, -0.01382264494895935, -0.002130120759829879, 0.05342983826994896, 0.04112616553902626, -0.045417264103889465, 0.020487135276198387, 0.03201233595609665, -0.012616961263120174, 0.052176687866449356, -0.0009404572774656117, -0.025936447083950043, -0.035392045974731445, 0.0057863336987793446, 0.031537655740976334, 0.040670473128557205, 0.04613877460360527, 0.003223068779334426, -0.001268578926101327, 0.005325895734131336, -0.02232888899743557, 0.005705638322979212, 0.020790928974747658, -0.009370158426463604, 0.007950869388878345, -0.0328097939491272, 0.0035007556434720755, 0.031233862042427063, 0.015379590913653374, -0.0243415255099535, 0.02641112543642521, -0.027246559038758278, 0.03434775397181511, -0.023904820904135704, -0.03108196333050728, 0.011866969056427479, 0.0015249054413288832, -0.033056627959012985, -0.0329047292470932, 0.005207225680351257, 0.035107240080833435, -0.009094844572246075, 0.0386958122253418, -0.00476102763786912, -0.001812086091376841, 0.009317943826317787, 0.011344822123646736, 0.010775207541882992, -0.006711957510560751, 0.05453109368681908, -0.01131634134799242, -0.01027204841375351, 0.01673717238008976, -0.004238881170749664, -0.004713559988886118, 0.0202403012663126, -0.008164474740624428, 0.014753015711903572, 0.04108819365501404, -0.02234787493944168, -0.011677097529172897, -0.013006197288632393, 0.027094662189483643, 0.02464532107114792, 0.010803688317537308, 0.016234012320637703, 7.238850957946852e-05, 0.028006045147776604, 0.01853145845234394, 0.022385848686099052, 0.03339839726686478, -0.009118578396737576, 0.0065030986443161964, -0.003882872173562646, 0.027569342404603958, 0.01132583525031805, -0.02971488982439041, 0.01585426926612854, -0.0061660767532885075, -0.01845550909638405, 0.023316219449043274, 0.0074761901050806046, -0.012616961263120174, 0.020809916779398918, 0.006954043637961149, 0.012977716512978077, 0.02551872842013836, 0.025651639327406883, -0.013015691190958023, 0.038297079503536224, -0.018075766041874886, 0.021797247231006622, 0.000658616772852838, -0.03734772279858589, 0.07708782702684402, 0.024816203862428665, -0.008980921469628811, 0.01528465561568737, -0.03411990776658058, -0.002413741312921047, 0.008748329244554043, -0.045645106583833694, 0.008088525384664536, 0.014268843457102776, 0.007789478171616793, -0.015654904767870903, -0.025423793122172356, -0.009873317554593086, -0.006835374049842358, -0.008648646995425224, 0.01704096607863903, -0.036246467381715775, 0.02352507784962654, -0.005995192565023899, 0.024018744006752968, -0.00031833144021220505, 0.006118609104305506, 0.04545523598790169, -0.0011350755812600255, -0.018408041447401047, -0.041240088641643524, -0.015702372416853905, 0.02117067202925682, -0.003424807218834758, 0.01382264494895935, -0.038885682821273804, -0.010566349141299725, -0.0031993347220122814, 0.02202509343624115, 0.01699349842965603, 0.006607528310269117, -0.062125954777002335, 0.017563113942742348, -0.014923899434506893, -0.011990385130047798, -0.006740438286215067, -0.022423824295401573, 0.03903758153319359, -0.005259440280497074, 0.01275936421006918, -0.025309870019555092, 0.012835313566029072, 0.02502506412565708, 0.01249354425817728, -0.024322539567947388, 0.030474375933408737, -0.04465777799487114, 0.029904760420322418, 0.00883377157151699, 0.023601027205586433, 0.004283975809812546, 0.01072773989289999, -0.0005972051876597106, 0.022101042792201042]\n"
     ]
    }
   ],
   "source": [
    "embedded_query = embeddings_model.embed_query(\"인공지능이란 무엇인가요?\")\n",
    "\n",
    "# 쿼리 임베딩 결과 출력\n",
    "print(f\"쿼리 임베딩 벡터의 차원: {len(embedded_query)}\")\n",
    "print(embedded_query)"
   ]
  },
  {
   "cell_type": "markdown",
   "id": "8d6a23e3",
   "metadata": {},
   "source": [
    "`(4) 유사도 기반 검색`"
   ]
  },
  {
   "cell_type": "code",
   "execution_count": 45,
   "id": "a5c3435d",
   "metadata": {},
   "outputs": [
    {
     "name": "stdout",
     "output_type": "stream",
     "text": [
      "쿼리: 인공지능이란 무엇인가요?\n",
      "가장 유사한 문서: 인공지능은 컴퓨터 과학의 한 분야입니다.\n",
      "유사도: 0.7114\n",
      "\n",
      "쿼리: 딥러닝과 머신러닝의 관계는 어떻게 되나요?\n",
      "가장 유사한 문서: 딥러닝은 머신러닝의 한 종류입니다.\n",
      "유사도: 0.6818\n",
      "\n",
      "쿼리: 컴퓨터가 이미지를 이해하는 방법은?\n",
      "가장 유사한 문서: 컴퓨터 비전은 컴퓨터가 디지털 이미지나 비디오를 이해하는 방법을 연구합니다.\n",
      "유사도: 0.7054\n",
      "\n"
     ]
    }
   ],
   "source": [
    "from langchain_community.utils.math import cosine_similarity\n",
    "import numpy as np\n",
    "\n",
    "# 쿼리와 가장 유사한 문서 찾기 함수\n",
    "def find_most_similar(query, doc_embeddings):\n",
    "    query_embedding = embeddings_model.embed_query(query)\n",
    "    # similarities = [cosine_similarity(query_embedding, doc_emb) for doc_emb in doc_embeddings]\n",
    "    similarities = cosine_similarity([query_embedding], doc_embeddings)[0]\n",
    "    most_similar_idx = np.argmax(similarities)\n",
    "    return documents[most_similar_idx], similarities[most_similar_idx]\n",
    "\n",
    "# 예제 쿼리\n",
    "queries = [\n",
    "    \"인공지능이란 무엇인가요?\",\n",
    "    \"딥러닝과 머신러닝의 관계는 어떻게 되나요?\",\n",
    "    \"컴퓨터가 이미지를 이해하는 방법은?\"\n",
    "]\n",
    "\n",
    "# 각 쿼리에 대해 가장 유사한 문서 찾기\n",
    "for query in queries:\n",
    "    most_similar_doc, similarity = find_most_similar(query, document_embeddings)\n",
    "    print(f\"쿼리: {query}\")\n",
    "    print(f\"가장 유사한 문서: {most_similar_doc}\")\n",
    "    print(f\"유사도: {similarity:.4f}\")\n",
    "    print()"
   ]
  },
  {
   "cell_type": "markdown",
   "id": "e4fcfdce",
   "metadata": {},
   "source": [
    "### 4-2 Huggingface - 오픈소스 LLM\n"
   ]
  },
  {
   "cell_type": "markdown",
   "id": "a1572d97",
   "metadata": {},
   "source": [
    "`(1) embedding 모델`"
   ]
  },
  {
   "cell_type": "code",
   "execution_count": 46,
   "id": "dd7af1f5",
   "metadata": {},
   "outputs": [
    {
     "name": "stderr",
     "output_type": "stream",
     "text": [
      "huggingface/tokenizers: The current process just got forked, after parallelism has already been used. Disabling parallelism to avoid deadlocks...\n",
      "To disable this warning, you can either:\n",
      "\t- Avoid using `tokenizers` before the fork if possible\n",
      "\t- Explicitly set the environment variable TOKENIZERS_PARALLELISM=(true | false)\n"
     ]
    },
    {
     "data": {
      "text/plain": [
       "HuggingFaceEmbeddings(client=SentenceTransformer(\n",
       "  (0): Transformer({'max_seq_length': 8192, 'do_lower_case': False}) with Transformer model: XLMRobertaModel \n",
       "  (1): Pooling({'word_embedding_dimension': 1024, 'pooling_mode_cls_token': True, 'pooling_mode_mean_tokens': False, 'pooling_mode_max_tokens': False, 'pooling_mode_mean_sqrt_len_tokens': False, 'pooling_mode_weightedmean_tokens': False, 'pooling_mode_lasttoken': False, 'include_prompt': True})\n",
       "  (2): Normalize()\n",
       "), model_name='BAAI/bge-m3', cache_folder=None, model_kwargs={}, encode_kwargs={}, multi_process=False, show_progress=False)"
      ]
     },
     "execution_count": 46,
     "metadata": {},
     "output_type": "execute_result"
    }
   ],
   "source": [
    "from langchain_huggingface.embeddings import HuggingFaceEmbeddings\n",
    "\n",
    "# Hugging Face의 임베딩 모델 생성\n",
    "embeddings_model = HuggingFaceEmbeddings(model_name=\"BAAI/bge-m3\")\n",
    "\n",
    "# 임베딩 객체 출력\n",
    "embeddings_model"
   ]
  },
  {
   "cell_type": "markdown",
   "id": "06cbe740",
   "metadata": {},
   "source": [
    "`(2) embed_documents 사용`"
   ]
  },
  {
   "cell_type": "code",
   "execution_count": 47,
   "id": "094a8891",
   "metadata": {},
   "outputs": [
    {
     "name": "stdout",
     "output_type": "stream",
     "text": [
      "임베딩 벡터의 개수: 5\n",
      "임베딩 벡터의 차원: 1024\n",
      "[-0.03941451013088226, 0.008764870464801788, -0.012681731954216957, 0.002453156281262636, -0.008944777771830559, -0.007383701857179403, -0.005377395544201136, -0.00905580259859562, 0.032915227115154266, 0.006045469082891941, -0.027012990787625313, -0.027740957215428352, 0.0004441617347765714, 0.03013657033443451, 0.017242947593331337, 0.01709042116999626, 0.025524858385324478, -0.0218560341745615, -0.011341340839862823, -0.05702255666255951, -0.00030158355366438627, 0.013543035835027695, -0.00745012890547514, 0.018574558198451996, 0.002894667675718665, 0.008630705066025257, -0.0007445471710525453, -0.028904233127832413, 0.02072782814502716, -0.020500659942626953, 0.008069849573075771, -0.026754282414913177, 0.003963056020438671, -0.016303835436701775, -0.07406220585107803, -0.033650368452072144, -0.023871518671512604, -0.03454999998211861, -0.03478587791323662, 0.005483077373355627, -0.05003359168767929, -0.002803717739880085, -0.02314699813723564, -0.07491150498390198, -0.011434342712163925, -0.0289926677942276, -0.034183066338300705, -0.025524655357003212, -0.06156909838318825, 0.01355785969644785, 0.024401124566793442, -0.03127635270357132, 0.05056958645582199, 0.012972619384527206, -0.06420642882585526, 0.02719484455883503, 0.006821557879447937, 0.01040556188672781, -0.06427150964736938, -0.016028273850679398, -0.020655425265431404, 0.03011760301887989, -0.0063316477462649345, -0.01311753410845995, -0.0005492885247804224, 0.04695943742990494, 0.00776555435732007, 0.029756490141153336, -0.03474412113428116, -0.03635726496577263, 0.02141401171684265, 0.017580540850758553, -0.03352212533354759, 0.013690536841750145, -0.05232349410653114, 0.04847835376858711, -0.013382752425968647, -0.01721258834004402, -0.034356437623500824, 0.02108718641102314, -0.022802608087658882, -0.00621182844042778, -0.012333840131759644, -0.04589997977018356, -0.04362516105175018, -0.03322101756930351, -0.030902914702892303, 0.06267783045768738, -0.013041002675890923, 0.0030605699867010117, -0.03402116894721985, -0.011811446398496628, 0.06983616203069687, -0.06787189841270447, -0.04121715575456619, -0.0454251803457737, -0.05954761058092117, 0.02657211758196354, 0.021793410181999207, 0.016649428755044937, -0.004795477259904146, 0.055785972625017166, 0.005842157173901796, -0.0049256859347224236, 0.005203400272876024, 0.012360382825136185, 0.015873584896326065, 0.013678247109055519, -0.0043206242844462395, -0.016777507960796356, 0.024673394858837128, 0.07882757484912872, -0.0033149863593280315, 0.0277329683303833, -0.014849944040179253, -0.03629649057984352, -0.00708024064078927, -0.005244823172688484, 0.031237972900271416, 0.028104498982429504, 0.021445192396640778, 0.02693263627588749, -0.018261488527059555, -0.035457029938697815, 0.025494329631328583, -0.014402545988559723, 0.04316110163927078, -0.0065125273540616035, -0.0023869017604738474, -0.025424866005778313, 0.007254294119775295, 0.0016668358584865928, -0.06067401170730591, 0.002136893104761839, -0.07933427393436432, -0.03168231621384621, -0.026456227526068687, -0.0345732718706131, 0.0011898677330464125, -0.026784747838974, 0.03188105300068855, 0.008707226254045963, -0.034499287605285645, -0.026013819500803947, 0.028248118236660957, 0.02884909324347973, 0.011804236099123955, 0.006611310411244631, -0.0402822308242321, 0.0065950630232691765, -0.04195791110396385, 0.0018760069506242871, -0.016849208623170853, -0.00032439574715681374, 0.008593615144491196, 0.05727246031165123, 0.034512728452682495, 0.018291359767317772, -0.03627166152000427, 0.019243277609348297, -0.011026201769709587, -0.051076490432024, -0.011925929225981236, 0.03441394492983818, 0.02501552551984787, 0.0058752852492034435, 0.002253970829769969, 0.056633055210113525, -0.025044512003660202, -0.05167186260223389, -0.04070141166448593, -0.0038237133994698524, -0.08939450979232788, 0.013491149991750717, 0.032876916229724884, 0.020798707380890846, 0.04125227779150009, 0.03118397668004036, 0.010359597392380238, -0.032930463552474976, -0.02438637800514698, -0.015636021271348, -0.017844488844275475, 0.01631946675479412, -0.003374026855453849, -0.008289524354040623, 0.007997742854058743, 0.01757996901869774, 0.00581497885286808, -0.0015096730785444379, 0.03361966088414192, -0.023578902706503868, 0.01816854253411293, -0.013307503424584866, -0.01097483653575182, -0.06073553487658501, 0.03531361371278763, 0.03325331211090088, 0.0035984059795737267, -0.009528713300824165, -0.03346239775419235, 0.026455817744135857, 0.00484523456543684, -0.005232717376202345, -0.028605030849575996, 0.03523758053779602, -0.002323237946256995, -0.033424727618694305, 0.02069600485265255, -0.016646800562739372, 0.05031393840909004, 0.005382888950407505, 0.006805242970585823, -0.042241498827934265, -0.05043674632906914, -0.023666445165872574, -0.00038136274088174105, 0.017486929893493652, -0.021624566987156868, -0.051152732223272324, -0.005384382326155901, -0.00793195329606533, 0.012596530839800835, 0.040384359657764435, 0.023643095046281815, 0.011450246907770634, -0.012604239396750927, -0.02401760220527649, 0.05937512591481209, 0.022746851667761803, -0.01466281060129404, 0.028443578630685806, 0.002861068584024906, -0.027433983981609344, 0.0026598982512950897, -0.012619033455848694, -0.019325874745845795, 0.0012929068179801106, 0.024065889418125153, 0.005559958051890135, 0.0004692990332841873, -0.012332946062088013, 0.008361552841961384, 0.007104413118213415, -0.014163808897137642, -0.0257897786796093, -0.009066934697329998, 0.011334886774420738, -0.03867330402135849, 0.01245866809040308, -0.014846640639007092, -0.05338031053543091, 0.0007011341513134539, -0.037628207355737686, 0.024404333904385567, -0.022411558777093887, -0.003127617994323373, 0.005926293786615133, 0.02924327366054058, 0.012872337363660336, -0.02525152452290058, -0.017893923446536064, -0.03265882655978203, 0.015788735821843147, 0.03683767840266228, -0.019260162487626076, 0.00415329122915864, -0.008615179918706417, 0.025600211694836617, 0.03141617402434349, 0.01388208381831646, 0.016615958884358406, 0.026485860347747803, 0.016514809802174568, 0.0371055081486702, 0.017170500010252, 0.01632167585194111, -0.022120635956525803, 0.027621950954198837, 0.024099666625261307, -0.024876022711396217, -0.034905191510915756, 0.010859468020498753, 0.0375361442565918, 0.03244509547948837, -0.002951079746708274, -0.02130083180963993, -0.0008492154302075505, -0.04943309351801872, -0.050271667540073395, -0.055717624723911285, -0.03578627482056618, 0.051653917878866196, -0.026500364765524864, -0.02994449809193611, 0.04084906354546547, -0.002776423702016473, -0.15416249632835388, 0.05287323519587517, -0.04404003545641899, 0.024527812376618385, 0.0007717603584751487, -0.023125791922211647, 0.028217662125825882, 0.020606162026524544, -0.06491447985172272, 0.05870111286640167, -0.015259722247719765, -0.05291961506009102, -0.026743577793240547, -0.016040092334151268, 0.035134702920913696, 0.03692736476659775, 0.018240993842482567, -0.00014412995369639248, -0.02538215182721615, -0.004293652717024088, -0.04096050187945366, -0.05058607459068298, 0.01501431129872799, -0.03581547364592552, 0.0297900028526783, -0.04509012773633003, -0.02097088284790516, -0.023698916658759117, -0.02904956042766571, -0.03439372777938843, -0.018698476254940033, -0.009413898922502995, -0.021368425339460373, 0.04190988093614578, 0.02259017713367939, 0.008137819357216358, 0.0034019530285149813, -0.03497296944260597, 0.05352334305644035, 0.0063306107185781, -0.009400857612490654, 0.03403535857796669, 0.013987412676215172, 0.005095543339848518, -0.0004018635372631252, -0.02248125523328781, 0.03870448097586632, 0.0006442389567382634, -0.01381596364080906, 0.009313210844993591, -0.02437054179608822, -0.0503958985209465, 0.04627172276377678, -0.021217206493020058, -0.03346465900540352, 0.006026177201420069, 0.010226227343082428, 0.0693257674574852, 0.022632379084825516, 0.012568981386721134, -0.04025658592581749, -0.034716807305812836, 0.019841788336634636, 0.014833872206509113, 0.013841270469129086, -0.046721041202545166, 0.0554732084274292, 0.01116593461483717, 0.021457117050886154, -0.0222623310983181, 0.03648180142045021, -0.001409093732945621, 0.05106917396187782, -0.016896678134799004, -0.00025814256514422596, 0.049261558800935745, 0.00779416598379612, -0.07784531265497208, -0.051600515842437744, -0.08172132074832916, 0.00018161495972890407, -0.002750927582383156, -0.009116044268012047, -0.0046514528803527355, -0.04209813103079796, -0.0022110268473625183, -0.010076138190925121, -0.027880841866135597, 0.05060292035341263, 0.20528993010520935, 0.026444388553500175, -0.00022554927272722125, -0.02664925903081894, 0.03717321157455444, -0.008842204697430134, -0.014338122680783272, -0.019308680668473244, 0.01748105324804783, -0.01015713531523943, 0.00998525321483612, -0.022104531526565552, -0.0012158373137935996, 0.0062701646238565445, 0.013725167140364647, 0.025201812386512756, -0.03385930508375168, -0.0011371283326297998, 0.08596232533454895, 0.021859372034668922, -0.0076448023319244385, -0.0030849636532366276, 0.04453134536743164, -0.0013036989839747548, -0.028895623981952667, -0.02633526176214218, 0.002809372032061219, 0.010797198861837387, -0.01945122890174389, -0.03645364195108414, 0.00508818868547678, 0.02991407923400402, -0.010682026855647564, 0.0066850152797997, 0.02388153038918972, 0.017712952569127083, 0.0014705079374834895, -0.01895170658826828, 0.009166087955236435, 0.007664745207875967, -0.0205098744481802, -0.01571500487625599, -0.0014612727100029588, 0.007429551333189011, 0.009566971100866795, 0.010711127892136574, 0.006898334715515375, -0.009391147643327713, -0.019545529037714005, -0.03545309975743294, -0.06176721677184105, -0.02227279357612133, -0.043118420988321304, 0.018352704122662544, -0.0023402248043566942, -0.00422264076769352, -0.04327485337853432, 0.02585824951529503, 0.017618319019675255, 0.008789420127868652, 0.0394388809800148, 0.008824598975479603, 0.03327033296227455, 0.025980431586503983, -0.009331445209681988, -0.005429052747786045, -0.0374029204249382, -0.05824080482125282, 0.058875903487205505, -0.0037429367657750845, 0.013187030330300331, 0.01479290146380663, -0.046682607382535934, -0.022107258439064026, 0.006471550092101097, 0.0035057419445365667, 0.03154467046260834, 0.02669130451977253, 0.028576310724020004, 0.028033701702952385, -0.02931995876133442, 0.010856720618903637, -0.027783209457993507, 0.03786865994334221, 0.007742207031697035, -0.05145534500479698, -0.014120901003479958, 0.055616430938243866, 0.017498444765806198, -0.02479570172727108, 0.013818351551890373, 0.008258629590272903, -0.009095224551856518, 0.04424842447042465, -0.013298497535288334, 0.02285119891166687, 0.007554703392088413, -0.005556208081543446, -0.02685137279331684, 0.04283808544278145, -0.030624471604824066, -0.043705523014068604, -0.00968050304800272, -0.006718870252370834, 0.016627781093120575, 0.02082773856818676, 0.020590873435139656, 0.05548369884490967, 0.009113837033510208, 0.048021476715803146, 0.0028951666317880154, 0.02698773890733719, -0.05199011415243149, -0.04606857895851135, 0.014079540967941284, -0.010256774723529816, 0.0209457166492939, 0.02068701758980751, 0.006968662142753601, 0.01487581804394722, -0.031363919377326965, 0.0012488309293985367, 0.018802378326654434, 0.03199193999171257, 0.00028787413612008095, -0.027227599173784256, 0.04708477109670639, 0.03383411839604378, -0.015768907964229584, 0.019647113978862762, 0.06061580777168274, 0.0018482246669009328, 0.004004763439297676, 0.048760153353214264, 0.02282674051821232, 0.014284459874033928, -0.01406631339341402, 0.02196742407977581, 0.059862155467271805, 0.0002834256738424301, 0.014908505603671074, 0.0070230611599981785, 0.024416428059339523, 0.008015736006200314, 0.010872667655348778, 0.0016236713854596019, -0.013646860606968403, 0.04847623407840729, -0.023516222834587097, -0.0062233866192400455, 0.0007702475413680077, -0.022264234721660614, 0.05826390162110329, -0.04253316670656204, -0.008776810020208359, -0.02951102703809738, -0.021039307117462158, -0.005618733819574118, 0.03724327310919762, -0.022321226075291634, 0.02959311567246914, 0.02222076803445816, 0.060007717460393906, 0.05433722212910652, -0.013109005987644196, 0.04675416275858879, -0.004019516054540873, -0.02003669925034046, -0.009979242458939552, -0.05236503854393959, 0.012971493415534496, -0.023964103311300278, -0.047012437134981155, 0.01768014021217823, -0.06316700577735901, -0.012216174043715, -0.05153881013393402, 0.01671609655022621, 0.0028964104130864143, 0.0023544172290712595, 0.04698432609438896, 0.005236129276454449, 0.02860591560602188, 0.018033552914857864, 0.002688273787498474, 0.012599238194525242, 0.043125882744789124, -0.012468844652175903, 0.016190791502594948, -0.03503524512052536, -0.013990475796163082, 0.085016168653965, -0.0006753434427082539, -0.0351075753569603, 0.018908152356743813, -0.04388415440917015, 0.01817844621837139, -0.014595311135053635, 0.05074295401573181, -0.014598655514419079, -0.012248449958860874, -0.05382188782095909, 0.009177236817777157, -0.013291014358401299, -0.02612142451107502, 0.01902090013027191, -0.009157728403806686, 0.015958454459905624, -0.0120592275634408, 0.023945840075612068, 0.010822166688740253, 0.0012781198602169752, -0.047413792461156845, 0.028183558955788612, -0.030282046645879745, 0.03450240194797516, -0.03545213118195534, 0.010610632598400116, 0.0217580683529377, -0.07106906175613403, -0.011429275386035442, -0.0007577463984489441, 0.0009730581077747047, -0.06687958538532257, 0.0017513880738988519, 0.03083803318440914, -0.01364520750939846, -0.020122915506362915, -0.019696613773703575, 0.04643259570002556, -0.004844034556299448, -0.08160025626420975, 0.04044303670525551, 0.004950539208948612, 0.031064730137586594, 0.005250832065939903, -0.006103157065808773, 0.014033690094947815, -0.021181927993893623, -0.019575422629714012, 0.025881420820951462, -0.026794711127877235, 0.06484155356884003, 0.017436519265174866, 0.02530399151146412, 0.012567288242280483, 0.006157843396067619, -0.015259072184562683, -0.002980070421472192, 0.004574267193675041, -0.011685582809150219, -0.047782350331544876, 0.04852062463760376, 0.027301812544465065, 0.01990865357220173, -0.04611237347126007, 0.04947087541222572, -0.015534046106040478, -0.02295875735580921, 0.007057492155581713, 0.011417144909501076, 0.028111154213547707, -0.0009654879686422646, 0.005214666482061148, 0.005879630334675312, 0.04090879112482071, 0.0467042475938797, 0.013859523460268974, -0.04856501892209053, -0.03641856461763382, 0.030556656420230865, -0.0033170052338391542, -0.03998250514268875, -0.03232380375266075, 0.03208153694868088, -0.0022122750524431467, -0.03743812069296837, 0.047036733478307724, 0.04756614938378334, -0.003721210639923811, -0.0048498958349227905, 0.05456387996673584, 0.008762145414948463, 0.014281773939728737, 0.013041599653661251, -0.005775437690317631, 0.011362367309629917, 0.005727249663323164, 0.028392186388373375, -0.037431832402944565, 0.017423443496227264, 0.00914617907255888, -0.0431130975484848, 0.01006042119115591, -0.013028774410486221, 0.02631349302828312, -0.008787103928625584, 0.04881312698125839, -0.02394181303679943, -0.00841749832034111, -0.030199870467185974, -0.01156555488705635, -0.008227403275668621, -0.0007780345040373504, 0.03608628362417221, 0.019429733976721764, 0.01580186001956463, -0.0647558867931366, 0.032271578907966614, -0.019714757800102234, 0.01244479138404131, 0.0005196079728193581, 0.03724122792482376, 0.04861585050821304, -0.030769020318984985, -0.011096899397671223, 0.030283987522125244, -0.04953470826148987, 0.05492834001779556, -0.002062710467725992, 0.04958367720246315, 0.0007331287488341331, -0.006119836121797562, -0.02313031069934368, 0.009980866685509682, 0.023883406072854996, -0.019458532333374023, -0.03200147673487663, 0.029113832861185074, -0.0537077859044075, -0.012846730649471283, 0.033008698374032974, -0.002457753522321582, 0.02562246099114418, 0.002896934514865279, -0.01608637347817421, -0.019892776384949684, -0.03626825287938118, 0.05153730884194374, 0.0259782113134861, -0.023754579946398735, -0.0021327021531760693, 0.0566306933760643, -0.021224891766905785, 0.0261578019708395, -0.030654970556497574, -0.009088468737900257, -0.0013653439236804843, 0.00737175066024065, 0.01401548832654953, -0.038815729320049286, -0.005175907164812088, -0.020652474835515022, -0.08542808890342712, 0.03286980092525482, -0.021121613681316376, -0.0017046340508386493, -0.023852970451116562, 0.010193300433456898, 0.00315295672044158, -0.04626760259270668, 0.004378520417958498, 0.01276626531034708, 0.031889162957668304, -0.006445481441915035, 0.061730459332466125, 0.027293391525745392, -0.040185317397117615, 0.012747366912662983, -0.043414004147052765, -0.03434222191572189, 0.02402893826365471, 0.045110803097486496, -0.06422789394855499, -0.002670815447345376, 0.015765773132443428, -0.04633602872490883, 0.015471948310732841, -0.0122641297057271, 0.004063889849931002, 0.0028699981048703194, -0.0590980164706707, -0.04977879300713539, -0.03188009560108185, 0.004282412584871054, -0.0406380333006382, -0.010036877356469631, -0.02049505151808262, 0.04349427670240402, 0.009182930923998356, -0.02145693264901638, -0.03666573390364647, 0.03871416300535202, -0.028576979413628578, -0.12108984589576721, 0.011257890611886978, -0.021855780854821205, 0.03847656026482582, -0.02077878639101982, 0.026198500767350197, -0.00520553532987833, 0.00762058375403285, 0.02388540469110012, -0.06817086040973663, -0.010705259628593922, 0.03838728740811348, 0.020878398790955544, -0.013643704354763031, -0.0012991240946576, 0.01889577880501747, -0.010627114214003086, 0.019094184041023254, 0.007303000893443823, 0.02512119896709919, -0.0030899490229785442, 0.01935051754117012, 0.04545748233795166, -0.006982714869081974, 0.016584420576691628, -0.004083436448127031, 0.006178717594593763, 0.010033616796135902, -0.06160520762205124, 0.008099179714918137, 0.05615950748324394, -0.05707826092839241, 0.0058596376329660416, 0.0026494741905480623, -0.052220337092876434, -0.029950402677059174, -0.04529865086078644, 0.004038567654788494, -0.027647968381643295, 0.03871113806962967, -0.032724566757678986, 0.027157532051205635, 0.039603494107723236, -0.011242403648793697, 0.01582041010260582, 0.08895602077245712, -0.03150152415037155, -0.016731785610318184, -0.014683927409350872, -0.020741140469908714, 0.02969815395772457, -0.026172824203968048, -0.012390892952680588, 0.05219877138733864, -0.01278012152761221, 0.016312645748257637, -0.05087510123848915, 0.009121689945459366, -0.0031363079324364662, 0.07734206318855286, -0.04193488508462906, 0.0007514804601669312, -0.030584584921598434, 0.013006349094212055, -0.007410421036183834, 0.030986018478870392, -0.057321008294820786, -0.01098827738314867, -0.015135088935494423, 0.006888911593705416, 0.008642489090561867, 0.06573329120874405, 0.033710937947034836, -0.03401569277048111, 0.029345497488975525, 0.01167399249970913, 0.051056843250989914, 0.007065109442919493, 0.01981101557612419, -0.03461385890841484, 0.01609565131366253, 0.012484765611588955, -0.046762239187955856, -0.02751576155424118, 0.01037651114165783, -0.02294738031923771, -0.03412254527211189, -0.003229927271604538, -0.0081771370023489, -0.0233717430382967, -0.04848463833332062, -0.011113757267594337, -0.019519316032528877, -0.0038488709833472967, -0.047343555837869644, 0.013848804868757725, 0.002097079763188958, 0.012429028749465942, -0.016072288155555725, -0.012233621440827847, -0.007150408811867237, -0.005227167624980211, 0.009924855083227158, -0.002352472860366106, -0.020415935665369034, 0.03459920734167099, 0.06643100082874298, -0.01072168629616499, 0.05480988323688507, -0.03403065353631973, 0.009117651730775833, -0.014219626784324646, -0.051660072058439255, 0.03949765861034393, -0.0029095024801790714, -0.01211625337600708, 0.016222892329096794, 0.06202354654669762, 0.015340413898229599, 0.03206447884440422, 0.04668773338198662, -0.02661546692252159, 0.002264575567096472, -0.018055245280265808, 0.06148133799433708, 0.00346016394905746, 0.000789481564424932, 0.045818038284778595, 0.049780115485191345, 5.11535290570464e-07, 0.015820708125829697, -0.0286665428429842, 0.0513313002884388, -0.019402412697672844, 0.05014568567276001, 0.0012629565317183733, 0.06666207313537598, 0.0322110541164875, -0.07578141987323761, -0.02677563764154911, -0.022792469710111618, -0.013899225741624832, -0.0027473231311887503, -0.017225274816155434, -0.05203031748533249, -0.006386063061654568, 0.028290927410125732, -0.05922170355916023, -0.0060425857082009315, -0.010329872369766235, -0.020534342154860497, -0.025234205648303032, 0.006485008168965578, 0.05987737700343132, -0.06461493670940399, 0.03917218744754791, -0.03935931622982025, 0.011597082018852234, -0.005001263227313757, -0.02177664265036583, 0.024796055629849434, -0.02105587348341942, -0.014341444708406925, 0.005037387832999229, -0.026903141289949417, -0.015666214749217033, -0.02000552788376808, -0.01751839742064476, -0.002119174227118492, 0.03180153667926788, 0.03315674886107445, 0.061100732535123825, -0.021780237555503845, -0.007200568914413452, 0.02345699444413185, 0.004500408656895161, -0.033949218690395355, 0.030627747997641563, 0.050583355128765106, 0.019436266273260117, 0.030365191400051117, -0.008498141542077065, 0.038616079837083817, 0.02410672791302204, -0.029866931959986687, -0.02248377352952957, -0.02936515584588051, 0.059138599783182144, 0.02399422973394394, -0.05173463001847267, -0.02144552953541279, -0.008028686977922916, -0.045875269919633865, 0.018533974885940552, -0.01298089511692524, 0.06204558163881302, 0.025514407083392143, 0.030436020344495773, -0.01386166550219059, 0.0114992531016469, -0.07689806073904037, -0.01568559929728508, 0.03136925771832466, -0.010092421434819698, -0.004928638227283955, 0.00583950849249959, -0.053610630333423615, -0.0019883911591023207, -0.023305846378207207, -0.012968667782843113, 0.008794130757451057, 0.018897220492362976, 0.0008404344553127885, -0.007589313201606274, 0.048878978937864304, -0.05043141171336174, 0.012652145698666573, -0.0050496263429522514, -0.015551939606666565, 0.0036741134244948626, 0.0029690281953662634, 0.007681530900299549, -0.02681870199739933, -0.01075143925845623, 0.013961128890514374, -0.0315084271132946, 0.010267519392073154, 0.05015922337770462, -0.035111941397190094, -0.0008258283487521112, -0.028183333575725555, -0.02412145957350731, 0.0028527015820145607, 0.020421698689460754, -0.013471568934619427, -0.014262286946177483, 0.022602267563343048, 0.038974665105342865, -0.008240535855293274, -0.015732180327177048, 0.054490603506565094, 0.008341762237250805, 0.034941475838422775, -0.017748065292835236]\n"
     ]
    }
   ],
   "source": [
    "# 문서 임베딩\n",
    "document_embeddings = embeddings_model.embed_documents(documents)\n",
    "\n",
    "# 임베딩 결과 출력\n",
    "print(f\"임베딩 벡터의 개수: {len(document_embeddings)}\")\n",
    "print(f\"임베딩 벡터의 차원: {len(document_embeddings[0])}\")\n",
    "print(document_embeddings[0])"
   ]
  },
  {
   "cell_type": "markdown",
   "id": "17ba092f",
   "metadata": {},
   "source": [
    "`(3) embed_query 사용`"
   ]
  },
  {
   "cell_type": "code",
   "execution_count": 48,
   "id": "6d3832ff",
   "metadata": {},
   "outputs": [
    {
     "name": "stdout",
     "output_type": "stream",
     "text": [
      "쿼리 임베딩 벡터의 차원: 1024\n",
      "[-0.03703901544213295, -0.0048379902727901936, 0.00293730734847486, -0.01551462709903717, -0.0009442086447961628, -0.04150163009762764, -0.0065744719468057156, 0.011289625428617, 0.02161405421793461, 0.0049287001602351665, -0.020340675488114357, 0.016905181109905243, -0.012874138541519642, 0.005518883932381868, 0.014988373965024948, 0.024228796362876892, 0.007369147147983313, -0.028049809858202934, -0.01493905484676361, -0.051851898431777954, -0.0067049916833639145, -0.009251514449715614, -0.01698085106909275, 0.006491476204246283, 0.052931785583496094, 0.04813728481531143, -0.008069610223174095, -0.023171762004494667, 0.018143033608794212, -0.011328150518238544, -0.004240433685481548, -0.006354697979986668, -0.00227176072075963, 0.014329479075968266, -0.035636719316244125, -0.00815583299845457, -0.011798147112131119, -0.045424044132232666, -0.04073285311460495, 0.0022138962522149086, -0.012132350355386734, 0.01789603941142559, -0.019144685938954353, -0.041924409568309784, 0.000919112004339695, -0.03915583714842796, -0.02435964159667492, -0.02448910102248192, -0.022189229726791382, -0.004594746511429548, 0.03145502135157585, -0.04872865974903107, 0.017981434240937233, 0.02499212883412838, 0.002237585373222828, 0.0484931506216526, -0.008275448344647884, 0.028034647926688194, -0.07396599650382996, -0.020461861044168472, -0.02633669041097164, -0.007573028095066547, -0.03894687816500664, -0.017513705417513847, 0.019220879301428795, 0.0637216866016388, 0.02034900151193142, -0.0116441510617733, -0.018541254103183746, -0.040831200778484344, 0.0024215620942413807, 0.041511256247758865, -0.057807132601737976, 0.05268532410264015, -0.045980341732501984, 0.011361505836248398, 0.02073202282190323, 0.006215655244886875, -0.03468089550733566, 0.017564944922924042, 0.048580996692180634, -0.011551995761692524, -0.029530880972743034, -0.01328029204159975, -0.0061003887094557285, -0.0019025589572265744, -0.019761264324188232, 0.0685402974486351, -0.010714992880821228, 0.0023070715833455324, -0.04258967190980911, -0.0015901023289188743, 0.051189254969358444, -0.10599071532487869, -0.018659546971321106, -0.08233028650283813, -0.03328854590654373, 0.010936743579804897, 0.014399319887161255, 0.03203717619180679, -0.00542317982763052, 0.04439566656947136, 0.016004163771867752, -0.02669711224734783, 0.029552824795246124, 0.005722376052290201, 0.0007926342659629881, 0.009445466101169586, -0.03795609250664711, -0.006559104658663273, 0.03813176229596138, 0.038677066564559937, 0.01900191232562065, 0.03200116753578186, -0.04679049178957939, -0.053457461297512054, 0.008922779001295567, 0.001382074085995555, 0.023152248933911324, 0.040909118950366974, -0.007746903691440821, 0.020619887858629227, -0.03608464449644089, -0.04233662039041519, -0.00893730204552412, -0.016762083396315575, 0.033051010221242905, 0.03457776457071304, -0.006106664892286062, -0.014311674982309341, 0.0269559845328331, -0.017395056784152985, -0.0762530192732811, -0.006047247909009457, -0.05990397185087204, -0.020366020500659943, 0.006905964110046625, -0.031208079308271408, 0.024911969900131226, -0.033270463347435, 0.03437253460288048, 0.006273983977735043, -0.03359513729810715, -0.028891675174236298, 0.018341194838285446, 0.006629385519772768, 0.004403337370604277, -0.007898855023086071, -0.010449237190186977, 0.024499045684933662, -0.017848575487732887, -0.02314079739153385, -0.026498032733798027, -0.009703955613076687, 0.00864023994654417, 0.046334803104400635, 0.010182274505496025, 0.023935383185744286, -0.05202917009592056, 0.034543320536613464, 0.042555999010801315, -0.0006984027568250895, 0.006904114969074726, 0.024554824456572533, -0.00924995169043541, 0.0037499030586332083, 0.00199226476252079, 0.022435259073972702, -0.007651560939848423, -0.026824582368135452, -0.03718428686261177, 0.010140120051801205, -0.03330331668257713, 0.03516099601984024, 0.014152949675917625, 0.001518041710369289, 0.06473010033369064, 0.03341679275035858, -0.009922672994434834, -0.008217360824346542, -0.05553997680544853, -0.0175247211009264, -0.011371063999831676, 0.0038229874335229397, -0.003737537655979395, 0.0111478790640831, 0.0158926323056221, 0.01153587270528078, 0.01930193603038788, 6.5959757193923e-05, -0.01662607491016388, -0.02188456431031227, 0.013342290185391903, -0.00461457297205925, -0.0013087402330711484, -0.029976265504956245, 0.0336875319480896, 0.046029362827539444, -0.004229740239679813, -0.040023427456617355, -0.027000240981578827, 0.0284719318151474, 0.016615092754364014, 0.007434011436998844, -0.04309452325105667, 0.013872268609702587, 0.004785315133631229, -0.042156677693128586, 0.011164196766912937, -0.03745194151997566, 0.018990451470017433, 0.0484260655939579, 0.04987224191427231, -0.02393333613872528, -0.05517066642642021, -0.00864908006042242, -0.019167358055710793, 0.044196173548698425, -0.007545473054051399, -0.012426603585481644, -0.013597337529063225, 0.019231347367167473, 0.0015144393546506763, 0.025551604107022285, 0.03561321645975113, -0.0017695665592327714, 0.03700566664338112, -0.019344206899404526, 0.021112509071826935, 0.010621197521686554, 0.0018154506105929613, 0.05887375399470329, 0.016217172145843506, -0.03262636810541153, 0.0010106839472427964, -0.014767247252166271, -0.037835799157619476, -0.02151411585509777, 0.006840167101472616, 0.019496027380228043, -0.024711348116397858, 0.002176544861868024, -0.03264017030596733, 0.026917025446891785, -0.011721746064722538, -0.013111695647239685, -0.016775213181972504, -0.025881562381982803, -0.012007080018520355, 0.025429386645555496, -0.0012389736948534846, -0.03878544270992279, 0.005284774582833052, -0.012242508120834827, 0.05315488204360008, 0.01401730626821518, -0.01020786352455616, 0.00570858595892787, 0.007218020968139172, 0.03655295446515083, 0.010486871004104614, -0.023656059056520462, 0.0005250893300399184, 0.0328153520822525, 0.053955771028995514, 0.010052737779915333, 0.0018816953524947166, -0.03236302733421326, 0.019335737451910973, 0.033755332231521606, -0.014729061163961887, -0.020189419388771057, -0.020224370062351227, 0.0033614218700677156, 0.03844422847032547, -0.01458840724080801, -0.008461152203381062, -0.015727415680885315, 0.025323007255792618, 0.00963727105408907, -0.021265888586640358, -0.05622906610369682, -0.014719382859766483, 0.046484943479299545, 0.024742834270000458, -0.025216154754161835, -0.03149871528148651, 0.002110251924023032, -0.0018525042105466127, -0.03766096010804176, -0.010685332119464874, -0.021195484325289726, 0.05994453281164169, -0.017540985718369484, -0.029294420033693314, -0.016515033319592476, -0.033342745155096054, -0.13450627028942108, 0.01486197579652071, -0.030510207638144493, 0.02387094870209694, -0.00899083074182272, -0.030506936833262444, 0.019909899681806564, -0.012342043220996857, 0.0009845854947343469, 0.02932531200349331, 0.008167656138539314, -0.04651205986738205, -0.049962740391492844, -0.03237047418951988, 0.031549856066703796, 0.005826650187373161, 0.01724795624613762, -0.012478447519242764, -0.03253534436225891, -0.04868703708052635, -0.016888219863176346, -0.06612596660852432, 0.008022110909223557, -0.0514935627579689, 0.05662040784955025, -0.011946947313845158, 0.014184584841132164, -0.0032263195607811213, -0.04714833199977875, -0.0571012906730175, -0.01361990999430418, -0.04022349417209625, -0.009091462008655071, 0.05346478149294853, 0.05188022181391716, 0.005872095935046673, -0.003309090854600072, -0.024142488837242126, 0.04166969284415245, -0.006590475328266621, 0.0012395918602123857, 0.0040785144083201885, 0.02711058035492897, 0.041705481708049774, 0.004624214954674244, 0.01732739433646202, 0.031226815655827522, -0.018804416060447693, 0.022112911567091942, -0.001415814971551299, -0.031641434878110886, -0.0038417044561356306, 0.04987514019012451, -0.04317930340766907, 0.01945359818637371, -0.004618087317794561, 0.038762979209423065, 0.074924536049366, 0.046732351183891296, -0.012821970507502556, -0.04926642030477524, 0.03639509156346321, -0.01649920642375946, 0.023837430402636528, -0.014056285843253136, -0.008350436575710773, 0.07635486125946045, 0.021610694006085396, -0.006471777334809303, -0.02988835796713829, 0.042987510561943054, -0.006319562438875437, 0.0034828982315957546, -0.011994393542408943, 0.018967226147651672, 0.03665361925959587, 0.011891410686075687, -0.055312544107437134, -0.04361610487103462, -0.07883036881685257, 0.02663961797952652, -0.016894208267331123, -0.0008406174601987004, -0.0007741515291854739, -0.02035101130604744, -0.019341686740517616, -0.001919379341416061, 0.002937192562967539, 0.016311688348650932, 0.24095173180103302, -0.020463066175580025, 0.016002897173166275, -0.023172393441200256, -0.009749173186719418, -0.005551560781896114, -0.022992217913269997, -0.02173413150012493, 0.010987713001668453, -0.022734826430678368, 0.005074276123195887, -0.016034074127674103, 0.007482064422219992, 0.003896902548149228, 0.024994533509016037, 0.06091342493891716, -0.03454161435365677, 0.008022156544029713, 0.06798810511827469, 0.011886155232787132, 0.001399890286847949, 0.01213294267654419, 0.03347228467464447, 0.01225571520626545, -0.02356654778122902, -0.006584764923900366, 0.01638786494731903, 0.03231014311313629, -0.01211631204932928, -0.020721757784485817, -0.0006229437422007322, 0.006029624491930008, 0.015111149288713932, -0.005422511603683233, 0.0024635493755340576, 0.008051224052906036, -0.012814340181648731, -0.026078220456838608, 0.016747495159506798, -0.002205138560384512, -0.029849661514163017, -0.021296169608831406, 0.035239268094301224, -0.006630357820540667, 0.00959187000989914, 0.018282296136021614, 0.017618823796510696, 0.018735408782958984, -0.0649481788277626, -0.019879937171936035, -0.03368121385574341, -0.0021162889897823334, -0.051296863704919815, 0.0022099860943853855, -0.011080160737037659, -0.02089046500623226, -0.015042406506836414, 0.03895004838705063, 0.01661720499396324, -0.017477530986070633, 0.066902756690979, -0.004562969319522381, 0.02343885414302349, -0.02787802368402481, 0.008510054089128971, -0.01647285558283329, -0.0329514816403389, -0.08128276467323303, -0.011990685947239399, 0.005866079591214657, 5.3779785957885906e-05, -0.0034926272928714752, -0.035064492374658585, -0.005048433318734169, 0.0237740445882082, 0.02924027107656002, 0.030662590637803078, 0.038219280540943146, 0.007099471986293793, 0.010195634327828884, 0.015867672860622406, 0.0036339678335934877, -0.0426153689622879, 0.014660644344985485, 0.009449553675949574, -0.039429713040590286, -0.028074130415916443, 0.04945925995707512, 0.02814224362373352, -0.04472806677222252, 0.04677301645278931, -0.01853318326175213, -0.040078409016132355, 0.03154455125331879, 0.011868328787386417, -0.012655324302613735, 0.06579036265611649, 0.013060932978987694, 0.010287109762430191, 0.04188523814082146, -0.039371754974126816, -0.022850647568702698, 0.00016460152983199805, 0.055605705827474594, 0.04951544851064682, -0.008175412192940712, 0.010815383866429329, 0.06870774179697037, 0.007081468123942614, 0.09678664803504944, -0.01700117066502571, -0.005990411154925823, -0.03747916594147682, -0.002882100408896804, 0.024536585435271263, 0.0067350235767662525, 0.028513984754681587, -0.023954475298523903, 0.008569206111133099, 0.014626221731305122, -0.04774688556790352, 0.02744404412806034, -0.000999659183435142, -0.023877542465925217, 0.02463691681623459, -0.03217216581106186, 0.03437192365527153, -0.01082026120275259, -0.013791005127131939, 0.015677310526371002, 0.03971206769347191, 0.007031183689832687, 0.033247802406549454, 0.06762748956680298, 0.0434662401676178, 0.010069833137094975, -0.006054611410945654, 0.03341535106301308, 0.02347981184720993, 0.022209614515304565, -0.010580663569271564, -0.006418740842491388, -0.0009642532095313072, 0.02053740806877613, 0.004917837213724852, 0.006863181944936514, 0.026144735515117645, 0.03087623044848442, -0.03568340837955475, -0.036932941526174545, -0.03490955010056496, -0.016222791746258736, -0.007834132760763168, -0.08086272329092026, -0.0026362105272710323, -0.026474643498659134, -0.0013029909459874034, -0.034667838364839554, -0.0015013022348284721, -0.03400754928588867, 0.029870467260479927, -0.0235744658857584, 0.0514337532222271, 0.10243326425552368, 0.01694747805595398, 0.07389852404594421, 0.049549851566553116, 0.01110905036330223, 0.008857791312038898, -0.06901860237121582, 0.046070802956819534, -0.03176073357462883, -0.04350808635354042, 0.0069474331103265285, -0.028536882251501083, -0.028709640726447105, -0.028362354263663292, 0.0007430376717820764, 0.009753042832016945, -0.051029134541749954, 0.016081761568784714, 0.019987285137176514, 0.025810910388827324, 0.05375569686293602, -0.005319284275174141, 0.003931432031095028, 0.053991980850696564, -0.005129036493599415, 0.014109067618846893, -0.015200169757008553, -0.0002676090516615659, 0.07187125086784363, 0.011996808461844921, -0.006194982677698135, 0.020591938868165016, -0.039722740650177, 0.007841428741812706, -0.02062477543950081, 0.046031150966882706, 0.028482593595981598, 0.033692147582769394, -0.05101749673485756, -0.0006113201379776001, -0.0005767179536633193, 0.020632067695260048, 0.009316207841038704, -0.02317870408296585, -0.0013654431095346808, -0.01855282299220562, 0.044818975031375885, 0.026425637304782867, -0.005445343907922506, -0.03083127923309803, -0.007227293215692043, -0.03326857462525368, 0.018092388287186623, -0.04253171756863594, 0.03340942785143852, 0.02285834588110447, -0.05665275827050209, -0.03302741050720215, 0.030000632628798485, 0.012428225949406624, -0.07073474675416946, 0.0003781253471970558, 0.05293033644556999, -0.02843492664396763, -0.021334772929549217, 0.02561727911233902, 0.037739310413599014, 0.008760245516896248, -0.06261826306581497, 0.020341357216238976, 0.03599689155817032, 0.012768266722559929, -0.015243921428918839, -0.021516714245080948, -0.016208600252866745, -0.014530650340020657, -0.03024544194340706, 0.03425869345664978, -0.013401355594396591, 0.06385200470685959, 0.02114606834948063, 0.01792147383093834, -0.01934732124209404, 0.011336891911923885, -0.00872353371232748, -0.015219837427139282, 0.028517620638012886, -0.032641083002090454, -0.01074390672147274, 0.04179010167717934, 0.0026682212483137846, 0.009615439921617508, -0.012813898734748363, 0.03967620059847832, 0.0013597456272691488, -0.011945142410695553, -0.002205222612246871, 0.002957322634756565, 0.027802933007478714, -0.030607201159000397, 0.0018586128717288375, -0.002449738560244441, 0.021612228825688362, 0.007533805910497904, 0.0033528595231473446, -0.054315485060214996, -0.046929504722356796, 0.03315074369311333, 0.0190508384257555, -0.02316317893564701, -0.04460863396525383, -0.0284251868724823, 0.025952940806746483, -0.04476156830787659, 0.018117813393473625, 0.006036244332790375, 0.04835155978798866, -0.018086018040776253, 0.070595882833004, -0.012845777906477451, 0.03550199046730995, -0.02840558812022209, -0.0042905849404633045, 0.00998142920434475, -0.025032369419932365, 0.0003416291729081422, -0.07229287177324295, -0.0075759305618703365, -0.017060384154319763, -0.05374092981219292, 0.01709277182817459, -0.006584630813449621, 0.058475833386182785, -0.019886909052729607, 0.039390288293361664, -0.024408822879195213, -0.02269756980240345, -0.035357214510440826, 0.0014930887846276164, -0.01427781954407692, 0.01902518980205059, -0.0010353773832321167, 0.024349773302674294, 0.012797106057405472, -0.03189676254987717, 0.024282218888401985, -0.0005900601390749216, -0.018702203407883644, 0.006278982851654291, 0.02822849340736866, 0.029838593676686287, -0.045945294201374054, -0.01682393066585064, 0.047541502863168716, -0.07021927833557129, 0.02510419674217701, 0.023485712707042694, 0.05767754092812538, 0.023428943008184433, 0.0015275647165253758, -0.04584294930100441, 0.030835408717393875, 0.0004904450033791363, -0.020950747653841972, -0.03031074069440365, 0.02604523114860058, -0.07034265249967575, -0.01583990827202797, 0.046562548726797104, -0.007092820480465889, -0.00386612256988883, -0.00879648420959711, 0.0005151169607415795, -0.030279239639639854, -0.024433599784970284, 0.038050729781389236, -0.016502927988767624, 0.04245007038116455, 0.005689379759132862, 0.04680795967578888, -0.017270362004637718, -0.016238784417510033, -0.05630582943558693, 0.00818433053791523, 0.020044390112161636, -0.0024435678496956825, 0.03499753773212433, 0.009682726114988327, 0.04170859232544899, -0.04717325419187546, -0.05711444839835167, 0.039457108825445175, 0.016719816252589226, -0.030553780496120453, -0.025327665731310844, 0.020326249301433563, 0.010175001807510853, -0.040363576263189316, 0.031642746180295944, 0.014100992120802402, 0.035617128014564514, 0.013648376800119877, 0.01316949725151062, 0.0028140919748693705, -0.024343052878975868, 0.01384560577571392, -0.014623410068452358, -0.01081580389291048, 0.014875094406306744, 0.05588506534695625, -0.037536703050136566, -0.02480759471654892, 0.016538476571440697, -0.016592487692832947, -0.01973751373589039, -0.010183124803006649, -0.023496905341744423, -0.011645322665572166, -0.06232396513223648, -0.03916676715016365, -0.03645595908164978, -0.011060037650167942, -0.023356186226010323, 2.1627871319651604e-05, -0.04460379481315613, 0.04020138457417488, -0.05502595379948616, -0.03401703014969826, -0.035880375653505325, -0.012097500264644623, -0.006962605286389589, -0.12520669400691986, 0.02568039856851101, -0.000691126158926636, -0.00551173510029912, -0.0403444729745388, 0.012482861988246441, -0.023088684305548668, -0.0004981785896234214, 0.014127613976597786, -0.02377869375050068, -0.022780083119869232, 0.050184521824121475, -0.04474738985300064, -0.014800108037889004, -0.00471152039244771, 0.028020404279232025, -0.016769656911492348, 0.016406262293457985, -0.01632564701139927, -0.021781720221042633, -0.042400240898132324, -0.012077455408871174, 0.028010796755552292, -0.02755478210747242, 0.05169367417693138, 0.022306382656097412, 0.025189902633428574, 0.043324150145053864, -0.038832176476716995, -0.014297820627689362, 0.01759360544383526, -0.0693959966301918, 0.04147271066904068, -0.001370500773191452, -0.05102720484137535, -0.027104731649160385, -0.02551502175629139, -0.019199738278985023, -0.004186002071946859, 0.00092788424808532, -0.004753075540065765, 0.017131222411990166, 0.005207458510994911, -0.025614479556679726, -0.03588835895061493, 0.04588901251554489, -0.027583850547671318, -0.027079015970230103, -0.02463512495160103, 0.004591160919517279, 0.02680465206503868, -0.019332153722643852, 0.0011265261564403772, 0.019270403310656548, -0.006840437185019255, 0.024125050753355026, -0.054522059857845306, 0.02509879134595394, -0.00256261951290071, 0.09898555278778076, -0.0020522261038422585, -0.0008181677549146116, -0.02720695175230503, 0.02883034385740757, -0.023654142394661903, 0.019349321722984314, -0.035168759524822235, 0.005421302746981382, 0.024397557601332664, 0.006299089174717665, -0.011892016977071762, 0.0053063808009028435, 0.01167838554829359, -0.017512695863842964, 0.03408227488398552, 0.01178284827619791, 0.03477011248469353, 0.015951041132211685, -0.017956124618649483, -0.02845061384141445, 0.035627126693725586, 0.00675588846206665, -0.04474259167909622, -0.01243676245212555, -0.01788587123155594, 0.006770777516067028, -0.030114199966192245, 0.014468454755842686, 0.01238388940691948, -0.01036412175744772, -0.0745256170630455, -0.013963408768177032, 0.004212427884340286, 0.010386228561401367, -0.050680216401815414, 0.0054352134466171265, -0.02154998853802681, 0.004790769889950752, -0.03258197382092476, -0.01671917736530304, -0.01722091995179653, -0.0008277598535642028, 0.017261937260627747, 0.026830075308680534, -0.015174453146755695, 0.008098119869828224, 0.0670638456940651, -0.018373645842075348, 0.006587100215256214, -0.004388069733977318, 0.015563713386654854, -0.007881890051066875, 0.00404506316408515, 0.035040318965911865, 0.0011946562444791198, -0.010163338854908943, 0.029281724244356155, 0.033937402069568634, 0.0009082794422283769, 0.026278523728251457, -0.010453034192323685, -0.009190794080495834, -0.021630320698022842, -0.012689530849456787, 0.04191257059574127, 0.0532698892056942, 0.004059973638504744, 0.015840185806155205, 0.09813230484724045, -0.001311382045969367, 0.02616625279188156, -0.06436095386743546, 0.015403510071337223, -0.009460684843361378, 0.029180627316236496, -0.035122375935316086, 0.030463270843029022, 0.04443248733878136, -0.03815361484885216, -0.06943000108003616, -0.012108974158763885, 0.023328499868512154, -0.02252817526459694, -0.0024424393195658922, -0.0498543418943882, -0.030899671837687492, 0.01758473366498947, -0.010001775808632374, -0.05021366477012634, -0.05402827635407448, -0.007201594300568104, -0.018136851489543915, 0.0014227391220629215, 0.025819553062319756, -0.0021002136636525393, 0.03713342547416687, -0.02397637814283371, 0.008912047371268272, -0.027604131028056145, 0.028801899403333664, 0.010518432594835758, -0.013373836874961853, -0.02934347093105316, -0.004075859673321247, -0.03959449380636215, -0.02474447526037693, -0.00998627208173275, -0.012933122925460339, -0.01710483990609646, 0.021259360015392303, 0.00532779935747385, 0.06360169500112534, -0.035000063478946686, 0.04053347557783127, 0.039436452090740204, -0.011726189404726028, -0.002718321280553937, 0.06286504119634628, 0.012967726215720177, -0.018978169187903404, 0.02584889717400074, -0.0299390722066164, 0.014616979286074638, 0.020571129396557808, -0.029358796775341034, -0.04000377655029297, -0.012205072678625584, 0.06588024646043777, 0.0321393683552742, -0.004850615281611681, -0.006376966834068298, 0.0069351401180028915, 0.01251147035509348, -0.009102009236812592, 0.03476705774664879, 0.03852367773652077, 0.034563276916742325, 0.03191705048084259, -0.02738860994577408, 0.027580376714468002, -0.05587907135486603, -0.01438996847718954, 0.04932099208235741, -0.015086079016327858, -0.012661011889576912, -0.0031209797598421574, -0.04098905250430107, -0.010736575350165367, -0.018654974177479744, 0.0017576388781890273, -0.015417602844536304, -0.02493096888065338, 0.016272157430648804, 0.008304043672978878, 0.012492269277572632, -0.02610434778034687, 0.028651632368564606, -0.006774356123059988, -0.021069353446364403, -0.01241324096918106, -0.004087918438017368, -0.011877251788973808, -0.010481739416718483, -0.022585393860936165, 0.01359666045755148, -0.05835205316543579, 0.007541205734014511, 0.04869057610630989, -0.024091754108667374, 0.006596388295292854, 0.02685137279331684, -0.052196014672517776, -0.04545792564749718, 0.04518220201134682, 0.015354662202298641, -0.016589900478720665, 0.0503237321972847, 0.012740335427224636, -0.008616232313215733, -0.03751925751566887, 0.05184711143374443, -0.018242783844470978, 0.0012517598224803805, -0.025500014424324036]\n"
     ]
    }
   ],
   "source": [
    "embedded_query = embeddings_model.embed_query(\"인공지능이란 무엇인가요?\")\n",
    "\n",
    "# 쿼리 임베딩 결과 출력\n",
    "print(f\"쿼리 임베딩 벡터의 차원: {len(embedded_query)}\")\n",
    "print(embedded_query)"
   ]
  },
  {
   "cell_type": "markdown",
   "id": "4e87fd17",
   "metadata": {},
   "source": [
    "`(4) 유사도 기반 검색`"
   ]
  },
  {
   "cell_type": "code",
   "execution_count": 49,
   "id": "76435ced",
   "metadata": {},
   "outputs": [
    {
     "name": "stdout",
     "output_type": "stream",
     "text": [
      "쿼리: 인공지능이란 무엇인가요?\n",
      "가장 유사한 문서: 인공지능은 컴퓨터 과학의 한 분야입니다.\n",
      "유사도: 0.7269\n",
      "\n",
      "쿼리: 딥러닝과 머신러닝의 관계는 어떻게 되나요?\n",
      "가장 유사한 문서: 딥러닝은 머신러닝의 한 종류입니다.\n",
      "유사도: 0.7057\n",
      "\n",
      "쿼리: 컴퓨터가 이미지를 이해하는 방법은?\n",
      "가장 유사한 문서: 컴퓨터 비전은 컴퓨터가 디지털 이미지나 비디오를 이해하는 방법을 연구합니다.\n",
      "유사도: 0.6843\n",
      "\n"
     ]
    }
   ],
   "source": [
    "# 예제 쿼리\n",
    "queries = [\n",
    "    \"인공지능이란 무엇인가요?\",\n",
    "    \"딥러닝과 머신러닝의 관계는 어떻게 되나요?\",\n",
    "    \"컴퓨터가 이미지를 이해하는 방법은?\"\n",
    "]\n",
    "\n",
    "# 각 쿼리에 대해 가장 유사한 문서 찾기\n",
    "for query in queries:\n",
    "    most_similar_doc, similarity = find_most_similar(query, document_embeddings)\n",
    "    print(f\"쿼리: {query}\")\n",
    "    print(f\"가장 유사한 문서: {most_similar_doc}\")\n",
    "    print(f\"유사도: {similarity:.4f}\")\n",
    "    print()"
   ]
  },
  {
   "cell_type": "markdown",
   "id": "6d063911",
   "metadata": {},
   "source": [
    "### 4-3 Ollama - 오픈소스 LLM"
   ]
  },
  {
   "cell_type": "markdown",
   "id": "ba69a0f5",
   "metadata": {},
   "source": [
    "`(1) embedding 모델`"
   ]
  },
  {
   "cell_type": "code",
   "execution_count": 54,
   "id": "795906a7",
   "metadata": {},
   "outputs": [
    {
     "data": {
      "text/plain": [
       "OllamaEmbeddings(model='bge-m3', base_url=None, client_kwargs={}, _client=<ollama._client.Client object at 0x3076f1410>, _async_client=<ollama._client.AsyncClient object at 0x3078a8990>)"
      ]
     },
     "execution_count": 54,
     "metadata": {},
     "output_type": "execute_result"
    }
   ],
   "source": [
    "from langchain_ollama import OllamaEmbeddings\n",
    "\n",
    "# OllamaEmbeddings 모델 생성\n",
    "# embeddings_model = OllamaEmbeddings(model=\"nomic-embed-text\")\n",
    "embeddings_model = OllamaEmbeddings(model=\"bge-m3\")\n",
    "\n",
    "# 임베딩 객체 출력\n",
    "embeddings_model"
   ]
  },
  {
   "cell_type": "markdown",
   "id": "0673debb",
   "metadata": {},
   "source": [
    "`(2) embed_documents 사용`"
   ]
  },
  {
   "cell_type": "code",
   "execution_count": 55,
   "id": "2fde851f",
   "metadata": {},
   "outputs": [
    {
     "name": "stdout",
     "output_type": "stream",
     "text": [
      "임베딩 벡터의 개수: 5\n",
      "임베딩 벡터의 차원: 1024\n",
      "[-0.03931497, 0.008721112, -0.012852541, 0.0023820843, -0.009018188, -0.0074397568, -0.005545783, -0.009000815, 0.03282661, 0.00597822, -0.027313238, -0.027908258, 0.00036453785, 0.030143026, 0.017158497, 0.017252987, 0.025458425, -0.021863855, -0.011466738, -0.05697076, -0.00023014759, 0.013507283, -0.0074310186, 0.01854247, 0.0029200267, 0.008601518, -0.00081364455, -0.02905518, 0.02075742, -0.020625666, 0.008136039, -0.02688138, 0.0036543147, -0.016179923, -0.07387962, -0.033676706, -0.02384348, -0.034338653, -0.034617513, 0.0055238022, -0.050142344, -0.0029514732, -0.02309697, -0.07501646, -0.011301303, -0.028939748, -0.034186218, -0.02544571, -0.06139335, 0.013563818, 0.024455268, -0.031441867, 0.050599128, 0.012971847, -0.063983314, 0.02728854, 0.007022479, 0.01037388, -0.06406661, -0.0161906, -0.02071021, 0.030174006, -0.0063638417, -0.013157325, -0.000710721, 0.04693201, 0.007848867, 0.02966306, -0.034822952, -0.03637293, 0.021471098, 0.01764563, -0.033509105, 0.01401558, -0.052316543, 0.04867326, -0.013367686, -0.01726746, -0.034382068, 0.021206569, -0.02295425, -0.0060507357, -0.012358054, -0.045905173, -0.043467402, -0.033339303, -0.030859651, 0.06256433, -0.012935728, 0.0031816063, -0.033981305, -0.011899287, 0.070023224, -0.06781388, -0.041307997, -0.04544055, -0.059833925, 0.02653155, 0.02189066, 0.016525961, -0.004937369, 0.055673648, 0.0058618244, -0.0048975176, 0.00517733, 0.012545266, 0.015898421, 0.013547695, -0.0044034473, -0.016948665, 0.024692595, 0.07870655, -0.0033327239, 0.027768238, -0.014893269, -0.036272198, -0.006953318, -0.005267758, 0.03127443, 0.028122786, 0.021414481, 0.027147552, -0.01835319, -0.035594225, 0.025529377, -0.0144316405, 0.04339464, -0.006426437, -0.0024643063, -0.025479715, 0.007157178, 0.0014462166, -0.060794003, 0.002210089, -0.07941577, -0.031429674, -0.026336674, -0.034443047, 0.0011787792, -0.026795313, 0.031971075, 0.008475328, -0.03447922, -0.026022373, 0.028319063, 0.028947832, 0.01184646, 0.0066575026, -0.040294502, 0.0066448604, -0.041991163, 0.0018854352, -0.017028337, -0.0005172956, 0.008452168, 0.057191096, 0.034433965, 0.018439675, -0.03639656, 0.019138448, -0.010991759, -0.050950423, -0.011779408, 0.034409247, 0.025040336, 0.005833966, 0.002141192, 0.056649685, -0.024992244, -0.051558863, -0.040594846, -0.003784327, -0.089595035, 0.013699072, 0.032657538, 0.02098544, 0.041070048, 0.031238917, 0.010394562, -0.032622818, -0.024603348, -0.01571618, -0.01796158, 0.016203783, -0.0031279083, -0.008183881, 0.007832475, 0.017568896, 0.0058918567, -0.0016912413, 0.033745296, -0.023500083, 0.018288601, -0.013267448, -0.011196907, -0.061114293, 0.03534236, 0.033390164, 0.0035704407, -0.009541126, -0.033332877, 0.026275964, 0.004953865, -0.0051794746, -0.028453661, 0.035141546, -0.0019572845, -0.033367198, 0.02067124, -0.01687007, 0.05039201, 0.005477521, 0.006730261, -0.042296696, -0.0503635, -0.023790194, -0.00033513823, 0.017588004, -0.021685947, -0.05100028, -0.005311246, -0.007916921, 0.012491631, 0.04022445, 0.023519566, 0.011281625, -0.012378143, -0.024157707, 0.05930195, 0.0226456, -0.014687026, 0.028559633, 0.003045096, -0.027560424, 0.002654166, -0.012633628, -0.01900899, 0.0012069215, 0.023984594, 0.005552454, 0.0003803581, -0.012325336, 0.008419988, 0.007141048, -0.013907298, -0.025951184, -0.008832653, 0.011239307, -0.03881252, 0.012228023, -0.0149269765, -0.053587437, 0.0007024927, -0.03770289, 0.024344869, -0.022463905, -0.0030488179, 0.0059765917, 0.029150337, 0.0129870605, -0.025303291, -0.017985012, -0.032699097, 0.015642883, 0.036805853, -0.019069707, 0.0038865455, -0.008618877, 0.025502624, 0.031365678, 0.013784994, 0.016567739, 0.026504716, 0.016516568, 0.037257545, 0.017366523, 0.016101563, -0.022079336, 0.027512899, 0.024030032, -0.025105262, -0.03496442, 0.010895487, 0.03759703, 0.03241084, -0.0031743562, -0.021287926, -0.0010094787, -0.049570203, -0.0502389, -0.055831347, -0.035804786, 0.051584486, -0.02653243, -0.029709022, 0.040971335, -0.0027078015, -0.15397431, 0.053077243, -0.04414777, 0.024705674, 0.0007988632, -0.022973374, 0.028279634, 0.020691963, -0.06492984, 0.058661193, -0.015282896, -0.052914415, -0.026605876, -0.016017532, 0.03522918, 0.037001286, 0.018289782, -4.094159e-05, -0.02533991, -0.004312783, -0.041141126, -0.050665095, 0.0149880415, -0.03601664, 0.029812561, -0.044940613, -0.021064406, -0.023638442, -0.028911673, -0.034326557, -0.01853409, -0.009567246, -0.021341544, 0.04194473, 0.022586094, 0.00811403, 0.003444294, -0.035154495, 0.05362108, 0.0063393395, -0.009486054, 0.03399538, 0.014006424, 0.005018546, -0.0005019033, -0.022451013, 0.038829695, 0.00047310503, -0.013657094, 0.009058956, -0.024483511, -0.05045364, 0.046339277, -0.021068059, -0.033552226, 0.006026821, 0.0102374405, 0.06918614, 0.022962209, 0.012687338, -0.040103618, -0.034660414, 0.020004418, 0.014722191, 0.013824058, -0.04680836, 0.055432424, 0.01143687, 0.021365942, -0.02211742, 0.036437735, -0.0014171287, 0.050948888, -0.016716408, -0.00034215307, 0.04928288, 0.007857048, -0.07770163, -0.05165042, -0.08168312, 0.00021609617, -0.0027083831, -0.009092568, -0.004728784, -0.04192364, -0.0023404702, -0.010134814, -0.028058337, 0.05053734, 0.20476775, 0.026376102, -0.00023567963, -0.026691683, 0.037082043, -0.008922072, -0.014108645, -0.019297706, 0.017400732, -0.010129512, 0.009847522, -0.022417592, -0.0011064258, 0.0063003306, 0.013686374, 0.025104932, -0.03394075, -0.00094784686, 0.085743904, 0.021795949, -0.007625005, -0.0031141858, 0.044432536, -0.0012411508, -0.028808955, -0.026273219, 0.0027607316, 0.010697751, -0.01932422, -0.03647982, 0.0050331173, 0.029924976, -0.010675623, 0.006459539, 0.023857938, 0.01761557, 0.0016152981, -0.018937904, 0.009170499, 0.0076719588, -0.020539103, -0.015677206, -0.0012517393, 0.0073651206, 0.0095562255, 0.01083929, 0.0069619827, -0.009120804, -0.019658586, -0.03544165, -0.062052656, -0.02218301, -0.043216135, 0.018261697, -0.002473953, -0.004138825, -0.043259956, 0.026166236, 0.017504616, 0.008794332, 0.039274547, 0.00873806, 0.03327717, 0.025834352, -0.009485071, -0.0057772286, -0.037313607, -0.05820794, 0.058865663, -0.003696374, 0.013229129, 0.014924624, -0.04683236, -0.02198535, 0.006396006, 0.0033081805, 0.03152299, 0.026510272, 0.028573766, 0.027917778, -0.02938062, 0.011009029, -0.027788455, 0.03799576, 0.007661942, -0.05143159, -0.014145956, 0.055497445, 0.017355846, -0.024942877, 0.013935807, 0.008284972, -0.009149289, 0.04421442, -0.013297642, 0.02286634, 0.007618039, -0.005619717, -0.02679064, 0.043191753, -0.030471357, -0.04369294, -0.009786967, -0.006710059, 0.016681451, 0.020748645, 0.020452281, 0.05558963, 0.009051211, 0.0481571, 0.0028251242, 0.026909402, -0.052033532, -0.045782164, 0.013965377, -0.0104225315, 0.020953117, 0.020795496, 0.0069189854, 0.014948326, -0.031263523, 0.0015731496, 0.01871312, 0.03204965, 0.00034679062, -0.027088296, 0.047262385, 0.03393189, -0.015647555, 0.019745793, 0.06061111, 0.0020192, 0.003949722, 0.048906278, 0.02275617, 0.014276126, -0.014150654, 0.021929406, 0.05991076, 2.8577628e-05, 0.014736951, 0.006956508, 0.024416545, 0.0081705535, 0.010954065, 0.0016163167, -0.01359907, 0.04867563, -0.023629593, -0.0061259186, 0.00077439094, -0.022328168, 0.058473077, -0.0424516, -0.008710964, -0.029610544, -0.021120405, -0.005743697, 0.037243806, -0.022278136, 0.029627945, 0.021999404, 0.059958655, 0.054285392, -0.013024846, 0.04662469, -0.0038971065, -0.020055294, -0.010065146, -0.05209118, 0.012883632, -0.024191111, -0.046954058, 0.017422562, -0.06339326, -0.012146615, -0.051797256, 0.016536245, 0.0027685522, 0.002270605, 0.046888106, 0.0051924847, 0.028495595, 0.01815452, 0.0027198917, 0.012765563, 0.043089297, -0.012564828, 0.016018251, -0.03498835, -0.013873792, 0.08510555, -0.00063865853, -0.035159048, 0.018836528, -0.04391113, 0.018235734, -0.014749995, 0.05109371, -0.014338084, -0.012068466, -0.05384278, 0.009205861, -0.013273072, -0.026057113, 0.019064961, -0.009163244, 0.01595861, -0.0118463645, 0.023970138, 0.01087986, 0.0012531133, -0.04744531, 0.02815805, -0.030233076, 0.034408927, -0.035470758, 0.010482019, 0.021827625, -0.07120145, -0.011639563, -0.0007930558, 0.0009725671, -0.06676846, 0.0019631784, 0.030986805, -0.013669871, -0.02006334, -0.019697541, 0.046492465, -0.004821869, -0.08164907, 0.040380847, 0.0051425206, 0.03098564, 0.0051924568, -0.0060911705, 0.013957473, -0.021155061, -0.019508485, 0.025792837, -0.02692007, 0.06499349, 0.017402692, 0.025204333, 0.012537405, 0.0062013823, -0.0153240645, -0.003030021, 0.0045246473, -0.011903258, -0.04780583, 0.048661366, 0.027310891, 0.019963853, -0.046228144, 0.049622063, -0.015402542, -0.02282759, 0.0071459427, 0.011481314, 0.028020466, -0.0010346567, 0.0052235974, 0.0058261445, 0.041015055, 0.046589933, 0.013944427, -0.048721, -0.03627586, 0.030438405, -0.0031235192, -0.039930712, -0.03222066, 0.031815287, -0.002261513, -0.03736781, 0.046949934, 0.04747859, -0.0038372849, -0.0047656973, 0.054594237, 0.008808936, 0.014403978, 0.013166641, -0.005723521, 0.011407117, 0.005833057, 0.028461216, -0.037449624, 0.017439976, 0.009304509, -0.043103375, 0.009842037, -0.01304292, 0.026260037, -0.0089500835, 0.04864888, -0.023925053, -0.008329077, -0.030171063, -0.011694129, -0.008058068, -0.00086288597, 0.036255524, 0.019531382, 0.015743291, -0.06481074, 0.03223061, -0.019737408, 0.0125810355, 0.0006716465, 0.03749805, 0.048801005, -0.030765107, -0.011076154, 0.030403843, -0.049610283, 0.055011157, -0.0018355869, 0.049766224, 0.00069456064, -0.006084911, -0.023217056, 0.010195923, 0.023947079, -0.019371828, -0.031942904, 0.029285371, -0.053574756, -0.012945287, 0.033147275, -0.002382146, 0.025617894, 0.0027640758, -0.016138012, -0.019949269, -0.0363009, 0.05152816, 0.025942832, -0.023722691, -0.0021372281, 0.05668576, -0.021238508, 0.02616866, -0.030842232, -0.008991934, -0.0013539663, 0.0073088654, 0.013945437, -0.038748126, -0.0051797465, -0.02059785, -0.085201934, 0.03291865, -0.021204993, -0.0016029372, -0.024126407, 0.010025432, 0.0033107863, -0.046209093, 0.0043166666, 0.012889525, 0.031930238, -0.006372759, 0.061866846, 0.027388299, -0.040194783, 0.012678633, -0.04348506, -0.034336925, 0.024035836, 0.04533055, -0.06427005, -0.0025074778, 0.015773667, -0.04627022, 0.01552963, -0.012479523, 0.004033675, 0.0027310606, -0.059247766, -0.049850643, -0.031775486, 0.0041407757, -0.040663086, -0.009893585, -0.02046405, 0.0434209, 0.009010814, -0.021464985, -0.036778167, 0.0387375, -0.028507585, -0.12077434, 0.011148021, -0.021600777, 0.03873976, -0.020644445, 0.026134647, -0.005394205, 0.0076055224, 0.024022425, -0.068018645, -0.010569619, 0.03844855, 0.020900412, -0.013558879, -0.0014292512, 0.019072069, -0.010549382, 0.019173894, 0.0074004214, 0.025017051, -0.0029733218, 0.019331127, 0.04544441, -0.0069297454, 0.016656755, -0.0038756675, 0.006311759, 0.009974598, -0.061571267, 0.008141746, 0.05611648, -0.05686087, 0.005720849, 0.002476798, -0.052250944, -0.030107202, -0.045290213, 0.004224991, -0.027808364, 0.038789876, -0.032648213, 0.02713585, 0.039659835, -0.011151722, 0.015638405, 0.08884834, -0.031507455, -0.016815878, -0.014703564, -0.0208338, 0.029686268, -0.02612811, -0.01237976, 0.052321557, -0.012927767, 0.016395453, -0.05072293, 0.009440506, -0.0030301206, 0.07739494, -0.04183954, 0.0008189948, -0.030629162, 0.0128925415, -0.007402893, 0.031108374, -0.05748361, -0.010909713, -0.0151054375, 0.0068977377, 0.008626553, 0.065701135, 0.033648726, -0.033911463, 0.029483104, 0.011802437, 0.051068485, 0.0071226237, 0.019849967, -0.034561925, 0.016133457, 0.012648915, -0.04679995, -0.027648084, 0.010232547, -0.023078417, -0.034247957, -0.0031403897, -0.008265581, -0.023295112, -0.048620827, -0.011039811, -0.01944506, -0.0037079516, -0.047209784, 0.013845783, 0.00217739, 0.012411667, -0.015974497, -0.012103622, -0.007154023, -0.0051513254, 0.010014988, -0.0023419564, -0.020494428, 0.034496833, 0.066236824, -0.010786202, 0.054859567, -0.033985816, 0.009277174, -0.014388508, -0.051748306, 0.039604295, -0.0029702166, -0.012130236, 0.01629396, 0.061927862, 0.015227773, 0.032130804, 0.046508312, -0.026847737, 0.0022827855, -0.01770587, 0.061444137, 0.003793177, 0.00068839476, 0.045745593, 0.04986971, 5.8884463e-05, 0.01598397, -0.029120984, 0.0513448, -0.019548435, 0.050036445, 0.0012811472, 0.06668879, 0.032251813, -0.076055, -0.02664078, -0.022685774, -0.013842639, -0.002607814, -0.017199593, -0.051974073, -0.0066221077, 0.028293727, -0.05933713, -0.0060739876, -0.010358229, -0.020575544, -0.025527585, 0.0062783696, 0.059823357, -0.064676814, 0.039153825, -0.03937666, 0.01141571, -0.004918744, -0.02191853, 0.02457831, -0.021060076, -0.014354294, 0.005117771, -0.027092323, -0.015715754, -0.020006163, -0.017460959, -0.0021198215, 0.031670935, 0.033073816, 0.061010096, -0.0218975, -0.007469676, 0.023363346, 0.0045309607, -0.034160163, 0.03068177, 0.050458305, 0.019288683, 0.030435685, -0.008342327, 0.038469672, 0.024080746, -0.02994739, -0.022508815, -0.029501732, 0.059393793, 0.023892634, -0.051839136, -0.021411898, -0.00800151, -0.045736883, 0.018483723, -0.013171426, 0.0619529, 0.025651023, 0.030340042, -0.01387254, 0.011508669, -0.07670767, -0.015617743, 0.031290043, -0.010152854, -0.0048848884, 0.005812927, -0.05359167, -0.0018074164, -0.023281125, -0.0129006915, 0.00878868, 0.018835677, 0.0011165561, -0.007622272, 0.049026113, -0.050410923, 0.012862268, -0.005180146, -0.015482082, 0.003524358, 0.0031820324, 0.0075441976, -0.026590707, -0.010871475, 0.013913498, -0.03161658, 0.010419293, 0.049899835, -0.03507311, -0.0007671005, -0.028165994, -0.024358353, 0.0028077792, 0.020376224, -0.013449529, -0.014158333, 0.02243956, 0.03907864, -0.008113344, -0.015813695, 0.054487146, 0.008292758, 0.03507247, -0.017874703]\n"
     ]
    }
   ],
   "source": [
    "# 문서 컬렉션\n",
    "documents = [\n",
    "    \"인공지능은 컴퓨터 과학의 한 분야입니다.\",\n",
    "    \"머신러닝은 인공지능의 하위 분야입니다.\",\n",
    "    \"딥러닝은 머신러닝의 한 종류입니다.\",\n",
    "    \"자연어 처리는 컴퓨터가 인간의 언어를 이해하고 생성하는 기술입니다.\",\n",
    "    \"컴퓨터 비전은 컴퓨터가 디지털 이미지나 비디오를 이해하는 방법을 연구합니다.\"\n",
    "]\n",
    "\n",
    "# 문서 임베딩\n",
    "document_embeddings = embeddings_model.embed_documents(documents)\n",
    "\n",
    "# 임베딩 결과 출력\n",
    "print(f\"임베딩 벡터의 개수: {len(document_embeddings)}\")\n",
    "print(f\"임베딩 벡터의 차원: {len(document_embeddings[0])}\")\n",
    "print(document_embeddings[0])"
   ]
  },
  {
   "cell_type": "markdown",
   "id": "668cb852",
   "metadata": {},
   "source": [
    "`(3) embed_query 사용`"
   ]
  },
  {
   "cell_type": "code",
   "execution_count": 56,
   "id": "0bd5a102",
   "metadata": {},
   "outputs": [
    {
     "name": "stdout",
     "output_type": "stream",
     "text": [
      "쿼리 임베딩 벡터의 차원: 1024\n",
      "[-0.03680102, -0.004897515, 0.0028898506, -0.015532713, -0.0009166787, -0.04167313, -0.0067089866, 0.011332301, 0.021562414, 0.004902553, -0.02047684, 0.016799612, -0.012879434, 0.005437187, 0.014990911, 0.024317233, 0.007424208, -0.027960882, -0.0151330745, -0.05182166, -0.006595149, -0.009184408, -0.01714285, 0.006597815, 0.052904196, 0.048059072, -0.008171573, -0.023195054, 0.018091468, -0.011380093, -0.004339582, -0.006356782, -0.0024361906, 0.0143599855, -0.035458617, -0.0082260445, -0.011815377, -0.045276895, -0.040650643, 0.0021737837, -0.012295167, 0.017695779, -0.019154694, -0.041933402, 0.0010042401, -0.039017674, -0.02443351, -0.024548931, -0.022177326, -0.0044736424, 0.031535354, -0.048756495, 0.017998321, 0.025261747, 0.0023832794, 0.048539657, -0.008118256, 0.028092578, -0.07375328, -0.020698596, -0.026359912, -0.007486189, -0.038771544, -0.0173924, 0.01923657, 0.063733354, 0.02038606, -0.011864598, -0.018535549, -0.040774167, 0.0025399572, 0.041486472, -0.05777881, 0.052810572, -0.045954607, 0.011449375, 0.020651251, 0.006214055, -0.034704767, 0.017753264, 0.048632186, -0.011422371, -0.029493136, -0.013391042, -0.0061027617, -0.0019710402, -0.019654572, 0.06847756, -0.010741151, 0.0023853458, -0.042681687, -0.0017423675, 0.051162496, -0.105921775, -0.018775642, -0.082464434, -0.03350435, 0.010839721, 0.014375794, 0.032037277, -0.0054414324, 0.044385616, 0.016019821, -0.026793003, 0.029572738, 0.0056990506, 0.00054249156, 0.009318878, -0.037953567, -0.0065657804, 0.03819008, 0.038671706, 0.01902041, 0.031835053, -0.046889454, -0.0534466, 0.008993716, 0.0013688975, 0.023105817, 0.04094439, -0.00778468, 0.020706117, -0.036063723, -0.042333327, -0.008934414, -0.016682373, 0.033237785, 0.03471439, -0.0060808333, -0.014174613, 0.026811296, -0.01765167, -0.07627858, -0.0059635174, -0.05995518, -0.020177474, 0.0070334906, -0.031132175, 0.024987148, -0.033265002, 0.03440516, 0.006154154, -0.033638924, -0.028769603, 0.018259667, 0.006750557, 0.0042712665, -0.007838923, -0.010535779, 0.024573972, -0.01785358, -0.023175832, -0.026454456, -0.0098281, 0.00869078, 0.046356965, 0.010058057, 0.024056863, -0.052161366, 0.034446523, 0.042565823, -0.00061598874, 0.0069894874, 0.024618099, -0.0093521, 0.0036713884, 0.0018960419, 0.022523979, -0.007792101, -0.026749654, -0.037203982, 0.010211341, -0.03354163, 0.03529158, 0.013981445, 0.0017206718, 0.06456606, 0.033437353, -0.009819694, -0.008013505, -0.055607628, -0.017585102, -0.011534758, 0.0037939171, -0.0036595098, 0.0112049645, 0.015969472, 0.011450948, 0.01941003, -8.481381e-05, -0.016568078, -0.021761008, 0.013355814, -0.0045775645, -0.001538499, -0.03019344, 0.033669017, 0.046059888, -0.0042871693, -0.039969645, -0.027028251, 0.028333424, 0.016687939, 0.007478676, -0.043065958, 0.013862237, 0.0050112475, -0.04197426, 0.011032029, -0.037421923, 0.019038318, 0.048502818, 0.04983399, -0.023993602, -0.055113252, -0.008756724, -0.019203395, 0.044193793, -0.0077041956, -0.012274591, -0.013399472, 0.019193968, 0.0013186692, 0.025580263, 0.035577424, -0.0019324719, 0.036931794, -0.019353148, 0.021071706, 0.010640967, 0.0018311666, 0.05878054, 0.01629032, -0.0326619, 0.001045044, -0.014657853, -0.037476413, -0.021554485, 0.006737363, 0.019422112, -0.02478687, 0.0022151053, -0.03265878, 0.026937509, -0.011466315, -0.013251693, -0.016542608, -0.025911663, -0.011936836, 0.025376529, -0.0012666874, -0.03893058, 0.005280805, -0.012381734, 0.053058393, 0.014093806, -0.010160266, 0.0057702838, 0.0071402057, 0.03674667, 0.010395672, -0.023520844, 0.0006328524, 0.03280782, 0.05395091, 0.010082375, 0.0016281627, -0.032342695, 0.01928504, 0.033677958, -0.014701723, -0.02022924, -0.02014994, 0.0034012718, 0.038540047, -0.014468462, -0.008589286, -0.015664015, 0.025245382, 0.009569958, -0.021170903, -0.056238096, -0.014715664, 0.046385948, 0.024666166, -0.025386307, -0.031370964, 0.001978428, -0.0019825215, -0.03753327, -0.010792346, -0.021261701, 0.060041964, -0.017649557, -0.029011635, -0.016543038, -0.033207253, -0.13440089, 0.014981806, -0.030589994, 0.023936193, -0.00910123, -0.030410172, 0.020058887, -0.012324158, 0.0009571777, 0.029187137, 0.008194283, -0.04650241, -0.049941123, -0.032406256, 0.031478874, 0.00592449, 0.017333595, -0.0124324225, -0.032474626, -0.0486334, -0.01679133, -0.06617087, 0.008030651, -0.051548008, 0.05675542, -0.011768794, 0.014061216, -0.0031499923, -0.04702562, -0.057086464, -0.013496625, -0.040167604, -0.009101883, 0.05355134, 0.05179398, 0.0059069316, -0.0033919802, -0.02427867, 0.041712184, -0.0066112718, 0.0012286548, 0.0040448178, 0.027095495, 0.04174562, 0.0046054674, 0.017275462, 0.03126963, -0.018768156, 0.022154871, -0.0015661218, -0.03182238, -0.003951231, 0.050009858, -0.042942923, 0.019384788, -0.004673056, 0.038709782, 0.07496656, 0.047089346, -0.012815481, -0.049096398, 0.036403693, -0.016457416, 0.023777395, -0.013974389, -0.008336832, 0.076297596, 0.021737585, -0.006607338, -0.029755913, 0.042852692, -0.006247453, 0.003349631, -0.011837183, 0.018921051, 0.036566094, 0.011983013, -0.055345137, -0.043651175, -0.07867641, 0.026761767, -0.016938513, -0.00066679675, -0.0010008654, -0.020253038, -0.01931704, -0.0018993334, 0.0027986912, 0.016323812, 0.2407101, -0.02064586, 0.015919438, -0.023110235, -0.009763193, -0.0055328677, -0.0229262, -0.021857213, 0.010921541, -0.022692923, 0.0049227835, -0.016246513, 0.00752483, 0.003951009, 0.024984686, 0.060891777, -0.03463303, 0.008016027, 0.06777972, 0.011996112, 0.0013816984, 0.012022567, 0.033392582, 0.012172901, -0.023412518, -0.0065377387, 0.016334219, 0.03226855, -0.011984558, -0.02081728, -0.0005362877, 0.0060573383, 0.015059605, -0.0055103637, 0.002598314, 0.0080076, -0.012833197, -0.026118416, 0.016756654, -0.0022409193, -0.029861832, -0.021346385, 0.035377584, -0.0066593145, 0.009450971, 0.018323172, 0.017823849, 0.018862333, -0.06519729, -0.019734962, -0.033809915, -0.00209707, -0.051290445, 0.00206262, -0.011234732, -0.020694746, -0.014936235, 0.039021127, 0.016437044, -0.017457778, 0.06683031, -0.004692795, 0.023526669, -0.028118929, 0.008313456, -0.016582716, -0.033079468, -0.081418775, -0.012021914, 0.0058749444, 0.000101541475, -0.0034247173, -0.03515896, -0.0049627386, 0.023670606, 0.029137103, 0.030726874, 0.038027193, 0.007241723, 0.010120128, 0.015811587, 0.00373933, -0.04255777, 0.014626196, 0.009342994, -0.039485943, -0.027927432, 0.049226876, 0.028074907, -0.044788137, 0.04683325, -0.018548023, -0.040171426, 0.03164911, 0.011888559, -0.012843793, 0.06601127, 0.013052621, 0.010383659, 0.04199516, -0.03929959, -0.022920037, 0.00014458547, 0.055564795, 0.04946411, -0.008266596, 0.010602022, 0.06881911, 0.0071114814, 0.09679074, -0.017063806, -0.0060817865, -0.037476745, -0.0025709106, 0.024529742, 0.0065980814, 0.028546097, -0.023937995, 0.008506776, 0.014557398, -0.047654312, 0.027513843, -0.0010467566, -0.024000742, 0.024625665, -0.03208623, 0.03445925, -0.01083363, -0.013775894, 0.0156000815, 0.03962069, 0.007093601, 0.033189356, 0.067735136, 0.043463603, 0.0101096835, -0.0061515816, 0.033400383, 0.023446735, 0.022080043, -0.010678199, -0.006416837, -0.0009023371, 0.02056231, 0.00487472, 0.006917419, 0.026168006, 0.031062417, -0.035723377, -0.036923904, -0.03495774, -0.016372295, -0.007681537, -0.08078907, -0.0025295422, -0.026444972, -0.0013238451, -0.034675077, -0.0015715293, -0.033955548, 0.029905919, -0.023714853, 0.051437777, 0.10250783, 0.017059581, 0.07371538, 0.049542934, 0.011081973, 0.008800379, -0.06871692, 0.046118975, -0.031655155, -0.043395985, 0.006756908, -0.028696561, -0.028472364, -0.028518474, 0.00066267647, 0.009713781, -0.05104848, 0.016006535, 0.019984446, 0.025800478, 0.053835772, -0.0053932546, 0.003927899, 0.054006446, -0.0051902924, 0.014044963, -0.015169221, -0.0001431439, 0.07201117, 0.012078985, -0.006167149, 0.020430993, -0.039754987, 0.007703268, -0.020745268, 0.046186123, 0.028596254, 0.033722613, -0.051105715, -0.00057148025, -0.00044773193, 0.020623956, 0.009249054, -0.023135819, -0.00137209, -0.018426036, 0.044831675, 0.026454845, -0.005434203, -0.030894786, -0.007093657, -0.03343509, 0.018059913, -0.0426742, 0.033258095, 0.02306522, -0.056840222, -0.033150498, 0.029894926, 0.012368866, -0.070593156, 0.00050428207, 0.053009983, -0.028661747, -0.021191172, 0.025659157, 0.037784193, 0.00883447, -0.06266426, 0.02038979, 0.036122657, 0.0128089795, -0.015271233, -0.021528745, -0.016300537, -0.014586026, -0.030131493, 0.03408093, -0.01348492, 0.063894786, 0.021077462, 0.017963387, -0.019433184, 0.011331744, -0.0087426435, -0.0153218815, 0.028616928, -0.032807287, -0.010825101, 0.04183173, 0.0027793269, 0.009645262, -0.012776735, 0.03975459, 0.0014459605, -0.011874154, -0.0021379082, 0.0030351148, 0.027689518, -0.03058371, 0.0018529207, -0.002513339, 0.021641089, 0.0075280867, 0.0033814698, -0.05436663, -0.046779722, 0.033114765, 0.01925456, -0.023219498, -0.044545416, -0.028566241, 0.025992583, -0.044716917, 0.018201021, 0.0059585623, 0.048155136, -0.017909965, 0.070682004, -0.012742408, 0.035413496, -0.02827674, -0.004231734, 0.010015156, -0.024905693, 0.0003829583, -0.072185464, -0.007472854, -0.016894178, -0.05366969, 0.016983531, -0.006503826, 0.058561794, -0.019881943, 0.03934911, -0.024296872, -0.022584999, -0.03533306, 0.001461764, -0.014279668, 0.01909669, -0.00091473176, 0.024372656, 0.012741623, -0.03187474, 0.024242952, -0.00064850104, -0.018593201, 0.006360843, 0.028469061, 0.02978528, -0.045793027, -0.016705481, 0.047581453, -0.07030433, 0.025114387, 0.023555541, 0.057805274, 0.02338166, 0.0015626377, -0.0458793, 0.03085971, 0.000580078, -0.020850291, -0.030368965, 0.026075676, -0.070376344, -0.015848322, 0.046722062, -0.0070971763, -0.0037955833, -0.008876788, 0.0005159194, -0.030272406, -0.024316803, 0.037992354, -0.016574845, 0.042599477, 0.0057127867, 0.046961192, -0.017379308, -0.01615809, -0.056532893, 0.008077373, 0.019959714, -0.0025802644, 0.0350508, 0.00960383, 0.041772354, -0.047294836, -0.0570987, 0.03943866, 0.016678844, -0.030450866, -0.02553787, 0.020095, 0.010134663, -0.040261313, 0.031496134, 0.014243047, 0.035513047, 0.013715243, 0.01328489, 0.0028595866, -0.024495412, 0.013793887, -0.01465529, -0.010843775, 0.014948323, 0.05601095, -0.037586447, -0.024794338, 0.016420305, -0.016550435, -0.01970501, -0.010372861, -0.023568165, -0.011668633, -0.062531844, -0.039238278, -0.036490206, -0.011131281, -0.023365494, 0.00015677387, -0.044631895, 0.040153626, -0.055153225, -0.03381838, -0.03590824, -0.012083895, -0.007062693, -0.12504734, 0.02554617, -0.00044950077, -0.005290696, -0.040328562, 0.012463857, -0.023088297, -0.0005501317, 0.014153465, -0.0237318, -0.0226243, 0.050336532, -0.044791576, -0.01488258, -0.0048361314, 0.028103592, -0.016817344, 0.01641033, -0.0163924, -0.021726657, -0.04233869, -0.012156596, 0.027907189, -0.027511958, 0.051627155, 0.022313857, 0.025215529, 0.043289945, -0.038821902, -0.014280612, 0.01753744, -0.06934598, 0.041396488, -0.0015234859, -0.051082782, -0.02705304, -0.025581306, -0.019161921, -0.0042154468, 0.0009046798, -0.0048206714, 0.017127812, 0.0052710744, -0.025759209, -0.03596653, 0.045924056, -0.027639136, -0.027120171, -0.024657844, 0.0046397597, 0.026733095, -0.019402489, 0.0011152108, 0.019358998, -0.0069589815, 0.02404288, -0.054454356, 0.02541373, -0.002493766, 0.09907526, -0.001989222, -0.0009115721, -0.027138045, 0.028701264, -0.023469554, 0.019411748, -0.03534129, 0.005478986, 0.024395186, 0.0063659376, -0.011860129, 0.0052617737, 0.011628154, -0.01736979, 0.03410746, 0.0119262375, 0.034829196, 0.015983695, -0.017846787, -0.02854407, 0.035680402, 0.006970445, -0.044748917, -0.0124668805, -0.01794879, 0.0066638966, -0.030213008, 0.014449145, 0.012308121, -0.010279267, -0.07451247, -0.013914843, 0.0042297314, 0.010386595, -0.050674424, 0.0055112857, -0.021491352, 0.0048003923, -0.032624252, -0.016631551, -0.017211257, -0.0007651083, 0.01741417, 0.026828108, -0.015188609, 0.007999256, 0.06693651, -0.01846497, 0.006651563, -0.004415488, 0.015709788, -0.007968518, 0.00403268, 0.034897603, 0.0013629143, -0.010155798, 0.029219039, 0.03389475, 0.00090705114, 0.026355132, -0.010628739, -0.009281671, -0.021726085, -0.012386222, 0.041816406, 0.05346719, 0.0040504937, 0.015930682, 0.098209746, -0.0012572831, 0.02614385, -0.064505376, 0.015427124, -0.0095344195, 0.029149218, -0.03519363, 0.030561028, 0.044368196, -0.03821454, -0.06942789, -0.012240202, 0.023408309, -0.022432063, -0.0023639402, -0.049849957, -0.030977426, 0.01760283, -0.010083794, -0.050154187, -0.054023333, -0.007047065, -0.018222261, 0.0013154779, 0.025850892, -0.0021680659, 0.0371318, -0.023984414, 0.008751244, -0.027463865, 0.02878588, 0.0103731165, -0.013437734, -0.029345147, -0.0038302885, -0.039553944, -0.024624038, -0.00989826, -0.012878489, -0.01706198, 0.021170931, 0.0052730097, 0.0635326, -0.035000134, 0.04032191, 0.039341994, -0.0116987275, -0.0028944944, 0.06294689, 0.012774198, -0.019140761, 0.0257877, -0.02987752, 0.014541794, 0.020400872, -0.029398605, -0.04012499, -0.012283427, 0.06594015, 0.03212783, -0.0049126693, -0.006334252, 0.0070701186, 0.0124975, -0.009075215, 0.03469329, 0.038489114, 0.034763318, 0.031883642, -0.0273882, 0.027602859, -0.055885043, -0.014286911, 0.049219873, -0.015003388, -0.012731486, -0.00324585, -0.04085015, -0.010743187, -0.018648649, 0.0016384665, -0.0154845435, -0.024908356, 0.016374694, 0.008288621, 0.012707618, -0.02620243, 0.028726477, -0.0068622804, -0.020986088, -0.012435576, -0.004030615, -0.011932128, -0.010402967, -0.022796597, 0.013780272, -0.058465738, 0.007516133, 0.048558865, -0.02405485, 0.006685182, 0.026772397, -0.052327387, -0.04521519, 0.045087222, 0.015312033, -0.016533546, 0.050283615, 0.012671563, -0.008602937, -0.037371688, 0.052044436, -0.018361906, 0.0013650935, -0.025479656]\n"
     ]
    }
   ],
   "source": [
    "embedded_query = embeddings_model.embed_query(\"인공지능이란 무엇인가요?\")\n",
    "\n",
    "# 쿼리 임베딩 결과 출력\n",
    "print(f\"쿼리 임베딩 벡터의 차원: {len(embedded_query)}\")\n",
    "print(embedded_query)"
   ]
  },
  {
   "cell_type": "markdown",
   "id": "13f5f115",
   "metadata": {},
   "source": [
    "`(4) 유사도 기반 검색`"
   ]
  },
  {
   "cell_type": "code",
   "execution_count": 57,
   "id": "c678c6b5",
   "metadata": {},
   "outputs": [
    {
     "name": "stdout",
     "output_type": "stream",
     "text": [
      "쿼리: 인공지능이란 무엇인가요?\n",
      "가장 유사한 문서: 인공지능은 컴퓨터 과학의 한 분야입니다.\n",
      "유사도: 0.7271\n",
      "\n",
      "쿼리: 딥러닝과 머신러닝의 관계는 어떻게 되나요?\n",
      "가장 유사한 문서: 딥러닝은 머신러닝의 한 종류입니다.\n",
      "유사도: 0.7052\n",
      "\n",
      "쿼리: 컴퓨터가 이미지를 이해하는 방법은?\n",
      "가장 유사한 문서: 컴퓨터 비전은 컴퓨터가 디지털 이미지나 비디오를 이해하는 방법을 연구합니다.\n",
      "유사도: 0.6836\n",
      "\n"
     ]
    }
   ],
   "source": [
    "# 예제 쿼리\n",
    "queries = [\n",
    "    \"인공지능이란 무엇인가요?\",\n",
    "    \"딥러닝과 머신러닝의 관계는 어떻게 되나요?\",\n",
    "    \"컴퓨터가 이미지를 이해하는 방법은?\"\n",
    "]\n",
    "\n",
    "# 각 쿼리에 대해 가장 유사한 문서 찾기\n",
    "for query in queries:\n",
    "    most_similar_doc, similarity = find_most_similar(query, document_embeddings)\n",
    "    print(f\"쿼리: {query}\")\n",
    "    print(f\"가장 유사한 문서: {most_similar_doc}\")\n",
    "    print(f\"유사도: {similarity:.4f}\")\n",
    "    print()"
   ]
  },
  {
   "cell_type": "markdown",
   "id": "95d7177b",
   "metadata": {},
   "source": [
    "## 5. 다국어 RAG 시스템 구축 실습"
   ]
  },
  {
   "cell_type": "markdown",
   "id": "0693d5b9",
   "metadata": {},
   "source": [
    "### 5-1 언어 교차(cross-lingual) 검색"
   ]
  },
  {
   "cell_type": "markdown",
   "id": "e51c6bcf",
   "metadata": {},
   "source": [
    "`(1) 다국어 문서 로드 및 전처리` "
   ]
  },
  {
   "cell_type": "code",
   "execution_count": 58,
   "id": "26541439",
   "metadata": {},
   "outputs": [
    {
     "name": "stdout",
     "output_type": "stream",
     "text": [
      "한국어 텍스트 파일: ['data/리비안_KR.txt', 'data/테슬라_KR.txt']\n",
      "영어 텍스트 파일: ['data/Tesla_EN.txt', 'data/Rivian_EN.txt']\n"
     ]
    }
   ],
   "source": [
    "korean_txt_files = glob(os.path.join('data', '*_KR.txt')) \n",
    "english_txt_files = glob(os.path.join('data', '*_EN.txt'))\n",
    "\n",
    "print(\"한국어 텍스트 파일:\", korean_txt_files)\n",
    "print(\"영어 텍스트 파일:\", english_txt_files)"
   ]
  },
  {
   "cell_type": "code",
   "execution_count": 59,
   "id": "4b74f19d",
   "metadata": {},
   "outputs": [
    {
     "name": "stdout",
     "output_type": "stream",
     "text": [
      "한국어 데이터 수: 2\n",
      "영어 데이터 수: 2\n"
     ]
    }
   ],
   "source": [
    "from langchain_community.document_loaders import TextLoader\n",
    "\n",
    "def load_text_files(txt_files):\n",
    "    data = []\n",
    "\n",
    "    for text_file in txt_files:\n",
    "        loader = TextLoader(text_file, encoding='utf-8')\n",
    "        data += loader.load()\n",
    "\n",
    "    return data\n",
    "\n",
    "\n",
    "korean_data = load_text_files(korean_txt_files)\n",
    "english_data = load_text_files(english_txt_files)\n",
    "\n",
    "print(\"한국어 데이터 수:\", len(korean_data))\n",
    "print(\"영어 데이터 수:\", len(english_data))"
   ]
  },
  {
   "cell_type": "code",
   "execution_count": 60,
   "id": "e8bb6bf1",
   "metadata": {},
   "outputs": [
    {
     "name": "stdout",
     "output_type": "stream",
     "text": [
      "한국어 문서 수: 13\n",
      "영어 문서 수: 6\n"
     ]
    }
   ],
   "source": [
    "# 문장을 구분하여 분할 (마침표, 느낌표, 물음표 다음에 공백이 오는 경우 문장의 끝으로 판단)\n",
    "from langchain_text_splitters import CharacterTextSplitter\n",
    "\n",
    "text_splitter = CharacterTextSplitter.from_tiktoken_encoder(\n",
    "    model_name=\"text-embedding-3-small\",\n",
    "    separator=r\"[.!?]\\s+\",\n",
    "    chunk_size=100,\n",
    "    chunk_overlap=0,\n",
    "    is_separator_regex=True,\n",
    "    keep_separator=False,\n",
    ")\n",
    "\n",
    "korean_docs = text_splitter.split_documents(korean_data)\n",
    "english_docs = text_splitter.split_documents(english_data)\n",
    "\n",
    "print(\"한국어 문서 수:\", len(korean_docs))\n",
    "print(\"영어 문서 수:\", len(english_docs))"
   ]
  },
  {
   "cell_type": "code",
   "execution_count": 61,
   "id": "5d55f1b7",
   "metadata": {},
   "outputs": [
    {
     "name": "stdout",
     "output_type": "stream",
     "text": [
      "리비안은 MIT 박사 출신 RJ 스카린지가 2009년에 설립한 혁신적인 미국 전기차 제조업\n",
      "--------------------------------------------------\n",
      " MIT 박사 출신 RJ 스카린지가 2009년에 설립한 혁신적인 미국 전기차 제조업체입니다\n",
      "==================================================\n",
      "\n",
      "2011년부터 자율 전기차에 집중한 리비안은 2015년 대규모 투자를 통해 크게 성장하며 \n",
      "--------------------------------------------------\n",
      "은 2015년 대규모 투자를 통해 크게 성장하며 미시간과 베이 지역에 연구소를 설립했습니다\n",
      "==================================================\n",
      "\n"
     ]
    }
   ],
   "source": [
    "# 각 청크의 시작 부분과 끝 부분 확인\n",
    "for doc in korean_docs[:2]:\n",
    "    print(doc.page_content[:50])\n",
    "    print(\"-\" * 50)\n",
    "    print(doc.page_content[-50:])\n",
    "    print(\"=\" * 50)\n",
    "    print()"
   ]
  },
  {
   "cell_type": "code",
   "execution_count": 62,
   "id": "9124c455",
   "metadata": {},
   "outputs": [
    {
     "name": "stdout",
     "output_type": "stream",
     "text": [
      "Tesla, Inc., headquartered in Austin, Texas, is a \n",
      "--------------------------------------------------\n",
      ", steering the company towards its current success\n",
      "==================================================\n",
      "\n",
      "The company is named after the renowned physicist \n",
      "--------------------------------------------------\n",
      "umulative global sales exceeded 4,962,975 vehicles\n",
      "==================================================\n",
      "\n"
     ]
    }
   ],
   "source": [
    "# 각 청크의 시작 부분과 끝 부분 확인\n",
    "for doc in english_docs[:2]:\n",
    "    print(doc.page_content[:50])\n",
    "    print(\"-\" * 50)\n",
    "    print(doc.page_content[-50:])\n",
    "    print(\"=\" * 50)\n",
    "    print()"
   ]
  },
  {
   "cell_type": "markdown",
   "id": "aa5b01db",
   "metadata": {},
   "source": [
    "`(2) 문서 임베딩 및 벡터저장소에 저장 `  "
   ]
  },
  {
   "cell_type": "code",
   "execution_count": 63,
   "id": "abe717fa",
   "metadata": {},
   "outputs": [],
   "source": [
    "# OpenAI 임베딩 모델 생성\n",
    "embeddings_openai = OpenAIEmbeddings(model=\"text-embedding-3-small\")\n",
    "\n",
    "# Hugoing Face 임베딩 모델 생성\n",
    "embeddings_huggingface = HuggingFaceEmbeddings(model_name=\"BAAI/bge-m3\")\n",
    "\n",
    "# Ollama 임베딩 모델 생성\n",
    "embeddings_ollama = OllamaEmbeddings(model=\"nomic-embed-text\")"
   ]
  },
  {
   "cell_type": "code",
   "execution_count": 64,
   "id": "b7c2f9bd",
   "metadata": {},
   "outputs": [
    {
     "name": "stdout",
     "output_type": "stream",
     "text": [
      "OpenAI: 19\n",
      "Hugging Face: 19\n",
      "Ollama: 19\n"
     ]
    }
   ],
   "source": [
    "# 다국어 벡터 저장소 구축\n",
    "from langchain_chroma import Chroma\n",
    "\n",
    "db_openai = Chroma.from_documents(\n",
    "    documents=korean_docs+english_docs, \n",
    "    embedding=embeddings_openai,\n",
    "    collection_name=\"db_openai\",\n",
    "    persist_directory=\"./chroma_db\",\n",
    "    )\n",
    "\n",
    "db_huggingface = Chroma.from_documents(\n",
    "    documents=korean_docs+english_docs, \n",
    "    embedding=embeddings_huggingface,\n",
    "    collection_name=\"db_huggingface\",\n",
    "    persist_directory=\"./chroma_db\",\n",
    "    )\n",
    "\n",
    "db_ollama = Chroma.from_documents(\n",
    "    documents=korean_docs+english_docs, \n",
    "    embedding=embeddings_ollama,\n",
    "    collection_name=\"db_ollama\",\n",
    "    persist_directory=\"./chroma_db\",\n",
    "    )\n",
    "\n",
    "# 벡터 저장소에 저장된 문서 수\n",
    "print(f\"OpenAI: {db_openai._collection.count()}\")\n",
    "print(f\"Hugging Face: {db_huggingface._collection.count()}\")\n",
    "print(f\"Ollama: {db_ollama._collection.count()}\")"
   ]
  },
  {
   "cell_type": "markdown",
   "id": "1e791c6a",
   "metadata": {},
   "source": [
    "`(3) RAG 성능 비교 `  "
   ]
  },
  {
   "cell_type": "code",
   "execution_count": 65,
   "id": "fa08dbe9",
   "metadata": {},
   "outputs": [],
   "source": [
    "# RAG 체인 생성\n",
    "from langchain.prompts import ChatPromptTemplate\n",
    "from langchain_core.output_parsers import StrOutputParser\n",
    "from langchain_openai import ChatOpenAI\n",
    "from langchain_core.runnables import RunnablePassthrough\n",
    "\n",
    "template = \"\"\"Answer the question based only on the following context.\n",
    "Do not use any external information or knowledge. \n",
    "If the answer is not in the context, answer \"잘 모르겠습니다.\".\n",
    "\n",
    "[Context]\n",
    "{context}\n",
    "\n",
    "[Question] \n",
    "{question}\n",
    "\n",
    "[Answer]\n",
    "\"\"\"\n",
    "\n",
    "prompt = ChatPromptTemplate.from_template(template)\n",
    "\n",
    "\n",
    "# 문서 포맷터 함수\n",
    "def format_docs(docs):\n",
    "    return \"\\n\\n\".join([d.page_content for d in docs])\n",
    "\n",
    "\n",
    "# LLM 모델 생성\n",
    "llm = ChatOpenAI(model=\"gpt-4o-mini\", temperature=0)\n",
    "\n",
    "# 체인 생성\n",
    "def create_rag_chain(vectorstore):\n",
    "\n",
    "    retriever = vectorstore.as_retriever(search_kwargs={'k': 2})\n",
    "\n",
    "    return (\n",
    "        {\"context\": retriever | format_docs , \"question\": RunnablePassthrough()}\n",
    "        | prompt\n",
    "        | llm\n",
    "        | StrOutputParser()\n",
    "    )"
   ]
  },
  {
   "cell_type": "code",
   "execution_count": 66,
   "id": "50d52cf3",
   "metadata": {},
   "outputs": [],
   "source": [
    "# 체인 생성\n",
    "rag_chain_openai = create_rag_chain(db_openai)\n",
    "rag_chain_huggingface = create_rag_chain(db_huggingface)\n",
    "rag_chain_ollama = create_rag_chain(db_ollama)"
   ]
  },
  {
   "cell_type": "code",
   "execution_count": 67,
   "id": "52bc778f",
   "metadata": {},
   "outputs": [
    {
     "name": "stdout",
     "output_type": "stream",
     "text": [
      "OpenAI: 마틴 에버하드와 마크 타페닝입니다.\n",
      "Hugging Face: 마틴 에버하드와 마크 타페닝입니다.\n",
      "Ollama: 잘 모르겠습니다.\n"
     ]
    }
   ],
   "source": [
    "# 한국어 쿼리에 대한 성능 평가\n",
    "query_ko = \"테슬라 창업자는 누구인가요?\"\n",
    "\n",
    "# OpenAI\n",
    "output_openai = rag_chain_openai.invoke(query_ko)\n",
    "print(\"OpenAI:\", output_openai)\n",
    "\n",
    "# Hugging Face\n",
    "output_huggingface = rag_chain_huggingface.invoke(query_ko)\n",
    "print(\"Hugging Face:\", output_huggingface)\n",
    "\n",
    "# Ollama\n",
    "output_ollama = rag_chain_ollama.invoke(query_ko)\n",
    "print(\"Ollama:\", output_ollama)"
   ]
  },
  {
   "cell_type": "code",
   "execution_count": 68,
   "id": "dc23ea46",
   "metadata": {},
   "outputs": [
    {
     "name": "stdout",
     "output_type": "stream",
     "text": [
      "OpenAI: Tesla was founded by Martin Eberhard and Marc Tarpenning.\n",
      "Hugging Face: Tesla was founded by Martin Eberhard and Marc Tarpenning.\n",
      "Ollama: Martin Eberhard and Marc Tarpenning are the founders of Tesla.\n"
     ]
    }
   ],
   "source": [
    "# 영어 쿼리에 대한 성능 평가\n",
    "query_en = \"Who is the founder of Tesla?\"\n",
    "\n",
    "# OpenAI\n",
    "output_openai = rag_chain_openai.invoke(query_en)\n",
    "print(\"OpenAI:\", output_openai)\n",
    "\n",
    "# Hugging Face\n",
    "output_huggingface = rag_chain_huggingface.invoke(query_en)\n",
    "print(\"Hugging Face:\", output_huggingface)\n",
    "\n",
    "# Ollama\n",
    "output_ollama = rag_chain_ollama.invoke(query_en)\n",
    "print(\"Ollama:\", output_ollama)"
   ]
  },
  {
   "cell_type": "markdown",
   "id": "f70818e6",
   "metadata": {},
   "source": [
    "### 5-2 언어 감지 및 자동번역 통합 "
   ]
  },
  {
   "cell_type": "markdown",
   "id": "a19b80a6",
   "metadata": {},
   "source": [
    "`(1) 한국어 문서 벡터저장소 로드 `  "
   ]
  },
  {
   "cell_type": "code",
   "execution_count": 71,
   "id": "012a1ef5",
   "metadata": {},
   "outputs": [
    {
     "name": "stdout",
     "output_type": "stream",
     "text": [
      "벡터 저장소에 저장된 문서 수: 5\n"
     ]
    }
   ],
   "source": [
    "# 한국어 문서로 저장되어 있는 벡터 저장소 로드\n",
    "from langchain_chroma import Chroma\n",
    "from langchain_openai import OpenAIEmbeddings\n",
    "\n",
    "embeddings = OpenAIEmbeddings(\n",
    "    model=\"text-embedding-3-small\", \n",
    ")\n",
    "\n",
    "vectorstore = Chroma(\n",
    "    embedding_function=embeddings,\n",
    "    collection_name=\"chroma_test\",\n",
    "    persist_directory=\"./chroma_db\",\n",
    "    )\n",
    "\n",
    "print(f\"벡터 저장소에 저장된 문서 수: {vectorstore._collection.count()}\")"
   ]
  },
  {
   "cell_type": "code",
   "execution_count": 74,
   "id": "21796bf9",
   "metadata": {},
   "outputs": [
    {
     "name": "stdout",
     "output_type": "stream",
     "text": [
      "Detected language: en\n",
      "Translated text: 안녕하세요. 안녕하세요?\n"
     ]
    }
   ],
   "source": [
    "import deepl\n",
    "from langdetect import detect\n",
    "\n",
    "translator = deepl.Translator(os.getenv('DEEPL_API_KEY'))\n",
    "\n",
    "def detect_and_translate(text, target_lang='KO'):\n",
    "    detected_lang = detect(text)\n",
    "    if detected_lang.upper() != target_lang:\n",
    "        result = translator.translate_text(text, target_lang=target_lang)\n",
    "        return str(result), detected_lang\n",
    "    return text, detected_lang\n",
    "\n",
    "# 문서 번역 테스트\n",
    "text = \"Hello. How are you?\"\n",
    "translated_text, detected_lang = detect_and_translate(text, target_lang='KO')\n",
    "print(f\"Detected language: {detected_lang}\")\n",
    "print(f\"Translated text: {translated_text}\")"
   ]
  },
  {
   "cell_type": "markdown",
   "id": "d44368c9",
   "metadata": {},
   "source": [
    "`(2) RAG 체인 성능 평가 `  "
   ]
  },
  {
   "cell_type": "code",
   "execution_count": 75,
   "id": "bd44fdc2",
   "metadata": {},
   "outputs": [],
   "source": [
    "retriever = vectorstore.as_retriever(search_kwargs={'k': 2})\n",
    "\n",
    "lang_rag_chain = (\n",
    "        {\"context\": retriever | format_docs , \"question\": RunnablePassthrough()}\n",
    "        | prompt\n",
    "        | llm\n",
    "        | StrOutputParser()\n",
    "    )\n",
    "\n",
    "# 체인 실행 함수\n",
    "def run_lang_rag_chain(query):\n",
    "    original_lang = detect(query)\n",
    "    \n",
    "    if original_lang.upper() != 'KO':\n",
    "        translated_query, _ = detect_and_translate(query, target_lang='KO')\n",
    "    else:\n",
    "        translated_query = query\n",
    "    \n",
    "    output = lang_rag_chain.invoke(translated_query)\n",
    "    \n",
    "    if original_lang.upper() != 'KO':\n",
    "        target_lang = 'EN-US' if original_lang.upper() == 'EN' else original_lang\n",
    "        output, _ = detect_and_translate(output, target_lang=target_lang)\n",
    "    \n",
    "    return output\n",
    "    "
   ]
  },
  {
   "cell_type": "code",
   "execution_count": 76,
   "id": "5dea660b",
   "metadata": {},
   "outputs": [
    {
     "name": "stdout",
     "output_type": "stream",
     "text": [
      "마틴 에버하드와 마크 타페닝입니다.\n",
      "Martin Everhard and Mark Tappening.\n"
     ]
    }
   ],
   "source": [
    "# 한국어 쿼리에 대한 성능 평가\n",
    "query_ko = \"테슬라 창업자는 누구인가요?\"\n",
    "\n",
    "output = run_lang_rag_chain(query_ko)\n",
    "print(output)\n",
    "\n",
    "# 영어 쿼리에 대한 성능 평가\n",
    "query_en = \"Who is the founder of Tesla?\"\n",
    "\n",
    "output = run_lang_rag_chain(query_en)\n",
    "print(output)"
   ]
  },
  {
   "cell_type": "markdown",
   "id": "031d5de6",
   "metadata": {},
   "source": [
    "### 5-3 언어 감지 및 벡터저장소 라우팅"
   ]
  },
  {
   "cell_type": "markdown",
   "id": "0ea5168a",
   "metadata": {},
   "source": [
    "`(1) 언어별 벡터저장소 생성 `  "
   ]
  },
  {
   "cell_type": "code",
   "execution_count": 77,
   "id": "4fdd2bd6",
   "metadata": {},
   "outputs": [
    {
     "name": "stdout",
     "output_type": "stream",
     "text": [
      "한국어: 13\n",
      "영어: 6\n"
     ]
    }
   ],
   "source": [
    "# 한국어 문서, 영어 문서를 각각 다른 벡터 저장소에 저장\n",
    "db_korean = Chroma.from_documents(\n",
    "    documents=korean_docs, \n",
    "    embedding=embeddings_huggingface,    # huggingface 임베딩 사용\n",
    "    collection_name=\"db_korean\",\n",
    "    persist_directory=\"./chroma_db\",\n",
    "    )\n",
    "\n",
    "db_english = Chroma.from_documents(\n",
    "    documents=english_docs, \n",
    "    embedding=embeddings_ollama,        # ollama 임베딩 사용\n",
    "    collection_name=\"db_english\",\n",
    "    persist_directory=\"./chroma_db\",\n",
    "    )\n",
    "\n",
    "# 벡터 저장소에 저장된 문서 수\n",
    "print(f\"한국어: {db_korean._collection.count()}\")\n",
    "print(f\"영어: {db_english._collection.count()}\")"
   ]
  },
  {
   "cell_type": "markdown",
   "id": "66434a3c",
   "metadata": {},
   "source": [
    "`(2) RAG 체인 성능 평가 `  "
   ]
  },
  {
   "cell_type": "code",
   "execution_count": 78,
   "id": "002d911c",
   "metadata": {},
   "outputs": [
    {
     "name": "stdout",
     "output_type": "stream",
     "text": [
      "마틴 에버하드와 마크 타페닝입니다.\n",
      "Tesla was founded by Martin Eberhard and Marc Tarpenning.\n"
     ]
    }
   ],
   "source": [
    "# 체인 실행 함수\n",
    "from langdetect import detect\n",
    "\n",
    "rag_chain_korean = create_rag_chain(db_korean)\n",
    "rag_chain_english = create_rag_chain(db_english)\n",
    "\n",
    "\n",
    "def run_route_rag_chain(query):\n",
    "    original_lang = detect(query)\n",
    "    \n",
    "    if original_lang.upper() == 'KO':\n",
    "        return rag_chain_korean.invoke(query)\n",
    "        \n",
    "    elif original_lang.upper() == 'EN' :\n",
    "        return rag_chain_english.invoke(query)\n",
    "    \n",
    "    else:\n",
    "        return \"잘 모르겠습니다.\"\n",
    "    \n",
    "# 한국어 쿼리에 대한 성능 평가\n",
    "query_ko = \"테슬라 창업자는 누구인가요?\"\n",
    "\n",
    "output = run_route_rag_chain(query_ko)\n",
    "print(output)\n",
    "\n",
    "# 영어 쿼리에 대한 성능 평가\n",
    "query_en = \"Who is the founder of Tesla?\"\n",
    "\n",
    "output = run_route_rag_chain(query_en)\n",
    "print(output)"
   ]
  },
  {
   "cell_type": "markdown",
   "id": "fceb9f42",
   "metadata": {},
   "source": [
    "## 6. Gradio 챗봇"
   ]
  },
  {
   "cell_type": "markdown",
   "id": "c57035b9",
   "metadata": {},
   "source": [
    "`(1) invoke 실행` \n",
    "\n",
    "- chat history 기능을 추가"
   ]
  },
  {
   "cell_type": "code",
   "execution_count": 79,
   "id": "8b207180",
   "metadata": {},
   "outputs": [
    {
     "name": "stdout",
     "output_type": "stream",
     "text": [
      "Running on local URL:  http://127.0.0.1:7860\n",
      "\n",
      "To create a public link, set `share=True` in `launch()`.\n"
     ]
    },
    {
     "data": {
      "text/html": [
       "<div><iframe src=\"http://127.0.0.1:7860/\" width=\"100%\" height=\"500\" allow=\"autoplay; camera; microphone; clipboard-read; clipboard-write;\" frameborder=\"0\" allowfullscreen></iframe></div>"
      ],
      "text/plain": [
       "<IPython.core.display.HTML object>"
      ]
     },
     "metadata": {},
     "output_type": "display_data"
    },
    {
     "data": {
      "text/plain": []
     },
     "execution_count": 79,
     "metadata": {},
     "output_type": "execute_result"
    }
   ],
   "source": [
    "import gradio as gr\n",
    "from langchain_core.messages import HumanMessage, AIMessage\n",
    "\n",
    "# 답변 생성 모델을 별도로 사용\n",
    "answer_llm = ChatOpenAI(model=\"gpt-4o-mini\", temperature=0)\n",
    "\n",
    "\n",
    "def answer_invoke(message, history):\n",
    "    history_langchain_format = []\n",
    "    for human, ai in history:\n",
    "        history_langchain_format.append(HumanMessage(content=human))\n",
    "        history_langchain_format.append(AIMessage(content=ai))\n",
    "    history_langchain_format.append(HumanMessage(content=message))\n",
    "\n",
    "    # 현재 메시지에 대해 RAG 체인 실행\n",
    "    rag_response = run_route_rag_chain(message)\n",
    "\n",
    "    # 답변 생성 모델에게 현재 메시지에 대한 답변 요청\n",
    "    final_answer = answer_llm.invoke(\n",
    "        history_langchain_format[:-1] + [AIMessage(content=rag_response)] + [HumanMessage(content=message)]\n",
    "    )\n",
    "    \n",
    "    return final_answer.content\n",
    "\n",
    "\n",
    "# Graiio 인터페이스 생성 \n",
    "demo = gr.ChatInterface(fn=answer_invoke, title=\"QA Bot\")\n",
    "\n",
    "# Graiio 실행  \n",
    "demo.launch()"
   ]
  },
  {
   "cell_type": "code",
   "execution_count": 80,
   "id": "82f7a6d2",
   "metadata": {},
   "outputs": [
    {
     "name": "stdout",
     "output_type": "stream",
     "text": [
      "Closing server running on port: 7860\n"
     ]
    }
   ],
   "source": [
    "# Graiio 종료\n",
    "demo.close()"
   ]
  },
  {
   "cell_type": "code",
   "execution_count": null,
   "id": "5b16b8d4",
   "metadata": {},
   "outputs": [],
   "source": []
  }
 ],
 "metadata": {
  "kernelspec": {
   "display_name": "Python 3 (ipykernel)",
   "language": "python",
   "name": "python3"
  },
  "language_info": {
   "codemirror_mode": {
    "name": "ipython",
    "version": 3
   },
   "file_extension": ".py",
   "mimetype": "text/x-python",
   "name": "python",
   "nbconvert_exporter": "python",
   "pygments_lexer": "ipython3",
   "version": "3.11.9"
  }
 },
 "nbformat": 4,
 "nbformat_minor": 5
}
